{
 "cells": [
  {
   "cell_type": "code",
   "execution_count": 40,
   "metadata": {},
   "outputs": [
    {
     "name": "stdout",
     "output_type": "stream",
     "text": [
      "The autoreload extension is already loaded. To reload it, use:\n",
      "  %reload_ext autoreload\n"
     ]
    }
   ],
   "source": [
    "import numpy as np\n",
    "import scipy.integrate as integrate\n",
    "from numpy.linalg import inv\n",
    "import math as m\n",
    "from functions import *\n",
    "import importlib\n",
    "\n",
    "%load_ext autoreload\n",
    "\n",
    "%autoreload 2\n",
    "\n",
    "np.set_printoptions(suppress=True)"
   ]
  },
  {
   "attachments": {},
   "cell_type": "markdown",
   "metadata": {},
   "source": [
    "This next block will create a class for all of our inputs to be placed into. This will allow for all inputs to have easily accessed names, values, and units."
   ]
  },
  {
   "cell_type": "code",
   "execution_count": 41,
   "metadata": {},
   "outputs": [],
   "source": [
    "class Input:\n",
    "    def __init__(self, name, value, unit):\n",
    "        self.name = name\n",
    "        self.value = value\n",
    "        #self.valueType = type(value)\n",
    "        self.unit = unit\n",
    "    \n",
    "    def printValues(self):\n",
    "        print(\"\\n\")\n",
    "        for attr, value in self.__dict__.items():\n",
    "            print(f\"{attr}: {value}\")"
   ]
  },
  {
   "attachments": {},
   "cell_type": "markdown",
   "metadata": {},
   "source": [
    "# Please fill in all inputs and their units below\n",
    "# v v v v v v v v v v v v v v v v v v v v v v v v v v v v v v v v v v v v v v v "
   ]
  },
  {
   "attachments": {},
   "cell_type": "markdown",
   "metadata": {},
   "source": [
    "Units Set: ksi, kip, in, in2"
   ]
  },
  {
   "cell_type": "code",
   "execution_count": 42,
   "metadata": {},
   "outputs": [
    {
     "name": "stdout",
     "output_type": "stream",
     "text": [
      "Error! Inputs do not have the same amount of nodes or elements!\n"
     ]
    }
   ],
   "source": [
    "YoungsModulus = 30000\n",
    "YM_Unit = \"ksi\"\n",
    "\n",
    "Area = 1\n",
    "A_Unit = \"in2\"\n",
    "\n",
    "#is it symmetric? if so, about what element?\n",
    "Symmetric = True\n",
    "SymmetryAbout = 11\n",
    "\n",
    "P = -20\n",
    "Force_Unit = \"kip\"\n",
    "\n",
    "# node connections for each element\n",
    "nArray = np.array([[1,2], [1,3], [2,3], [2,4], [3,4], [3,5], [4,5], [4,6], [5,6], [5,7], [6,7]])\n",
    "\n",
    "# list of lengths corresponding to each element\n",
    "# the length of element n is contained in lengths\n",
    "lArray = np.array([5, 3, 4.8023431781, 3.25, 3.75, 3, 3.905124838, 3.25, 2.5, 3, 3.25, 3.25, 1.25, 3, 3.25])\n",
    "lArray *= 1000\n",
    "\n",
    "Length_unit = \"mm\"\n",
    "\n",
    "# list of angles relative to positive x axis for each element\n",
    "theta = m.asin(5/13)\n",
    "aArray = np.array([(1.5*m.pi), 0, -(m.atan(3.75/3)), theta, 1.5*m.pi, 0, -(m.atan(2.5/3)), theta, 1.5*m.pi, 0, -(m.atan(1.25/3)), theta, 1.5*m.pi, 0, theta])\n",
    "\n",
    "Angle_unit = \"rad\"\n",
    "\n",
    "# input boundary conditions below\n",
    "# for displacements: [node#, u, v]\n",
    "# for forces: [node#, Fx, Fy]\n",
    "\n",
    "uv_BCs = np.array([[1, 0, 0],[2, 0, None]])\n",
    "\n",
    "force_BCs = np.array([[1, None, None], [2, None, 0], [3, 0, P],[5, 0, P], [7, 0, P], [9, 0, P]])\n",
    "\n",
    "if len(aArray) != len(lArray) or len(nArray) != len(lArray) or len(nArray) != len(aArray):\n",
    "    print(\"Error! Inputs do not have the same amount of nodes or elements!\")"
   ]
  },
  {
   "attachments": {},
   "cell_type": "markdown",
   "metadata": {},
   "source": [
    "# ^^^^^^^^^^^^^^^^^^^^^^^^^^^^^^^^^^^^^^^^^^^"
   ]
  },
  {
   "cell_type": "code",
   "execution_count": 43,
   "metadata": {},
   "outputs": [
    {
     "name": "stdout",
     "output_type": "stream",
     "text": [
      "\n",
      "\n",
      "name: Node numbers\n",
      "value: [[1 2]\n",
      " [1 3]\n",
      " [2 3]\n",
      " [2 4]\n",
      " [3 4]\n",
      " [3 5]\n",
      " [4 5]\n",
      " [4 6]\n",
      " [5 6]\n",
      " [5 7]\n",
      " [6 7]]\n",
      "unit: None\n",
      "\n",
      "\n",
      "name: Lengths\n",
      "value: [5000.        3000.        4802.3431781 3250.        3750.\n",
      " 3000.        3905.124838  3250.        2500.        3000.\n",
      " 3250.        3250.        1250.        3000.        3250.       ]\n",
      "unit: mm\n",
      "\n",
      "\n",
      "name: Element Angles (relative to the positive x axis)\n",
      "value: [ 4.71238898  0.         -0.89605538  0.39479112  4.71238898  0.\n",
      " -0.69473828  0.39479112  4.71238898  0.         -0.39479112  0.39479112\n",
      "  4.71238898  0.          0.39479112]\n",
      "unit: rad\n"
     ]
    }
   ],
   "source": [
    "E = Input(\"Young's Modulus\", YoungsModulus, YM_Unit)\n",
    "E.printValues()\n",
    "\n",
    "if Symmetric == False:\n",
    "    A = Input(\"Area\", Area, A_Unit)\n",
    "    A.printValues()\n",
    "\n",
    "nodes = Input(\"Node numbers\", nArray, \"None\")\n",
    "nodes.printValues()\n",
    "\n",
    "lengths = Input(\"Lengths\", lArray, Length_unit)\n",
    "lengths.printValues()\n",
    "\n",
    "angles = Input(\"Element Angles (relative to the positive x axis)\", aArray, Angle_unit)\n",
    "angles.printValues()"
   ]
  },
  {
   "attachments": {},
   "cell_type": "markdown",
   "metadata": {},
   "source": [
    "number of elements is the number of rows in nodes\n",
    "<br>number of nodes is the maximum number found in nodes"
   ]
  },
  {
   "cell_type": "code",
   "execution_count": 44,
   "metadata": {},
   "outputs": [
    {
     "name": "stdout",
     "output_type": "stream",
     "text": [
      "Number of elements: 11\n",
      "Number of nodes: 7\n"
     ]
    }
   ],
   "source": [
    "numElems = len(nodes.value)\n",
    "print(f\"Number of elements: {numElems}\")\n",
    "numNodes = nodes.value.max()\n",
    "print(f\"Number of nodes: {numNodes}\")"
   ]
  },
  {
   "attachments": {},
   "cell_type": "markdown",
   "metadata": {},
   "source": [
    "Symmetry Code"
   ]
  },
  {
   "cell_type": "code",
   "execution_count": 45,
   "metadata": {},
   "outputs": [
    {
     "name": "stdout",
     "output_type": "stream",
     "text": [
      "[1.  1.  1.  1.  1.  1.  1.  1.  1.  1.  0.5]\n",
      "\n",
      "\n",
      "name: Area\n",
      "value: [1.  1.  1.  1.  1.  1.  1.  1.  1.  1.  0.5]\n",
      "unit: in2\n"
     ]
    }
   ],
   "source": [
    "if Symmetric == True:\n",
    "    areas = np.full((numElems), Area, dtype=float)\n",
    "    areas[SymmetryAbout - 1] = Area/2\n",
    "\n",
    "    print(areas)\n",
    "\n",
    "    A = Input(\"Area\", areas, A_Unit)\n",
    "    A.printValues()"
   ]
  },
  {
   "attachments": {},
   "cell_type": "markdown",
   "metadata": {},
   "source": [
    "two reactions per node\n",
    "<br>uvList -> list of unknowns (node displacements)\n",
    "<br>we can input our known values -> fixed_nodes at nodes 4 & 5\n",
    "<br>these fixed nodes numbers are taken straight from diagram (not adjusted for python counting)\n",
    "<br><br>u and v for any given node is given as (node# - 1)* 2 and ((node# -1)* 2) + 1 respectively.\n"
   ]
  },
  {
   "cell_type": "code",
   "execution_count": 46,
   "metadata": {},
   "outputs": [
    {
     "name": "stdout",
     "output_type": "stream",
     "text": [
      "displacement bcs: [node number, x disp (u), y disp (v)]\n",
      "[[1 0 0]\n",
      " [2 0 None]]\n",
      "adjusting array to account for: displacements boundary conditions\n",
      "case 1 for BC 1\n",
      "Case 2 for BC 1\n",
      "case 1 for BC 2\n",
      "case 4 for BC 2\n",
      "done adjusting displacements array!\n",
      "u & v list:\n",
      "[0, 0, 0, None, None, None, None, None, None, None, None, None, None, None]\n"
     ]
    }
   ],
   "source": [
    "uvList = [None]*(numNodes*2)\n",
    "print(\"displacement bcs: [node number, x disp (u), y disp (v)]\")\n",
    "print(uv_BCs)\n",
    "\n",
    "adjust_array(uvList, uv_BCs, \"displacements\")\n",
    "print(\"u & v list:\")\n",
    "print(uvList)"
   ]
  },
  {
   "attachments": {},
   "cell_type": "markdown",
   "metadata": {},
   "source": [
    "Same procedure as displacement BCs for forces\n",
    "<br>Input BCs given as : [node #, x force, y force]"
   ]
  },
  {
   "cell_type": "code",
   "execution_count": 47,
   "metadata": {},
   "outputs": [
    {
     "name": "stdout",
     "output_type": "stream",
     "text": [
      "number of nodes with concentrated loads: 4\n",
      "at nodes: [2, 4, 6, 8] (Python adjusted nodes)\n",
      "adjusting array to account for: forces boundary conditions\n",
      "case 1 for BC 1\n",
      "Case 2 for BC 1\n",
      "case 1 for BC 2\n",
      "case 4 for BC 2\n",
      "case 3 for BC 3\n",
      "Case 2 for BC 3\n",
      "case 3 for BC 4\n",
      "Case 2 for BC 4\n",
      "case 3 for BC 5\n",
      "Case 2 for BC 5\n"
     ]
    },
    {
     "ename": "IndexError",
     "evalue": "index 16 is out of bounds for axis 0 with size 14",
     "output_type": "error",
     "traceback": [
      "\u001b[1;31m---------------------------------------------------------------------------\u001b[0m",
      "\u001b[1;31mIndexError\u001b[0m                                Traceback (most recent call last)",
      "\u001b[1;32m~\\AppData\\Local\\Temp\\ipykernel_41848\\3710998152.py\u001b[0m in \u001b[0;36m<module>\u001b[1;34m\u001b[0m\n\u001b[0;32m     16\u001b[0m \u001b[1;33m\u001b[0m\u001b[0m\n\u001b[0;32m     17\u001b[0m \u001b[1;31m#adjust force array given concentrated loading conditions\u001b[0m\u001b[1;33m\u001b[0m\u001b[1;33m\u001b[0m\u001b[0m\n\u001b[1;32m---> 18\u001b[1;33m \u001b[0madjust_array\u001b[0m\u001b[1;33m(\u001b[0m\u001b[0mforceList\u001b[0m\u001b[1;33m,\u001b[0m \u001b[0mforce_BCs\u001b[0m\u001b[1;33m,\u001b[0m \u001b[1;34m\"forces\"\u001b[0m\u001b[1;33m)\u001b[0m\u001b[1;33m\u001b[0m\u001b[1;33m\u001b[0m\u001b[0m\n\u001b[0m\u001b[0;32m     19\u001b[0m \u001b[1;33m\u001b[0m\u001b[0m\n\u001b[0;32m     20\u001b[0m \u001b[0mprint\u001b[0m\u001b[1;33m(\u001b[0m\u001b[1;34mf\"force list: \\n{forceList}\"\u001b[0m\u001b[1;33m)\u001b[0m\u001b[1;33m\u001b[0m\u001b[1;33m\u001b[0m\u001b[0m\n",
      "\u001b[1;32mc:\\Users\\tim\\OneDrive\\Documents\\GitHub\\comp-hw-time\\functions.py\u001b[0m in \u001b[0;36madjust_array\u001b[1;34m(ArrayToAdjust, Given_BCs, tag)\u001b[0m\n\u001b[0;32m     54\u001b[0m         \u001b[1;31m#Check: does the given BC match the current array element? if it doesn't, then change the array to the given BC.\u001b[0m\u001b[1;33m\u001b[0m\u001b[1;33m\u001b[0m\u001b[0m\n\u001b[0;32m     55\u001b[0m         \u001b[1;31m#this is done like this such that it works for both forces and displacements\u001b[0m\u001b[1;33m\u001b[0m\u001b[1;33m\u001b[0m\u001b[0m\n\u001b[1;32m---> 56\u001b[1;33m         \u001b[1;32mif\u001b[0m \u001b[0mGiven_BCs\u001b[0m\u001b[1;33m[\u001b[0m\u001b[0mi\u001b[0m\u001b[1;33m,\u001b[0m\u001b[1;36m1\u001b[0m\u001b[1;33m]\u001b[0m \u001b[1;33m!=\u001b[0m \u001b[0mArrayToAdjust\u001b[0m\u001b[1;33m[\u001b[0m\u001b[0madjustedNode\u001b[0m\u001b[1;33m]\u001b[0m\u001b[1;33m:\u001b[0m\u001b[1;33m\u001b[0m\u001b[1;33m\u001b[0m\u001b[0m\n\u001b[0m\u001b[0;32m     57\u001b[0m             \u001b[0mprint\u001b[0m\u001b[1;33m(\u001b[0m\u001b[1;34m\"case 1 for BC \"\u001b[0m \u001b[1;33m+\u001b[0m \u001b[0mstr\u001b[0m\u001b[1;33m(\u001b[0m\u001b[0mi\u001b[0m\u001b[1;33m+\u001b[0m\u001b[1;36m1\u001b[0m\u001b[1;33m)\u001b[0m\u001b[1;33m)\u001b[0m\u001b[1;33m\u001b[0m\u001b[1;33m\u001b[0m\u001b[0m\n\u001b[0;32m     58\u001b[0m             \u001b[0mArrayToAdjust\u001b[0m\u001b[1;33m[\u001b[0m\u001b[0madjustedNode\u001b[0m\u001b[1;33m]\u001b[0m \u001b[1;33m=\u001b[0m \u001b[0mnodeXCondition\u001b[0m\u001b[1;33m\u001b[0m\u001b[1;33m\u001b[0m\u001b[0m\n",
      "\u001b[1;31mIndexError\u001b[0m: index 16 is out of bounds for axis 0 with size 14"
     ]
    }
   ],
   "source": [
    "#forceList = [0]*(numNodes*2)\n",
    "forceList = np.zeros(((numNodes*2), 1))\n",
    "\n",
    "nodesWithLoads = []\n",
    "\n",
    "loadedNodes = 0\n",
    "\n",
    "for i in range(len(force_BCs)):\n",
    "    if (force_BCs[i,1]!= None and force_BCs[i,1] != 0) or (force_BCs[i,2] != None and force_BCs[i,2] != 0):\n",
    "        loadedNodes += 1\n",
    "        nodesWithLoads.append((force_BCs[i,0] - 1))\n",
    "\n",
    "\n",
    "print(f\"number of nodes with concentrated loads: {loadedNodes}\")\n",
    "print(f\"at nodes: {nodesWithLoads} (Python adjusted nodes)\")\n",
    "\n",
    "#adjust force array given concentrated loading conditions\n",
    "adjust_array(forceList, force_BCs, \"forces\")\n",
    "\n",
    "print(f\"force list: \\n{forceList}\")"
   ]
  },
  {
   "attachments": {},
   "cell_type": "markdown",
   "metadata": {},
   "source": [
    "Global [k] matrix is a symmetric array of shape (numNodes x 2, numNodes x 2)\n",
    "<br>Bar Constants are one per element, stored in a numElemes * 1 array."
   ]
  },
  {
   "cell_type": "code",
   "execution_count": null,
   "metadata": {},
   "outputs": [],
   "source": [
    "globalK = np.zeros(((numNodes*2),(numNodes*2)))\n",
    "print(f\"Global K array dimensions: {globalK.shape}\")\n",
    "\n",
    "barConstant = np.zeros((numElems,1))\n",
    "for i in range(numElems):\n",
    "    barConstant[i] = (E.value*A.value)/lengths.value[i]\n",
    "\n",
    "print(f\"Bar Constants = \\n{barConstant}\")"
   ]
  },
  {
   "attachments": {},
   "cell_type": "markdown",
   "metadata": {},
   "source": [
    "## Creating the finite element equation for each Truss Element\n",
    "### Combining into the global K array"
   ]
  },
  {
   "cell_type": "code",
   "execution_count": null,
   "metadata": {},
   "outputs": [],
   "source": [
    "for i in range(numElems):\n",
    "    kMatrix = create_truss_k(angles.value[i])\n",
    "    kMatrix *= barConstant[i]\n",
    "    print(f\"\\nk matrix for element {i+1}: \\n{kMatrix}\")\n",
    "    #print(kMatrix)\n",
    "    startNode = nodes.value[i,0]\n",
    "    endNode = nodes.value[i,1]\n",
    "    print(f\"Element {i+1} starting at node: {startNode} and ending at node: {endNode}\")\n",
    "    #print(np.vsplit(kMatrix, 2))\n",
    "    Sn = (startNode - 1)*2\n",
    "    En = (endNode - 1)*2\n",
    "    #first, adjust 0,0 -> then, 2,0; 0,2; and 2,2\n",
    "    block_array_adjust(Sn, Sn, globalK, 0, 0, kMatrix)\n",
    "    block_array_adjust(En, Sn, globalK, 2, 0, kMatrix)\n",
    "    block_array_adjust(Sn, En, globalK, 0, 2, kMatrix)\n",
    "    block_array_adjust(En, En, globalK, 2, 2, kMatrix)\n",
    "\n",
    "print(f\"\\nGlobal K matrix: \\n{globalK}\")\n",
    "unmodified_globalK = globalK.copy()\n",
    "check_Symmetric(globalK)"
   ]
  },
  {
   "cell_type": "code",
   "execution_count": null,
   "metadata": {},
   "outputs": [],
   "source": [
    "j = 0\n",
    "while j < numNodes*2:\n",
    "    print(f\"{j}\")\n",
    "    #if j in nodesWithLoads:\n",
    "     #   j+=2\n",
    "    #first case: displacement BC = 0. In this case, set combined force values to 0, and alter \n",
    "    #globalK to reflect the changes.\n",
    "    if uvList[j] == 0:\n",
    "        print(f\"u = 0 at row: {j}\")\n",
    "        forceList[j] = 0 \n",
    "        globalK[j] = 0\n",
    "        globalK[j,j] = 1\n",
    "        j+=1\n",
    "    elif uvList[j] == None:\n",
    "        print(f\"none detected at row {j}\")\n",
    "        j+=1\n",
    "    else: #when we have a known, non-zero displacement boundary condition\n",
    "        #alter global stiffness to all zeros and one 1, and set force equal to displacement BC\n",
    "        print(f\"row {j} altered\")\n",
    "        print(uvList[j])\n",
    "        forceList[j] = uvList[j]\n",
    "        for c in range(numNodes):\n",
    "            if (globalK[j,c] > 0) == True:\n",
    "                globalK[j,c] = 1\n",
    "            else:\n",
    "                globalK[j,c] = 0\n",
    "        j+=1\n",
    "\n",
    "                \n",
    "print(globalK)\n",
    "print(forceList)"
   ]
  },
  {
   "cell_type": "code",
   "execution_count": null,
   "metadata": {},
   "outputs": [],
   "source": [
    "#globalK.round(0)\n",
    "globalK_inv = inv(globalK)\n",
    "#print(globalK_inv)\n",
    "\n",
    "node = 1\n",
    "\n",
    "uFinal = np.matmul(globalK_inv, forceList)\n",
    "\n",
    "for i in range(len(uFinal)):\n",
    "    if check_even(i) == True:\n",
    "        print(f\"u{node} = {uFinal[i]}\")\n",
    "    else:\n",
    "        print(f\"v{node} = {uFinal[i]}\")\n",
    "        node += 1 "
   ]
  },
  {
   "attachments": {},
   "cell_type": "markdown",
   "metadata": {},
   "source": [
    "Forces can be found from [K]*[u]"
   ]
  },
  {
   "cell_type": "code",
   "execution_count": null,
   "metadata": {},
   "outputs": [],
   "source": [
    "forcesFinal = np.matmul(unmodified_globalK, uFinal)\n",
    "for i in range(len(forceList)):\n",
    "    if forceList[i] != forcesFinal[i] and forceList[i] != 0 and forceList[i] != None:\n",
    "        forcesFinal[i] = forceList[i]\n",
    "print(f\"Final Forces: \\n{forcesFinal}\")\n",
    "\n",
    "node = 1\n",
    "\n",
    "for i in range(len(forcesFinal)):\n",
    "    if check_even(i) == True:\n",
    "        print(f\"fx{node} = {forcesFinal[i]}\")\n",
    "    else:\n",
    "        print(f\"fy{node} = {forcesFinal[i]}\")\n",
    "        node += 1 \n"
   ]
  },
  {
   "attachments": {},
   "cell_type": "markdown",
   "metadata": {},
   "source": [
    "## Finding Stresses"
   ]
  },
  {
   "cell_type": "code",
   "execution_count": null,
   "metadata": {},
   "outputs": [],
   "source": [
    "stressFinal = np.zeros((numElems, 1))\n",
    "print(stressFinal)\n",
    "for i in range(numElems):\n",
    "    startNode = nodes.value[i,0]\n",
    "    endNode = nodes.value[i,1]\n",
    "    print(f\"Element {i+1} starts at node: {startNode} and ends at node: {endNode}\")\n",
    "    #print(np.vsplit(kMatrix, 2))\n",
    "    Sn = (startNode - 1)*2\n",
    "    En = (endNode - 1)*2\n",
    "    print(f\"adjusted start node: {Sn} adjusted end node: {En}\")\n",
    "    trigMatrix = create_truss_stress_trig_matrix(angles.value[i])\n",
    "    print(f\"trigMatrix = \\n{trigMatrix}\")\n",
    "    local_uMatrix = np.array([\n",
    "        uFinal[Sn], \n",
    "        uFinal[(Sn + 1)], \n",
    "        uFinal[En], \n",
    "        uFinal[(En+1)]\n",
    "        ])\n",
    "    print(f\"local u matrix: \\n{local_uMatrix}\")\n",
    "    localLength = np.array([[(-1/lengths.value[i]), 1/lengths.value[i]]])\n",
    "    print(f\"local length matrix: \\n{localLength}\")\n",
    "\n",
    "    indStress = (trigMatrix @ local_uMatrix)\n",
    "    indStress = localLength @ indStress\n",
    "    indStress *= E.value\n",
    "\n",
    "    stressFinal[i] = indStress\n",
    "    \n",
    "    \n",
    "    print(f\"Stress in element = {indStress}\")\n",
    "\n",
    "    "
   ]
  },
  {
   "cell_type": "code",
   "execution_count": null,
   "metadata": {},
   "outputs": [],
   "source": [
    "print(stressFinal)"
   ]
  },
  {
   "cell_type": "code",
   "execution_count": null,
   "metadata": {},
   "outputs": [],
   "source": [
    "np.set_printoptions(suppress=True, formatter={'float':\"{:0.4f}\".format})\n",
    "printTrussNodalDisplacements(uFinal, lengths.unit)\n",
    "printStresses(stressFinal,E.unit)"
   ]
  }
 ],
 "metadata": {
  "kernelspec": {
   "display_name": "base",
   "language": "python",
   "name": "python3"
  },
  "language_info": {
   "codemirror_mode": {
    "name": "ipython",
    "version": 3
   },
   "file_extension": ".py",
   "mimetype": "text/x-python",
   "name": "python",
   "nbconvert_exporter": "python",
   "pygments_lexer": "ipython3",
   "version": "3.9.13"
  },
  "orig_nbformat": 4,
  "vscode": {
   "interpreter": {
    "hash": "9c3bb5a3ca18bff73ecf954c0a15a2dd79a1e96da955174a022efcd9aac1fade"
   }
  }
 },
 "nbformat": 4,
 "nbformat_minor": 2
}

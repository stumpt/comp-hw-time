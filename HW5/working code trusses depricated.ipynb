{
 "cells": [
  {
   "cell_type": "code",
   "execution_count": 404,
   "metadata": {},
   "outputs": [
    {
     "name": "stdout",
     "output_type": "stream",
     "text": [
      "The autoreload extension is already loaded. To reload it, use:\n",
      "  %reload_ext autoreload\n"
     ]
    }
   ],
   "source": [
    "import numpy as np\n",
    "import scipy.integrate as integrate\n",
    "from numpy.linalg import inv\n",
    "import math as m\n",
    "from functions import *\n",
    "import importlib\n",
    "\n",
    "%load_ext autoreload\n",
    "\n",
    "%autoreload 2\n",
    "\n",
    "np.set_printoptions(suppress=True)"
   ]
  },
  {
   "cell_type": "markdown",
   "metadata": {},
   "source": []
  },
  {
   "attachments": {},
   "cell_type": "markdown",
   "metadata": {},
   "source": [
    "This next block will create a class for all of our inputs to be placed into. This will allow for all inputs to have easily accessed names, values, and units."
   ]
  },
  {
   "cell_type": "code",
   "execution_count": 405,
   "metadata": {},
   "outputs": [],
   "source": [
    "class Input:\n",
    "    def __init__(self, name, value, unit):\n",
    "        self.name = name\n",
    "        self.value = value\n",
    "        self.valueType = type(value)\n",
    "        self.unit = unit\n",
    "    \n",
    "    def printValues(self):\n",
    "        for attr, value in self.__dict__.items():\n",
    "            print(\"\\nAttribute: \" + str(attr))\n",
    "            print(\"Value: \")\n",
    "            print(value)"
   ]
  },
  {
   "cell_type": "code",
   "execution_count": 406,
   "metadata": {},
   "outputs": [
    {
     "name": "stdout",
     "output_type": "stream",
     "text": [
      "\n",
      "Attribute: name\n",
      "Value: \n",
      "Node numbers\n",
      "\n",
      "Attribute: value\n",
      "Value: \n",
      "[[1 2]\n",
      " [1 3]\n",
      " [2 3]\n",
      " [2 4]\n",
      " [3 4]\n",
      " [3 5]\n",
      " [4 5]]\n",
      "\n",
      "Attribute: valueType\n",
      "Value: \n",
      "<class 'numpy.ndarray'>\n",
      "\n",
      "Attribute: unit\n",
      "Value: \n",
      "None\n",
      "\n",
      "Attribute: name\n",
      "Value: \n",
      "Lengths\n",
      "\n",
      "Attribute: value\n",
      "Value: \n",
      "[6.         5.19615242 3.         6.         5.19615242 6.\n",
      " 3.        ]\n",
      "\n",
      "Attribute: valueType\n",
      "Value: \n",
      "<class 'numpy.ndarray'>\n",
      "\n",
      "Attribute: unit\n",
      "Value: \n",
      "[in]\n",
      "\n",
      "Attribute: name\n",
      "Value: \n",
      "Element Angles (relative to the positive x axis)\n",
      "\n",
      "Attribute: value\n",
      "Value: \n",
      "[3.66519143 3.14159265 1.57079633 2.61799388 3.14159265 2.61799388\n",
      " 1.57079633]\n",
      "\n",
      "Attribute: valueType\n",
      "Value: \n",
      "<class 'numpy.ndarray'>\n",
      "\n",
      "Attribute: unit\n",
      "Value: \n",
      "[rad]\n"
     ]
    }
   ],
   "source": [
    "nArray = np.array([[1,2], [1,3], [2,3], [2,4], [3,4], [3,5], [4,5]])\n",
    "nodes = Input(\"Node numbers\", nArray, \"None\")\n",
    "nodes.printValues()\n",
    "\n",
    "# list of lengths corresponding to each element\n",
    "# the length of element n is contained in lengt\n",
    "\n",
    "lArray = np.array([6, 3*(m.sqrt(3)), 3, 6, 3*(m.sqrt(3)), 6, 3])\n",
    "lengths = Input(\"Lengths\", lArray, \"[in]\")\n",
    "lengths.printValues()\n",
    "\n",
    "# list of angles relative to positive x axis for each element\n",
    "aArray = np.array([(7/6), 1, 0.5, (5/6), 1, (5/6), 0.5])\n",
    "aArray *= m.pi\n",
    "angles = Input(\"Element Angles (relative to the positive x axis)\", aArray, \"[rad]\")\n",
    "angles.printValues()"
   ]
  },
  {
   "attachments": {},
   "cell_type": "markdown",
   "metadata": {},
   "source": [
    "Constants Inputs\n",
    "<br>Units are : kip, in, in2, ksi, kip/in"
   ]
  },
  {
   "cell_type": "code",
   "execution_count": 407,
   "metadata": {},
   "outputs": [],
   "source": [
    "E = 30*(10**3)\n",
    "A = 1\n",
    "P1y = -2.5\n"
   ]
  },
  {
   "attachments": {},
   "cell_type": "markdown",
   "metadata": {},
   "source": [
    "number of elements is the number of rows in nodes\n",
    "<br>number of nodes is the maximum number found in nodes"
   ]
  },
  {
   "cell_type": "code",
   "execution_count": 408,
   "metadata": {},
   "outputs": [
    {
     "name": "stdout",
     "output_type": "stream",
     "text": [
      "7\n",
      "5\n"
     ]
    }
   ],
   "source": [
    "numElems = len(nodes.value)\n",
    "print(numElems)\n",
    "numNodes = nodes.value.max()\n",
    "print(numNodes)"
   ]
  },
  {
   "attachments": {},
   "cell_type": "markdown",
   "metadata": {},
   "source": [
    "displacements in mm, two reactions per node\n",
    "<br>uvList -> list of unknowns (node displacements)\n",
    "<br>we can input our known values -> fixed_nodes at nodes 4 & 5\n",
    "<br>these fixed nodes numbers are taken straight from diagram (not adjusted for python counting)\n",
    "<br><br>u and v for any given node is given as (node# - 1)* 2 and ((node# -1)* 2) + 1 respectively.\n",
    "<br><br>this setup is advantageous over a numnodes x 2 array as it allows for easier value access later, when many sub-arrays will be required.\n"
   ]
  },
  {
   "cell_type": "code",
   "execution_count": 409,
   "metadata": {},
   "outputs": [
    {
     "name": "stdout",
     "output_type": "stream",
     "text": [
      "displacement bcs: [node number, x disp (u), y disp (v)]\n",
      "[[4 0 0]\n",
      " [5 0 0]]\n"
     ]
    }
   ],
   "source": [
    "uvList = [None]*(numNodes*2)\n",
    "uv_BCs = np.array([[4,0,0],[5,0,0]])\n",
    "print(\"displacement bcs: [node number, x disp (u), y disp (v)]\")\n",
    "print(uv_BCs)"
   ]
  },
  {
   "cell_type": "code",
   "execution_count": 410,
   "metadata": {},
   "outputs": [
    {
     "name": "stdout",
     "output_type": "stream",
     "text": [
      "adjusting array to account for: displacements boundary conditions\n",
      "case 1 for BC 1\n",
      "Case 2 for BC 1\n",
      "case 1 for BC 2\n",
      "Case 2 for BC 2\n",
      "done adjusting displacements array!\n",
      "u & v list:\n",
      "[None, None, None, None, None, None, 0, 0, 0, 0]\n"
     ]
    }
   ],
   "source": [
    "adjust_array(uvList, uv_BCs, \"displacements\")\n",
    "\n",
    "print(\"u & v list:\")\n",
    "print(uvList)"
   ]
  },
  {
   "attachments": {},
   "cell_type": "markdown",
   "metadata": {},
   "source": [
    "Same procedure as displacement BCs for forces\n",
    "<br>Input BCs given as : [node #, x force, y force]"
   ]
  },
  {
   "cell_type": "code",
   "execution_count": 411,
   "metadata": {},
   "outputs": [
    {
     "name": "stdout",
     "output_type": "stream",
     "text": [
      "3\n",
      "number of nodes with concentrated loads: 1\n",
      "at nodes: [0]\n",
      "adjusting array to account for: forces boundary conditions\n",
      "case 3 for BC 1\n",
      "Case 2 for BC 1\n",
      "case 1 for BC 2\n",
      "Case 2 for BC 2\n",
      "case 1 for BC 3\n",
      "Case 2 for BC 3\n",
      "done adjusting forces array!\n",
      "force list: \n",
      "[[ 0. ]\n",
      " [-2.5]\n",
      " [ 0. ]\n",
      " [ 0. ]\n",
      " [ 0. ]\n",
      " [ 0. ]\n",
      " [ nan]\n",
      " [ nan]\n",
      " [ nan]\n",
      " [ nan]]\n"
     ]
    }
   ],
   "source": [
    "#forceList = [0]*(numNodes*2)\n",
    "forceList = np.zeros(((numNodes*2), 1))\n",
    "\n",
    "nodesWithLoads = []\n",
    "\n",
    "force_BCs = np.array([[1, 0, P1y],[4, None, None], [5, None, None]])\n",
    "print(len(force_BCs))\n",
    "loadedNodes = 0\n",
    "for i in range(len(force_BCs)):\n",
    "    if force_BCs[i,1] or force_BCs[i,2] != None:\n",
    "        loadedNodes += 1\n",
    "        nodesWithLoads.append((force_BCs[i,0] - 1))\n",
    "\n",
    "\n",
    "print(\"number of nodes with concentrated loads: {0}\".format(loadedNodes))\n",
    "print(\"at nodes: {0}\".format(nodesWithLoads))\n",
    "\n",
    "#adjust force array given concentrated loading conditions\n",
    "adjust_array(forceList, force_BCs, \"forces\")\n",
    "\n",
    "print(\"force list: \")\n",
    "print(forceList)"
   ]
  },
  {
   "attachments": {},
   "cell_type": "markdown",
   "metadata": {},
   "source": [
    "Global [k] matrix is a symmetric array of shape (numNodes x 2, numNodes x 2)\n",
    "<br>Bar Constants are one per element, stored in a numElemes * 1 array."
   ]
  },
  {
   "cell_type": "code",
   "execution_count": 412,
   "metadata": {},
   "outputs": [
    {
     "name": "stdout",
     "output_type": "stream",
     "text": [
      "(10, 10)\n",
      "Bar Constants = \n",
      "[[ 5000.       ]\n",
      " [ 5773.5026919]\n",
      " [10000.       ]\n",
      " [ 5000.       ]\n",
      " [ 5773.5026919]\n",
      " [ 5000.       ]\n",
      " [10000.       ]]\n"
     ]
    }
   ],
   "source": [
    "globalK = np.zeros(((numNodes*2),(numNodes*2)))\n",
    "print(globalK.shape)\n",
    "\n",
    "barConstant = np.zeros((numElems,1))\n",
    "for i in range(numElems):\n",
    "    barConstant[i] = (E*A)/lengths.value[i]\n",
    "\n",
    "print(\"Bar Constants = \")\n",
    "print(barConstant)"
   ]
  },
  {
   "attachments": {},
   "cell_type": "markdown",
   "metadata": {},
   "source": [
    "## Creating the finite element equation for each Truss Element"
   ]
  },
  {
   "cell_type": "code",
   "execution_count": 413,
   "metadata": {},
   "outputs": [
    {
     "name": "stdout",
     "output_type": "stream",
     "text": [
      "Element 1 starting at node: 1 and ending at node: 2\n",
      "Element 2 starting at node: 1 and ending at node: 3\n",
      "Element 3 starting at node: 2 and ending at node: 3\n",
      "Element 4 starting at node: 2 and ending at node: 4\n",
      "Element 5 starting at node: 3 and ending at node: 4\n",
      "Element 6 starting at node: 3 and ending at node: 5\n",
      "Element 7 starting at node: 4 and ending at node: 5\n",
      "[[  9523.5026919    2165.06350946  -3750.          -2165.06350946\n",
      "   -5773.5026919       0.              0.              0.\n",
      "       0.              0.        ]\n",
      " [  2165.06350946   1250.          -2165.06350946  -1250.\n",
      "       0.             -0.              0.              0.\n",
      "       0.              0.        ]\n",
      " [ -3750.          -2165.06350946   7500.              0.\n",
      "      -0.             -0.          -3750.           2165.06350946\n",
      "       0.              0.        ]\n",
      " [ -2165.06350946  -1250.              0.          12500.\n",
      "      -0.         -10000.           2165.06350946  -1250.\n",
      "       0.              0.        ]\n",
      " [ -5773.5026919       0.             -0.             -0.\n",
      "   15297.00538379  -2165.06350946  -5773.5026919       0.\n",
      "   -3750.           2165.06350946]\n",
      " [     0.             -0.             -0.         -10000.\n",
      "   -2165.06350946  11250.              0.             -0.\n",
      "    2165.06350946  -1250.        ]\n",
      " [     0.              0.          -3750.           2165.06350946\n",
      "   -5773.5026919       0.           9523.5026919   -2165.06350946\n",
      "      -0.             -0.        ]\n",
      " [     0.              0.           2165.06350946  -1250.\n",
      "       0.             -0.          -2165.06350946  11250.\n",
      "      -0.         -10000.        ]\n",
      " [     0.              0.              0.              0.\n",
      "   -3750.           2165.06350946     -0.             -0.\n",
      "    3750.          -2165.06350946]\n",
      " [     0.              0.              0.              0.\n",
      "    2165.06350946  -1250.             -0.         -10000.\n",
      "   -2165.06350946  11250.        ]]\n",
      "The matrix is symmetric. \n",
      "\n"
     ]
    }
   ],
   "source": [
    "for i in range(numElems):\n",
    "    kMatrix = create_truss_k(angles.value[i])\n",
    "    kMatrix *= barConstant[i]\n",
    "    #print(\"k matrix:\")\n",
    "    #print(kMatrix)\n",
    "    startNode = nodes.value[i,0]\n",
    "    endNode = nodes.value[i,1]\n",
    "    print(\"Element \" + str(i+1) + \" starting at node: \" + str(startNode) + \" and ending at node: \" + str(endNode))\n",
    "    #print(np.vsplit(kMatrix, 2))\n",
    "    Sn = (startNode - 1)*2\n",
    "    En = (endNode - 1)*2\n",
    "    #first, adjust 0,0 -> then, 2,0; 0,2; and 2,2\n",
    "    block_array_adjust(Sn, Sn, globalK, 0, 0, kMatrix)\n",
    "    block_array_adjust(En, Sn, globalK, 2, 0, kMatrix)\n",
    "    block_array_adjust(Sn, En, globalK, 0, 2, kMatrix)\n",
    "    block_array_adjust(En, En, globalK, 2, 2, kMatrix)\n",
    "\n",
    "print(globalK)\n",
    "check_Symmetric(globalK)"
   ]
  },
  {
   "cell_type": "markdown",
   "metadata": {},
   "source": [
    "nums = [0, 0.56, 1.3, 3, None]\n",
    "j = 0\n",
    "while j < numNodes*2:\n",
    "    print(str(j))\n",
    "    j += 1"
   ]
  },
  {
   "cell_type": "code",
   "execution_count": 417,
   "metadata": {},
   "outputs": [
    {
     "name": "stdout",
     "output_type": "stream",
     "text": [
      "[[ 0.00034641  0.          0.00017321  0.0003      0.00017321  0.0003\n",
      "   1.         -0.         -0.          0.        ]\n",
      " [ 0.          0.00623923  0.00180111  0.00231962  0.0003      0.00211962\n",
      "   3.46410162 -1.         -3.46410162  2.        ]\n",
      " [ 0.00017321  0.00180111  0.00073987  0.00081962  0.00017321  0.00076188\n",
      "   2.         -0.57735027 -1.          0.57735027]\n",
      " [ 0.0003      0.00231962  0.00081962  0.00141962  0.0003      0.00131962\n",
      "   1.73205081 -0.         -1.73205081  1.        ]\n",
      " [ 0.00017321  0.0003      0.00017321  0.0003      0.00017321  0.0003\n",
      "   1.         -0.         -0.          0.        ]\n",
      " [ 0.0003      0.00211962  0.00076188  0.00131962  0.0003      0.00131962\n",
      "   1.73205081 -0.         -1.73205081  1.        ]\n",
      " [ 0.          0.          0.          0.          0.          0.\n",
      "   1.          0.          0.          0.        ]\n",
      " [ 0.          0.          0.          0.          0.          0.\n",
      "   0.          1.          0.          0.        ]\n",
      " [ 0.          0.          0.          0.          0.          0.\n",
      "   0.          0.          1.          0.        ]\n",
      " [ 0.          0.          0.          0.          0.          0.\n",
      "   0.          0.          0.          1.        ]]\n"
     ]
    }
   ],
   "source": [
    "print(inv(globalK))\n",
    "u = np.matmul(inv(globalK), forceList)\n",
    "#print(u)"
   ]
  },
  {
   "attachments": {},
   "cell_type": "markdown",
   "metadata": {},
   "source": [
    "This code is \"method 3,\" begins by checking if a displacement is 0. if it is, it sets the \n",
    "corresponding force value to 0. Then, it checks for positivity/negativity within the row\n",
    "that the 0 displacement corresponds to. Positive values get set to 1, while negatives\n",
    "get set to 0. It also catches None (unknown) values by just incrementing the loop value.\n",
    "For any other known u values, it sets the force equal to that value and proceeds to alter\n",
    "the stiffness matrix in the same fashion."
   ]
  },
  {
   "cell_type": "code",
   "execution_count": 415,
   "metadata": {},
   "outputs": [
    {
     "name": "stdout",
     "output_type": "stream",
     "text": [
      "0\n",
      "2\n",
      "none detected at row 2\n",
      "3\n",
      "none detected at row 3\n",
      "4\n",
      "none detected at row 4\n",
      "5\n",
      "none detected at row 5\n",
      "6\n",
      "u = 0 at row: 6\n",
      "7\n",
      "u = 0 at row: 7\n",
      "8\n",
      "u = 0 at row: 8\n",
      "9\n",
      "u = 0 at row: 9\n",
      "[[  9523.5026919    2165.06350946  -3750.          -2165.06350946\n",
      "   -5773.5026919       0.              0.              0.\n",
      "       0.              0.        ]\n",
      " [  2165.06350946   1250.          -2165.06350946  -1250.\n",
      "       0.             -0.              0.              0.\n",
      "       0.              0.        ]\n",
      " [ -3750.          -2165.06350946   7500.              0.\n",
      "      -0.             -0.          -3750.           2165.06350946\n",
      "       0.              0.        ]\n",
      " [ -2165.06350946  -1250.              0.          12500.\n",
      "      -0.         -10000.           2165.06350946  -1250.\n",
      "       0.              0.        ]\n",
      " [ -5773.5026919       0.             -0.             -0.\n",
      "   15297.00538379  -2165.06350946  -5773.5026919       0.\n",
      "   -3750.           2165.06350946]\n",
      " [     0.             -0.             -0.         -10000.\n",
      "   -2165.06350946  11250.              0.             -0.\n",
      "    2165.06350946  -1250.        ]\n",
      " [     0.              0.              0.              0.\n",
      "       0.              0.              1.              0.\n",
      "       0.              0.        ]\n",
      " [     0.              0.              0.              0.\n",
      "       0.              0.              0.              1.\n",
      "       0.              0.        ]\n",
      " [     0.              0.              0.              0.\n",
      "       0.              0.              0.              0.\n",
      "       1.              0.        ]\n",
      " [     0.              0.              0.              0.\n",
      "       0.              0.              0.              0.\n",
      "       0.              1.        ]]\n",
      "[[ 0. ]\n",
      " [-2.5]\n",
      " [ 0. ]\n",
      " [ 0. ]\n",
      " [ 0. ]\n",
      " [ 0. ]\n",
      " [ 0. ]\n",
      " [ 0. ]\n",
      " [ 0. ]\n",
      " [ 0. ]]\n"
     ]
    }
   ],
   "source": [
    "j = 0\n",
    "while j < numNodes*2:\n",
    "    print(str(j))\n",
    "    if j in nodesWithLoads:\n",
    "        j+=2\n",
    "    #first case: displacement BC = 0. In this case, set combined force values to 0, and alter \n",
    "    #globalK to reflect the changes.\n",
    "    elif uvList[j] == 0:\n",
    "        print(\"u = 0 at row: \" + str(j))\n",
    "        forceList[j] = 0 \n",
    "        globalK[j] = 0\n",
    "        globalK[j,j] = 1\n",
    "        j+=1\n",
    "    elif uvList[j] == None:\n",
    "        print(\"none detected at row \" + str(j))\n",
    "        j+=1\n",
    "    else: #when we have a known, non-zero displacement boundary condition\n",
    "        #alter global stiffness to all zeros and one 1, and set force equal to displacement BC\n",
    "        print(\"row \" + str(j) + \" altered\")\n",
    "        print(uvList[j])\n",
    "        forceList[j] = uvList[j]\n",
    "        for c in range(numNodes):\n",
    "            if (globalK[j,c] > 0) == True:\n",
    "                globalK[j,c] = 1\n",
    "            else:\n",
    "                globalK[j,c] = 0\n",
    "        j+=1\n",
    "\n",
    "                \n",
    "print(globalK)\n",
    "print(forceList)"
   ]
  },
  {
   "cell_type": "markdown",
   "metadata": {},
   "source": [
    "number of elements is the number of rows in nodes\n",
    "number of nodes is the maximum number found in nodes"
   ]
  },
  {
   "cell_type": "code",
   "execution_count": 416,
   "metadata": {},
   "outputs": [
    {
     "name": "stdout",
     "output_type": "stream",
     "text": [
      "[[-0.        ]\n",
      " [-0.01559808]\n",
      " [-0.00450278]\n",
      " [-0.00579904]\n",
      " [-0.00075   ]\n",
      " [-0.00529904]\n",
      " [ 0.        ]\n",
      " [ 0.        ]\n",
      " [ 0.        ]\n",
      " [ 0.        ]]\n"
     ]
    }
   ],
   "source": [
    "#globalK.round(0)\n",
    "globalK_inv = inv(globalK)\n",
    "#print(globalK_inv)\n",
    "\n",
    "uFinal = np.matmul(globalK_inv, forceList)\n",
    "print(uFinal)"
   ]
  }
 ],
 "metadata": {
  "kernelspec": {
   "display_name": "base",
   "language": "python",
   "name": "python3"
  },
  "language_info": {
   "codemirror_mode": {
    "name": "ipython",
    "version": 3
   },
   "file_extension": ".py",
   "mimetype": "text/x-python",
   "name": "python",
   "nbconvert_exporter": "python",
   "pygments_lexer": "ipython3",
   "version": "3.9.13"
  },
  "orig_nbformat": 4,
  "vscode": {
   "interpreter": {
    "hash": "9c3bb5a3ca18bff73ecf954c0a15a2dd79a1e96da955174a022efcd9aac1fade"
   }
  }
 },
 "nbformat": 4,
 "nbformat_minor": 2
}

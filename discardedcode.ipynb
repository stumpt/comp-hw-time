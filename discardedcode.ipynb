{
 "cells": [
  {
   "cell_type": "code",
   "execution_count": null,
   "metadata": {},
   "outputs": [],
   "source": [
    "j = 0\n",
    "while j < numNodes*2:\n",
    "    print(str(j))\n",
    "    if j in nodesWithLoads:\n",
    "        j+=2\n",
    "    #first case: displacement BC = 0. In this case, set combined force values to 0, and alter \n",
    "    #globalK to reflect the changes.\n",
    "    elif uvList[j] == 0:\n",
    "        print(\"u = 0 at row: \" + str(j))\n",
    "        forceList[j] = 0 \n",
    "        globalK[j] = 0\n",
    "        globalK[j,j] = 1\n",
    "        j+=1\n",
    "    elif uvList[j] == None:\n",
    "        print(\"none detected at row \" + str(j))\n",
    "        j+=1\n",
    "    else: #when we have a known, non-zero displacement boundary condition\n",
    "        #alter global stiffness to all zeros and one 1, and set force equal to displacement BC\n",
    "        print(\"row \" + str(j) + \" altered\")\n",
    "        print(uvList[j])\n",
    "        forceList[j] = uvList[j]\n",
    "        for c in range(numNodes):\n",
    "            if (globalK[j,c] > 0) == True:\n",
    "                globalK[j,c] = 1\n",
    "            else:\n",
    "                globalK[j,c] = 0\n",
    "        j+=1\n",
    "\n",
    "                \n",
    "print(globalK)\n",
    "print(forceList)"
   ]
  },
  {
   "cell_type": "code",
   "execution_count": 4,
   "metadata": {},
   "outputs": [
    {
     "name": "stdout",
     "output_type": "stream",
     "text": [
      "████████████████████████████████████████████████████████████████████████████████████████████████████\n",
      "The nodal displacements, in [ksi], ordered from lowest to highest numbered node are:\n",
      "[1, 2, 3, 4, 5]\n",
      "████████████████████████████████████████████████████████████████████████████████████████████████████\n"
     ]
    }
   ],
   "source": [
    "unit = \"ksi\"\n",
    "displacementArray = [1,2,3,4,5]\n",
    "\n",
    "print('\\u2588'*100)\n",
    "print(f\"The nodal displacements, in [{unit}], ordered from lowest to highest numbered node are:\\n{displacementArray}\")\n",
    "print('\\u2588'*100)"
   ]
  },
  {
   "cell_type": "code",
   "execution_count": null,
   "metadata": {},
   "outputs": [],
   "source": [
    "\"\"\"\n",
    "for i in range(len(final_u_phi)):\n",
    "    if check_even(i) == True:\n",
    "        print(f\"u{node} = {final_u_phi[i]} {LENGTHS_UNIT}\")\n",
    "        f.write(f\"u{str(node)} = {str(round(final_u_phi[i], 7))} {str(LENGTHS_UNIT)}\\n\")\n",
    "    else:\n",
    "        print(f\"phi{node} = {final_u_phi[i]} rad\\n\")\n",
    "        f.write(f\"phi{str(node)} = {str(round(final_u_phi[i], 7))} rad\\n\")\n",
    "        node += 1 \"\"\""
   ]
  }
 ],
 "metadata": {
  "kernelspec": {
   "display_name": "base",
   "language": "python",
   "name": "python3"
  },
  "language_info": {
   "codemirror_mode": {
    "name": "ipython",
    "version": 3
   },
   "file_extension": ".py",
   "mimetype": "text/x-python",
   "name": "python",
   "nbconvert_exporter": "python",
   "pygments_lexer": "ipython3",
   "version": "3.9.13"
  },
  "orig_nbformat": 4,
  "vscode": {
   "interpreter": {
    "hash": "9c3bb5a3ca18bff73ecf954c0a15a2dd79a1e96da955174a022efcd9aac1fade"
   }
  }
 },
 "nbformat": 4,
 "nbformat_minor": 2
}

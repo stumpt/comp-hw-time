{
 "cells": [
  {
   "cell_type": "code",
   "execution_count": 23,
   "metadata": {},
   "outputs": [
    {
     "name": "stdout",
     "output_type": "stream",
     "text": [
      "The autoreload extension is already loaded. To reload it, use:\n",
      "  %reload_ext autoreload\n"
     ]
    }
   ],
   "source": [
    "import numpy as np\n",
    "import scipy.integrate as integrate\n",
    "from numpy.linalg import inv\n",
    "import math as m\n",
    "from functions import *\n",
    "import matplotlib.pyplot as plt\n",
    "from matplotlib.backends.backend_pdf import PdfPages\n",
    "import importlib\n",
    "from fpdf import FPDF\n",
    "\n",
    "%load_ext autoreload\n",
    "\n",
    "%autoreload 2\n",
    "\n",
    "np.set_printoptions(suppress=True)"
   ]
  },
  {
   "attachments": {},
   "cell_type": "markdown",
   "metadata": {},
   "source": [
    "This next block will create a class for all of our inputs to be placed into. This will allow for all inputs to have easily accessed names, values, and units."
   ]
  },
  {
   "cell_type": "code",
   "execution_count": 24,
   "metadata": {},
   "outputs": [],
   "source": [
    "class Input:\n",
    "    def __init__(self, name, value, unit):\n",
    "        self.name = name\n",
    "        self.value = value\n",
    "        #self.valueType = type(value)\n",
    "        self.unit = unit\n",
    "    \n",
    "    def print_values(self):\n",
    "        print(\"\\n\")\n",
    "        for attr, value in self.__dict__.items():\n",
    "            print(f\"{attr}: {value}\")"
   ]
  },
  {
   "attachments": {},
   "cell_type": "markdown",
   "metadata": {},
   "source": [
    "# Please fill in all inputs and their units below\n",
    "# v v v v v v v v v v v v v v v v v v v v v v v v v v v v v v v v v v v v v v v "
   ]
  },
  {
   "attachments": {},
   "cell_type": "markdown",
   "metadata": {},
   "source": [
    "# Constants\n",
    "<br>For Reference: Units Set: Pa, N, m4, m"
   ]
  },
  {
   "cell_type": "code",
   "execution_count": 25,
   "metadata": {},
   "outputs": [
    {
     "name": "stdout",
     "output_type": "stream",
     "text": [
      "number of elements: 2\n",
      "[[0 0]\n",
      " [3 0]\n",
      " [6 0]]\n"
     ]
    }
   ],
   "source": [
    "YOUNGSMODULUS = 200 * (10**9)\n",
    "YM_UNIT = \"Pa\"\n",
    "\n",
    "MOI = 4 * (10**(-4))\n",
    "MOI_UNIT = \"m4\"\n",
    "\n",
    "W3 = 0 \n",
    "#dist_load_length = 108 #length that the distributed load acts upon in the corresponding units to W3\n",
    "#load_direction = -1 #negative 1 if distributed load points down, +1 otherwise\n",
    "FORCE_UNIT = \"N\"\n",
    "\n",
    "nArray = np.array([[1,2], [2,3]])\n",
    "print(f\"number of elements: {len(nArray)}\")\n",
    "\n",
    "coords = np.array([[0,0], [3,0], [6,0]])\n",
    "print(coords)\n",
    "\n",
    "LENGTHS_UNIT = \"m\"\n",
    "\n",
    "problem_number = 2\n",
    "\n",
    "homework_number = 6\n",
    "\n",
    "\n"
   ]
  },
  {
   "attachments": {},
   "cell_type": "markdown",
   "metadata": {},
   "source": [
    "# Boundary Conditions\n",
    "#### for v & phi: [node#, v, phi] -> v and phi are assumed to be unknown (None) -> only input if known\n",
    "#### for forces: [node#, Fy, moment] -> forces and moments are assumed to be 0 -> only input if not 0\n",
    "\n",
    "<br>Please note, node# are inputted straight from the diagram - do not adjust for python counting"
   ]
  },
  {
   "cell_type": "code",
   "execution_count": 26,
   "metadata": {},
   "outputs": [],
   "source": [
    "v_phi_bcs = np.array([[1, 0, 0],[3, 0, 0]])\n",
    "\n",
    "forceMoment_BCs = np.array([[2, -20000, 20000]])"
   ]
  },
  {
   "attachments": {},
   "cell_type": "markdown",
   "metadata": {},
   "source": [
    "# ^^^^^^^^^^^^^^^^^^^^^^^^^^^^^^^^^^^^^^^^^^^"
   ]
  },
  {
   "attachments": {},
   "cell_type": "markdown",
   "metadata": {},
   "source": [
    "Create our final output pdf"
   ]
  },
  {
   "cell_type": "code",
   "execution_count": 27,
   "metadata": {},
   "outputs": [
    {
     "data": {
      "text/plain": [
       "37"
      ]
     },
     "execution_count": 27,
     "metadata": {},
     "output_type": "execute_result"
    }
   ],
   "source": [
    "filename = f'HW{homework_number} Problem {problem_number} Numerical Outputs.txt'\n",
    "f = open(filename, 'w')\n",
    "\n",
    "f = open(filename, 'a')\n",
    "f.write(f\"Numerical Outputs for HW{str(homework_number)} Problem {str(problem_number)}\\n\\n\")"
   ]
  },
  {
   "cell_type": "code",
   "execution_count": 28,
   "metadata": {},
   "outputs": [
    {
     "name": "stdout",
     "output_type": "stream",
     "text": [
      "\n",
      "\n",
      "name: Young's Modulus\n",
      "value: 200000000000\n",
      "unit: Pa\n",
      "\n",
      "\n",
      "name: Moment of Inertia\n",
      "value: 0.0004\n",
      "unit: m4\n",
      "\n",
      "\n",
      "name: Node numbers\n",
      "value: [[1 2]\n",
      " [2 3]]\n",
      "unit: None\n",
      "\n",
      "\n",
      "name: Node Coordinates (x, y)\n",
      "value: [[0 0]\n",
      " [3 0]\n",
      " [6 0]]\n",
      "unit: m\n",
      "total length: 6\n"
     ]
    }
   ],
   "source": [
    "E = Input(\"Young's Modulus\", YOUNGSMODULUS, YM_UNIT)\n",
    "E.print_values()\n",
    "\n",
    "I_ = Input(\"Moment of Inertia\", MOI, MOI_UNIT)\n",
    "I_.print_values()\n",
    "\n",
    "nodes = Input(\"Node numbers\", nArray, \"None\")\n",
    "nodes.print_values()\n",
    "\n",
    "nodeCoordinates = Input(\"Node Coordinates (x, y)\", coords, LENGTHS_UNIT)\n",
    "nodeCoordinates.print_values()\n",
    "\n",
    "total_length = np.max(nodeCoordinates.value)\n",
    "print(f\"total length: {total_length}\")\n",
    "\n"
   ]
  },
  {
   "attachments": {},
   "cell_type": "markdown",
   "metadata": {},
   "source": [
    "number of elements is the number of rows in nodes\n",
    "<br>number of nodes is the maximum number found in nodes"
   ]
  },
  {
   "cell_type": "code",
   "execution_count": 29,
   "metadata": {},
   "outputs": [
    {
     "name": "stdout",
     "output_type": "stream",
     "text": [
      "number of elements: 2\n",
      "number of nodes: 3\n",
      "dimension = 6\n"
     ]
    }
   ],
   "source": [
    "count_elems = len(nodes.value)\n",
    "print(f\"number of elements: {count_elems}\")\n",
    "\n",
    "count_nodes = nodes.value.max()\n",
    "print(f\"number of nodes: {count_nodes}\")\n",
    "\n",
    "dimension = (2*count_nodes)\n",
    "print(f\"dimension = {dimension}\")"
   ]
  },
  {
   "cell_type": "code",
   "execution_count": 30,
   "metadata": {},
   "outputs": [
    {
     "name": "stdout",
     "output_type": "stream",
     "text": [
      "[0. 0.]\n",
      "element 1: length = 3.0 (raw value)\n",
      "element 2: length = 3.0 (raw value)\n",
      "[3. 3.]\n",
      "\n",
      "\n",
      "name: Lengths\n",
      "value: [3. 3.]\n",
      "unit: m\n"
     ]
    }
   ],
   "source": [
    "LENGTHS = np.zeros(count_elems)\n",
    "print(LENGTHS)\n",
    "\n",
    "for i in range(count_elems):\n",
    "\n",
    "    connection = nodes.value[i]\n",
    "    N1 = connection[0]\n",
    "    N2 = connection[1]\n",
    "\n",
    "    x1 = (nodeCoordinates.value[N1-1])[0]\n",
    "    y1 = (nodeCoordinates.value[N1-1])[1]\n",
    "\n",
    "    x2 = (nodeCoordinates.value[N2-1])[0]\n",
    "    y2 = (nodeCoordinates.value[N2-1])[1]\n",
    "\n",
    "    LENGTHS[i] = get_element_length(x1, y1, x2, y2)\n",
    "\n",
    "    print(f\"element {i+1}: length = {LENGTHS[i]} (raw value)\")\n",
    "\n",
    "print(LENGTHS)\n",
    "\n",
    "lengths = Input(\"Lengths\", LENGTHS, LENGTHS_UNIT)\n",
    "lengths.print_values()\n"
   ]
  },
  {
   "attachments": {},
   "cell_type": "markdown",
   "metadata": {},
   "source": [
    "two reactions per node\n",
    "<br>v_phi_list -> list of unknowns (node displacements)\n",
    "<br>we can input our known values -> fixed_nodes at nodes 4 & 5\n",
    "<br>these fixed nodes numbers are taken straight from diagram (not adjusted for python counting)\n",
    "<br><br>u and v for any given node is given as (node# - 1)* 2 and ((node# -1)* 2) + 1 respectively.\n"
   ]
  },
  {
   "cell_type": "code",
   "execution_count": 31,
   "metadata": {},
   "outputs": [
    {
     "name": "stdout",
     "output_type": "stream",
     "text": [
      "displacement bcs: [node number, y disp (v), angle of rotation (phi)]\n",
      "[[1 0 0]\n",
      " [3 0 0]]\n",
      "adjusting array to account for: displacements boundary conditions\n",
      "case 1 for BC 1\n",
      "Case 2 for BC 1\n",
      "case 1 for BC 2\n",
      "Case 2 for BC 2\n",
      "done adjusting displacements array!\n",
      "v & phi list:\n",
      "[0, 0, None, None, 0, 0]\n"
     ]
    }
   ],
   "source": [
    "v_phi_list = [None]*(dimension)\n",
    "print(\"displacement bcs: [node number, y disp (v), angle of rotation (phi)]\")\n",
    "print(v_phi_bcs)\n",
    "\n",
    "adjust_array(v_phi_list, v_phi_bcs, \"displacements\")\n",
    "\n",
    "print(\"v & phi list:\")\n",
    "print(v_phi_list)"
   ]
  },
  {
   "attachments": {},
   "cell_type": "markdown",
   "metadata": {},
   "source": [
    "Same procedure as displacement BCs for forces\n",
    "<br>Input BCs given as : [node #, x force, y force]"
   ]
  },
  {
   "cell_type": "code",
   "execution_count": 32,
   "metadata": {},
   "outputs": [
    {
     "name": "stdout",
     "output_type": "stream",
     "text": [
      "adjusting array to account for: forces boundary conditions\n",
      "case 1 for BC 1\n",
      "Case 2 for BC 1\n",
      "done adjusting forces array!\n",
      "number of nodes with concentrated loads: 1\n",
      "at nodes: [1]\n",
      "force list: \n",
      "[None, None, -20000, 20000, None, None]\n"
     ]
    }
   ],
   "source": [
    "force_list = [0]*dimension\n",
    "#force_list = np.zeros(((count_nodes*2), 1))\n",
    "\n",
    "nodesWithLoads = []\n",
    "\n",
    "loadedNodes = 0\n",
    "\n",
    "for i in range(len(forceMoment_BCs)):\n",
    "    if forceMoment_BCs[i,1] != None or forceMoment_BCs[i,2] != None:\n",
    "        loadedNodes += 1\n",
    "        nodesWithLoads.append((forceMoment_BCs[i,0] - 1))\n",
    "\n",
    "for i in range(len(v_phi_list)):\n",
    "    if v_phi_list[i] == 0:\n",
    "        force_list[i] = None\n",
    "    elif v_phi_list[i] is None:\n",
    "        force_list[i] = 0\n",
    "\n",
    "#adjust force array given concentrated loading conditions\n",
    "adjust_array(force_list, forceMoment_BCs, \"forces\")\n",
    "\n",
    "print(f\"number of nodes with concentrated loads: {loadedNodes}\")\n",
    "print(f\"at nodes: {nodesWithLoads}\")\n",
    "\n",
    "print(f\"force list: \\n{force_list}\")"
   ]
  },
  {
   "cell_type": "code",
   "execution_count": 33,
   "metadata": {},
   "outputs": [
    {
     "name": "stdout",
     "output_type": "stream",
     "text": [
      "-0.2222222222222222\n"
     ]
    }
   ],
   "source": [
    "print(create_NT(1, 3)[0,3])"
   ]
  },
  {
   "cell_type": "code",
   "execution_count": 34,
   "metadata": {},
   "outputs": [
    {
     "name": "stdout",
     "output_type": "stream",
     "text": [
      "fw = 0\n"
     ]
    }
   ],
   "source": [
    "if W3 != 0:\n",
    "    m_constant = W3/dist_load_length\n",
    "    print(f\"slope = {m_constant}\")\n",
    "    loose_ft = [0] * (count_elems * 4)\n",
    "\n",
    "    fw = [0] * dimension\n",
    "    #for each element, create local fw and transport to global\n",
    "    for i in range(count_elems):\n",
    "        b_constant = 0 if i == 0 else lengths.value[i-1] * m_constant\n",
    "        print(f\"for element {i+1}: b constant: {b_constant}\")\n",
    "\n",
    "        \"\"\"\n",
    "        (x)*m + b) -> surface traction function\n",
    "        x+ i*lengths.value[i] adjusts local element x axis to global x\n",
    "        [N]T from create_NT\n",
    "        \"\"\"\n",
    "        tStar1 = lambda x: (create_NT(x, lengths.value[i]))[0,0] * load_direction * (m_constant*(x) + b_constant)\n",
    "        tStar2 = lambda x: (create_NT(x, lengths.value[i]))[0,1] * load_direction * (m_constant*(x) + b_constant)\n",
    "        tStar3 = lambda x: (create_NT(x, lengths.value[i]))[0,2] * load_direction * (m_constant*(x) + b_constant)\n",
    "        tStar4 = lambda x: (create_NT(x, lengths.value[i]))[0,3] * load_direction * (m_constant*(x) + b_constant)  \n",
    "\n",
    "        ft1, error = integrate.quad(tStar1, 0, lengths.value[i])\n",
    "        ft2, error = integrate.quad(tStar2, 0, lengths.value[i])\n",
    "        ft3, error = integrate.quad(tStar3, 0, lengths.value[i])\n",
    "        ft4, error = integrate.quad(tStar4, 0, lengths.value[i]) \n",
    "\n",
    "        fw[2*i] += ft1\n",
    "        fw[(2*i) + 1] += ft2\n",
    "        fw[(2*i) + 2] += ft3\n",
    "        fw[(2*i) + 3] += ft4\n",
    "\n",
    "        loose_ft[(4*i)] = ft1\n",
    "        loose_ft[(4*i) + 1] = ft2\n",
    "        loose_ft[(4*i) + 2] = ft3\n",
    "        loose_ft[(4*i) + 3] = ft4\n",
    "\n",
    "        print(f\"ft1 = {ft1}, ft2 = {ft2}, ft3 = {ft3}, ft4 = {ft4}\")\n",
    "    print(f\"loose ft = {loose_ft}, length = {len(loose_ft)}\")\n",
    "else: \n",
    "    fw = 0\n",
    "\n",
    "print(f\"fw = {fw}\")\n"
   ]
  },
  {
   "attachments": {},
   "cell_type": "markdown",
   "metadata": {},
   "source": [
    "Global [k] matrix is a symmetric array of shape (count_nodes x 2, count_nodes x 2)\n",
    "<br>beam constants are one per element, stored in a numElemes * 1 array."
   ]
  },
  {
   "cell_type": "code",
   "execution_count": 35,
   "metadata": {},
   "outputs": [
    {
     "name": "stdout",
     "output_type": "stream",
     "text": [
      "Global K array dimensions: (6, 6)\n",
      "E = 200000000000, I = 0.0004, length for element 1 = 3.0\n",
      "E = 200000000000, I = 0.0004, length for element 2 = 3.0\n",
      "beam constants = \n",
      "[[2962962.96296296]\n",
      " [2962962.96296296]]\n"
     ]
    }
   ],
   "source": [
    "global_K = np.zeros((dimension, dimension))\n",
    "print(f\"Global K array dimensions: {global_K.shape}\")\n",
    "\n",
    "beam_constant = np.zeros((count_elems,1))\n",
    "for i in range(count_elems):\n",
    "    print(f\"E = {E.value}, I = {I_.value}, length for element {i+1} = {lengths.value[i]}\")\n",
    "    beam_constant[i] = (E.value*I_.value)/(lengths.value[i]**3)\n",
    "\n",
    "print(f\"beam constants = \\n{beam_constant}\")"
   ]
  },
  {
   "attachments": {},
   "cell_type": "markdown",
   "metadata": {},
   "source": [
    "## Creating the finite element equation for each Truss Element\n",
    "### Combining into the global K array"
   ]
  },
  {
   "cell_type": "code",
   "execution_count": 36,
   "metadata": {},
   "outputs": [
    {
     "name": "stdout",
     "output_type": "stream",
     "text": [
      "\n",
      "k matrix for element 1: \n",
      "[[ 3.55555556e+07  5.33333333e+07 -3.55555556e+07  5.33333333e+07]\n",
      " [ 5.33333333e+07  1.06666667e+08 -5.33333333e+07  5.33333333e+07]\n",
      " [-3.55555556e+07 -5.33333333e+07  3.55555556e+07 -5.33333333e+07]\n",
      " [ 5.33333333e+07  5.33333333e+07 -5.33333333e+07  1.06666667e+08]]\n",
      "Element 1 starting at node: 1 and ending at node: 2\n",
      "\n",
      "k matrix for element 2: \n",
      "[[ 3.55555556e+07  5.33333333e+07 -3.55555556e+07  5.33333333e+07]\n",
      " [ 5.33333333e+07  1.06666667e+08 -5.33333333e+07  5.33333333e+07]\n",
      " [-3.55555556e+07 -5.33333333e+07  3.55555556e+07 -5.33333333e+07]\n",
      " [ 5.33333333e+07  5.33333333e+07 -5.33333333e+07  1.06666667e+08]]\n",
      "Element 2 starting at node: 2 and ending at node: 3\n",
      "\n",
      "Global K matrix: \n",
      "[[ 3.55555556e+07  5.33333333e+07 -3.55555556e+07  5.33333333e+07\n",
      "   0.00000000e+00  0.00000000e+00]\n",
      " [ 5.33333333e+07  1.06666667e+08 -5.33333333e+07  5.33333333e+07\n",
      "   0.00000000e+00  0.00000000e+00]\n",
      " [-3.55555556e+07 -5.33333333e+07  7.11111111e+07  0.00000000e+00\n",
      "  -3.55555556e+07  5.33333333e+07]\n",
      " [ 5.33333333e+07  5.33333333e+07  0.00000000e+00  2.13333333e+08\n",
      "  -5.33333333e+07  5.33333333e+07]\n",
      " [ 0.00000000e+00  0.00000000e+00 -3.55555556e+07 -5.33333333e+07\n",
      "   3.55555556e+07 -5.33333333e+07]\n",
      " [ 0.00000000e+00  0.00000000e+00  5.33333333e+07  5.33333333e+07\n",
      "  -5.33333333e+07  1.06666667e+08]]\n",
      "The matrix is symmetric. \n",
      "\n"
     ]
    }
   ],
   "source": [
    "for i in range(count_elems):\n",
    "    local_K = create_beam_local_k(lengths.value[i])\n",
    "    local_K *= beam_constant[i]\n",
    "    print(f\"\\nk matrix for element {i+1}: \\n{local_K}\")\n",
    "    #print(local_K)\n",
    "    start_node = nodes.value[i,0]\n",
    "    end_node = nodes.value[i,1]\n",
    "    print(f\"Element {i+1} starting at node: {start_node} and ending at node: {end_node}\")\n",
    "    #print(np.vsplit(local_K, 2))\n",
    "    Sn = (start_node - 1)*2\n",
    "    En = (end_node - 1)*2\n",
    "    #first, adjust 0,0 -> then, 2,0; 0,2; and 2,2\n",
    "    block_array_adjust(Sn, Sn, global_K, 0, 0, local_K)\n",
    "    block_array_adjust(En, Sn, global_K, 2, 0, local_K)\n",
    "    block_array_adjust(Sn, En, global_K, 0, 2, local_K)\n",
    "    block_array_adjust(En, En, global_K, 2, 2, local_K)\n",
    "\n",
    "print(f\"\\nGlobal K matrix: \\n{global_K}\")\n",
    "unmodified_global_K = global_K.copy()\n",
    "check_symmetric(global_K)"
   ]
  },
  {
   "cell_type": "code",
   "execution_count": 37,
   "metadata": {},
   "outputs": [
    {
     "name": "stdout",
     "output_type": "stream",
     "text": [
      "[None, None, -20000, 20000, None, None]\n"
     ]
    }
   ],
   "source": [
    "if W3 != 0:  \n",
    "    force_list = fw\n",
    "print(force_list)"
   ]
  },
  {
   "cell_type": "code",
   "execution_count": 38,
   "metadata": {},
   "outputs": [
    {
     "name": "stdout",
     "output_type": "stream",
     "text": [
      "0\n",
      "u = 0 at row: 0\n",
      "1\n",
      "u = 0 at row: 1\n",
      "2\n",
      "none detected at row 2\n",
      "3\n",
      "none detected at row 3\n",
      "4\n",
      "u = 0 at row: 4\n",
      "5\n",
      "u = 0 at row: 5\n",
      "[[ 1.00000000e+00  0.00000000e+00  0.00000000e+00  0.00000000e+00\n",
      "   0.00000000e+00  0.00000000e+00]\n",
      " [ 0.00000000e+00  1.00000000e+00  0.00000000e+00  0.00000000e+00\n",
      "   0.00000000e+00  0.00000000e+00]\n",
      " [-3.55555556e+07 -5.33333333e+07  7.11111111e+07  0.00000000e+00\n",
      "  -3.55555556e+07  5.33333333e+07]\n",
      " [ 5.33333333e+07  5.33333333e+07  0.00000000e+00  2.13333333e+08\n",
      "  -5.33333333e+07  5.33333333e+07]\n",
      " [ 0.00000000e+00  0.00000000e+00  0.00000000e+00  0.00000000e+00\n",
      "   1.00000000e+00  0.00000000e+00]\n",
      " [ 0.00000000e+00  0.00000000e+00  0.00000000e+00  0.00000000e+00\n",
      "   0.00000000e+00  1.00000000e+00]]\n",
      "modified forces: [0, 0, -20000, 20000, 0, 0]\n"
     ]
    }
   ],
   "source": [
    "j = 0\n",
    "while j < count_nodes*2:\n",
    "    print(f\"{j}\")\n",
    "    #if j in nodesWithLoads:\n",
    "     #   j+=2\n",
    "    #first case: displacement BC = 0. In this case, set combined force values to 0, and alter \n",
    "    #global_K to reflect the changes.\n",
    "    if v_phi_list[j] == 0:\n",
    "        print(f\"u = 0 at row: {j}\")\n",
    "        force_list[j] = 0 \n",
    "        global_K[j] = 0\n",
    "        global_K[j,j] = 1\n",
    "        j+=1\n",
    "    elif v_phi_list[j] is None:\n",
    "        print(f\"none detected at row {j}\")\n",
    "        j+=1\n",
    "    else: #when we have a known, non-zero displacement boundary condition\n",
    "        #alter global stiffness to all zeros and one 1, and set force equal to displacement BC\n",
    "        print(f\"row {j} altered\")\n",
    "        print(v_phi_list[j])\n",
    "        force_list[j] = v_phi_list[j]\n",
    "        for c in range(count_nodes):\n",
    "            if (global_K[j,c] > 0) == True:\n",
    "                global_K[j,c] = 1\n",
    "            else:\n",
    "                global_K[j,c] = 0\n",
    "        j+=1\n",
    "\n",
    "                \n",
    "print(global_K)\n",
    "print(f\"modified forces: {force_list}\")\n",
    "#complete_forces = np.add(np.array(force_list), np.array(fw))\n",
    "#print(complete_forces)"
   ]
  },
  {
   "cell_type": "code",
   "execution_count": 39,
   "metadata": {},
   "outputs": [
    {
     "name": "stdout",
     "output_type": "stream",
     "text": [
      "[[ 1.         -0.          0.         -0.          0.          0.        ]\n",
      " [-0.          1.         -0.         -0.         -0.         -0.        ]\n",
      " [ 0.5         0.75        0.00000001 -0.          0.5        -0.75      ]\n",
      " [-0.25       -0.25       -0.          0.          0.25       -0.25      ]\n",
      " [ 0.          0.          0.          0.          1.          0.        ]\n",
      " [ 0.          0.          0.          0.          0.          1.        ]]\n",
      "u1 = -5.487861706949054e-20 m\n",
      "phi1 = -1.1788672143499262e-20 rad\n",
      "\n",
      "u2 = -0.00028125000000000003 m\n",
      "phi2 = 9.375000000000002e-05 rad\n",
      "\n",
      "u3 = 0.0 m\n",
      "phi3 = 0.0 rad\n",
      "\n"
     ]
    }
   ],
   "source": [
    "#global_K.round(0)\n",
    "global_K_inv = inv(global_K)\n",
    "print(global_K_inv)\n",
    "\n",
    "node = 1\n",
    "\n",
    "final_u_phi = np.matmul(global_K_inv, force_list)\n",
    "\n",
    "for i in range(len(final_u_phi)):\n",
    "    if check_even(i) == True:\n",
    "        print(f\"u{node} = {final_u_phi[i]} {LENGTHS_UNIT}\")\n",
    "        f.write(f\"u{str(node)} = {str(round(final_u_phi[i], 7))} {str(LENGTHS_UNIT)}\\n\")\n",
    "    else:\n",
    "        print(f\"phi{node} = {final_u_phi[i]} rad\\n\")\n",
    "        f.write(f\"phi{str(node)} = {str(round(final_u_phi[i], 7))} rad\\n\")\n",
    "        node += 1 "
   ]
  },
  {
   "attachments": {},
   "cell_type": "markdown",
   "metadata": {},
   "source": [
    "### Finding forces"
   ]
  },
  {
   "cell_type": "code",
   "execution_count": 40,
   "metadata": {},
   "outputs": [
    {
     "name": "stdout",
     "output_type": "stream",
     "text": [
      "local forces (element 1) [N] = \n",
      "[[ 15000.]\n",
      " [ 20000.]\n",
      " [-15000.]\n",
      " [ 25000.]]\n",
      "local forces (element 2) [N] = \n",
      "[[ -5000.]\n",
      " [ -5000.]\n",
      " [  5000.]\n",
      " [-10000.]]\n",
      "collected element forces [N] = \n",
      "[15000.000000000002, 20000.0, -15000.000000000002, 25000.0, -5000.000000000001, -5000.0, 5000.000000000001, -10000.0]\n"
     ]
    },
    {
     "data": {
      "text/plain": [
       "100"
      ]
     },
     "execution_count": 40,
     "metadata": {},
     "output_type": "execute_result"
    }
   ],
   "source": [
    "elem_forces_moments = [0] * (count_elems*4)\n",
    "for i in range(count_elems):\n",
    "    mover = 4*i\n",
    "    if W3 != 0:\n",
    "        local_K = create_beam_local_k(lengths.value[i])\n",
    "        local_K *= beam_constant[i]\n",
    "        local_U = np.array([\n",
    "            [final_u_phi[2*i]],\n",
    "            [final_u_phi[(2*i) + 1]], \n",
    "            [final_u_phi[(2*i) + 2]], \n",
    "            [final_u_phi[(2*i) + 3]]\n",
    "        ])\n",
    "        local_fw = np.array([\n",
    "            [loose_ft[mover]], \n",
    "            [loose_ft[mover + 1]], \n",
    "            [loose_ft[mover + 2]], \n",
    "            [loose_ft[mover + 3]]\n",
    "        ])\n",
    "        local_forces = np.subtract((local_K @ local_U), local_fw)\n",
    "\n",
    "        #negatives convert to EB sign convention\n",
    "        #local_forces[1,0] *= -1\n",
    "        #local_forces[2,0] *= -1\n",
    "\n",
    "        elem_forces_moments[mover] = local_forces[0,0]\n",
    "        elem_forces_moments[mover + 1] = local_forces[1,0]\n",
    "        elem_forces_moments[mover + 2] = local_forces[2,0]\n",
    "        elem_forces_moments[mover + 3] = local_forces[3,0]\n",
    "\n",
    "        print(f\"local forces (element {i+1}) [{FORCE_UNIT}] = \\n{local_forces}\")\n",
    "    else:\n",
    "        local_K = create_beam_local_k(lengths.value[i])\n",
    "        local_K *= beam_constant[i]\n",
    "        local_U = np.array([\n",
    "            [final_u_phi[2*i]],\n",
    "            [final_u_phi[(2*i) + 1]], \n",
    "            [final_u_phi[(2*i) + 2]], \n",
    "            [final_u_phi[(2*i) + 3]]\n",
    "        ])\n",
    "        local_forces = local_K @ local_U\n",
    "\n",
    "        \n",
    "\n",
    "        elem_forces_moments[mover] = local_forces[0,0]\n",
    "        elem_forces_moments[mover + 1] = local_forces[1,0]\n",
    "        elem_forces_moments[mover + 2] = local_forces[2,0]\n",
    "        elem_forces_moments[mover + 3] = local_forces[3,0]\n",
    "\n",
    "        print(f\"local forces (element {i+1}) [{FORCE_UNIT}] = \\n{local_forces}\")\n",
    "\n",
    "\n",
    "print(f\"collected element forces [{FORCE_UNIT}] = \\n{elem_forces_moments}\")\n",
    "rounded_f_m = [round(element , 4) for element in elem_forces_moments]\n",
    "f.write(f\"\\nForces, Moments = \\n{rounded_f_m}\\n{FORCE_UNIT}, {FORCE_UNIT}*{LENGTHS_UNIT}\")\n"
   ]
  },
  {
   "attachments": {},
   "cell_type": "markdown",
   "metadata": {},
   "source": [
    "## Finding Stresses"
   ]
  },
  {
   "attachments": {},
   "cell_type": "markdown",
   "metadata": {},
   "source": [
    "### Max transverse shear stress and bending stress magnitudes"
   ]
  },
  {
   "cell_type": "code",
   "execution_count": 41,
   "metadata": {},
   "outputs": [
    {
     "name": "stdout",
     "output_type": "stream",
     "text": [
      "elem forces (fea sign convention) = \n",
      "[15000.000000000002, -15000.000000000002, -5000.000000000001, 5000.000000000001]\n",
      "elem moments (fea sign convention) = \n",
      "[20000.0, 25000.0, -5000.0, -10000.0]\n",
      "max force = 15000.000000000002, max moment = 25000.0\n",
      "\n",
      "maximum transverse shear stress = 324759.5264191645 Pa\n",
      "\n",
      "maximum bending stress = 8225462.580953078 Pa\n"
     ]
    },
    {
     "data": {
      "text/plain": [
       "41"
      ]
     },
     "execution_count": 41,
     "metadata": {},
     "output_type": "execute_result"
    }
   ],
   "source": [
    "elem_forces = [0] * (count_elems * 2)\n",
    "elem_moments = [0] * (count_elems * 2)\n",
    "\n",
    "for i in range(len(elem_forces_moments)):\n",
    "    if check_even(i) == True:\n",
    "        elem_forces[int(i / 2)] = elem_forces_moments[i]\n",
    "    else:\n",
    "        elem_moments[int((i-1) / 2)] = elem_forces_moments[i]\n",
    "\n",
    "print(f\"elem forces (fea sign convention) = \\n{elem_forces}\")\n",
    "print(f\"elem moments (fea sign convention) = \\n{elem_moments}\")\n",
    "\n",
    "abs_forces = [abs(element) for element in elem_forces]\n",
    "abs_moments = [abs(element) for element in elem_moments]\n",
    "\n",
    "max_force = max(abs_forces)\n",
    "max_moment = max(abs_moments)\n",
    "\n",
    "print(f\"max force = {max_force}, max moment = {max_moment}\")\n",
    "\n",
    "side_length = (12 * I_.value)**0.25\n",
    "max_trans_shear = (3*max_force)/(2*(side_length**2))\n",
    "print(f\"\\nmaximum transverse shear stress = {max_trans_shear} {YM_UNIT}\")\n",
    "f.write(f\"\\n\\nMaximum transverse shear stress = {str(round(max_trans_shear, 4))} {YM_UNIT}\")\n",
    "\n",
    "max_bending_stress = (max_moment * side_length * 0.5)/(I_.value)\n",
    "print(f\"\\nmaximum bending stress = {max_bending_stress} {YM_UNIT}\")\n",
    "f.write(f\"\\n\\nMaximum bending stress = {str(round(max_bending_stress, 4))} {YM_UNIT}\")"
   ]
  },
  {
   "cell_type": "code",
   "execution_count": 42,
   "metadata": {},
   "outputs": [
    {
     "name": "stdout",
     "output_type": "stream",
     "text": [
      "y values = [15000.0, 15000.0, -5000.0, -5000.0]\n",
      "0\n",
      "1\n",
      "x values = [0, 3, 3, 6]\n"
     ]
    },
    {
     "data": {
      "image/png": "[encoded data removed]",
      "text/plain": [
       "<Figure size 640x480 with 1 Axes>"
      ]
     },
     "metadata": {},
     "output_type": "display_data"
    }
   ],
   "source": [
    "for i in range(len(elem_forces)):\n",
    "    if check_even(i) == False:\n",
    "        elem_forces[i] *= -1\n",
    "\n",
    "shear_y_values = elem_forces\n",
    "shear_y_values = [round(elem, 4) for elem in shear_y_values]\n",
    "#shear_y_values.append(0)\n",
    "print(f\"y values = {shear_y_values}\")\n",
    "\n",
    "x_values = [0] * len(elem_forces)\n",
    "\n",
    "for i in range(count_elems):\n",
    "    print(i)\n",
    "    x_values[2*i] += nodeCoordinates.value[i][0]\n",
    "    x_values[(2*i) + 1] += nodeCoordinates.value[i+1][0]\n",
    "\n",
    "#x_values.append(x_values[len(elem_forces) - 1])\n",
    "\n",
    "print(f\"x values = {x_values}\")\n",
    "\n",
    "shear_fig = plt.figure(\"Shear Figure\")\n",
    "\n",
    "plt.title(f\"HW{homework_number} Problem {problem_number} FEA Shear Force Diagram\")\n",
    "plt.xlim(0, total_length * 1.1)\n",
    "plt.axhline(0, color=\"black\", linestyle = \"--\")\n",
    "plt.axvline(0, color=\"black\", linestyle = \"--\")\n",
    "plt.ylabel(f\"V [{FORCE_UNIT}]\")\n",
    "plt.xlabel(f\"x [{LENGTHS_UNIT}]\")\n",
    "plt.plot(x_values, shear_y_values)\n",
    "\n",
    "shear_fig.savefig(f\"HW{homework_number} Problem {problem_number} Shear Figure\")\n",
    "\n",
    "plt.show()\n",
    "\n",
    "\n",
    "\n",
    "\n"
   ]
  },
  {
   "cell_type": "code",
   "execution_count": 43,
   "metadata": {},
   "outputs": [
    {
     "name": "stdout",
     "output_type": "stream",
     "text": [
      "y values = [-20000.0, 25000.0, 5000.0, -10000.0]\n",
      "x values = [0, 3, 3, 6]\n"
     ]
    },
    {
     "data": {
      "image/png": "[encoded data removed]",
      "text/plain": [
       "<Figure size 640x480 with 1 Axes>"
      ]
     },
     "metadata": {},
     "output_type": "display_data"
    }
   ],
   "source": [
    "for i in range(len(elem_moments)):\n",
    "    if check_even(i) == True:\n",
    "        elem_moments[i] *= -1\n",
    "\n",
    "moment_y_values = elem_moments\n",
    "moment_y_values = [round(elem, 4) for elem in moment_y_values]\n",
    "#moment_y_values.append(0)\n",
    "print(f\"y values = {moment_y_values}\")\n",
    "\n",
    "print(f\"x values = {x_values}\")\n",
    "\n",
    "moment_fig = plt.figure(\"Moment Figure\")\n",
    "\n",
    "plt.title(f\"HW{homework_number} Problem {problem_number} FEA Bending Moment Diagram\")\n",
    "plt.xlim(0, total_length * 1.1)\n",
    "plt.axhline(0, color=\"black\", linestyle = \"--\")\n",
    "plt.axvline(0, color=\"black\", linestyle = \"--\")\n",
    "plt.ylabel(f\"M [{FORCE_UNIT}*{LENGTHS_UNIT}]\")\n",
    "plt.xlabel(f\"x [{LENGTHS_UNIT}]\")\n",
    "plt.plot(x_values, moment_y_values)\n",
    "\n",
    "moment_fig.savefig(f\"HW{homework_number} Problem {problem_number} Moment Figure\")\n",
    "\n",
    "plt.show()\n",
    "\n",
    "\n",
    "\n"
   ]
  },
  {
   "cell_type": "code",
   "execution_count": 44,
   "metadata": {},
   "outputs": [
    {
     "name": "stdout",
     "output_type": "stream",
     "text": [
      "0.0 3.0\n",
      "3.0 6.0\n"
     ]
    },
    {
     "data": {
      "image/png": "[encoded data removed]",
      "text/plain": [
       "<Figure size 640x480 with 1 Axes>"
      ]
     },
     "metadata": {},
     "output_type": "display_data"
    }
   ],
   "source": [
    "displacement_fig = plt.figure(\"Displacement Field\")\n",
    "\n",
    "for i in range(count_elems):\n",
    "    disp_x_values = np.linspace(nodeCoordinates.value[i][0], nodeCoordinates.value[i+1][0], 200)\n",
    "    print(disp_x_values[0], disp_x_values[199])\n",
    "    \n",
    "    def y(x): \n",
    "        return (\n",
    "            create_NT(x - nodeCoordinates.value[i][0], lengths.value[i])[0,0] * final_u_phi[2 * i]\n",
    "            + create_NT(x - nodeCoordinates.value[i][0], lengths.value[i])[0,1] * final_u_phi[(2 * i) + 1]\n",
    "            + create_NT(x - nodeCoordinates.value[i][0], lengths.value[i])[0,2] * final_u_phi[(2 * i) + 2]\n",
    "            + create_NT(x - nodeCoordinates.value[i][0], lengths.value[i])[0,3] * final_u_phi[(2 * i) + 3]\n",
    "        )   \n",
    "    \n",
    "    disp_y_values = list(map(y, disp_x_values))\n",
    "\n",
    "    #plot labels\n",
    "    plt.title(f\"HW{homework_number} Problem {problem_number} FEA Displacement Field\")\n",
    "    plt.xlim(0, total_length * 1.1)\n",
    "    plt.axhline(0, color=\"black\", linestyle = \"--\")\n",
    "    plt.axvline(0, color=\"black\", linestyle = \"--\")\n",
    "    plt.ylabel(f\"v [{LENGTHS_UNIT}]\")\n",
    "    plt.xlabel(f\"x [{LENGTHS_UNIT}]\")\n",
    "\n",
    "    plt.plot(disp_x_values, disp_y_values)\n",
    "\n",
    "displacement_fig.savefig(f\"HW{homework_number} Problem {problem_number} Displacement Figure\")\n",
    "    \n",
    "plt.show()\n"
   ]
  }
 ],
 "metadata": {
  "kernelspec": {
   "display_name": "base",
   "language": "python",
   "name": "python3"
  },
  "language_info": {
   "codemirror_mode": {
    "name": "ipython",
    "version": 3
   },
   "file_extension": ".py",
   "mimetype": "text/x-python",
   "name": "python",
   "nbconvert_exporter": "python",
   "pygments_lexer": "ipython3",
   "version": "3.9.13"
  },
  "orig_nbformat": 4,
  "vscode": {
   "interpreter": {
    "hash": "9c3bb5a3ca18bff73ecf954c0a15a2dd79a1e96da955174a022efcd9aac1fade"
   }
  }
 },
 "nbformat": 4,
 "nbformat_minor": 2
}

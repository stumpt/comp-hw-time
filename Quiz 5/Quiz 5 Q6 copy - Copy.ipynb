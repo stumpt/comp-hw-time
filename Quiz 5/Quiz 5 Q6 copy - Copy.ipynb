{
 "cells": [
  {
   "cell_type": "code",
   "execution_count": 64,
   "metadata": {},
   "outputs": [
    {
     "name": "stdout",
     "output_type": "stream",
     "text": [
      "The autoreload extension is already loaded. To reload it, use:\n",
      "  %reload_ext autoreload\n"
     ]
    }
   ],
   "source": [
    "import numpy as np\n",
    "import scipy.integrate as integrate\n",
    "from numpy.linalg import inv\n",
    "import math as m\n",
    "from functions import *\n",
    "import matplotlib.pyplot as plt\n",
    "from matplotlib.backends.backend_pdf import PdfPages\n",
    "import importlib\n",
    "from fpdf import FPDF\n",
    "\n",
    "%load_ext autoreload\n",
    "\n",
    "%autoreload 2\n",
    "\n",
    "np.set_printoptions(suppress=True)"
   ]
  },
  {
   "attachments": {},
   "cell_type": "markdown",
   "metadata": {},
   "source": [
    "This next block will create a class for all of our inputs to be placed into. This will allow for all inputs to have easily accessed names, values, and units."
   ]
  },
  {
   "cell_type": "code",
   "execution_count": 65,
   "metadata": {},
   "outputs": [],
   "source": [
    "class Input:\n",
    "    def __init__(self, name, value, unit):\n",
    "        self.name = name\n",
    "        self.value = value\n",
    "        #self.valueType = type(value)\n",
    "        self.unit = unit\n",
    "    \n",
    "    def print_values(self):\n",
    "        print(\"\\n\")\n",
    "        for attr, value in self.__dict__.items():\n",
    "            print(f\"{attr}: {value}\")"
   ]
  },
  {
   "attachments": {},
   "cell_type": "markdown",
   "metadata": {},
   "source": [
    "# Please fill in all inputs and their units below\n",
    "# v v v v v v v v v v v v v v v v v v v v v v v v v v v v v v v v v v v v v v v "
   ]
  },
  {
   "attachments": {},
   "cell_type": "markdown",
   "metadata": {},
   "source": [
    "# Constants\n",
    "<br>For Reference: Units Set: Pa, N, m4, m"
   ]
  },
  {
   "cell_type": "code",
   "execution_count": 66,
   "metadata": {},
   "outputs": [
    {
     "name": "stdout",
     "output_type": "stream",
     "text": [
      "number of elements: 4\n",
      "[[0 0]\n",
      " [3 0]\n",
      " [4 0]\n",
      " [5 0]\n",
      " [6 0]]\n"
     ]
    }
   ],
   "source": [
    "YOUNGSMODULUS = 120 * (10**9)\n",
    "YM_UNIT = \"Pa\"\n",
    "\n",
    "MOI = 4.8 * (10**(-8))\n",
    "MOI_UNIT = \"m4\"\n",
    "\n",
    "W2 = 200\n",
    "W3 = 400 \n",
    "dist_load_length = 3 #length that the distributed load acts upon in the corresponding units to W3\n",
    "load_direction = -1 #negative 1 if distributed load points down, +1 otherwise\n",
    "FORCE_UNIT = \"N\"\n",
    "\n",
    "nArray = np.array([[1,2], [2,3], [3,4], [4,5]])\n",
    "print(f\"number of elements: {len(nArray)}\")\n",
    "\n",
    "coords = np.array([[0,0], [3,0], [4,0], [5,0], [6,0]])\n",
    "print(coords)\n",
    "\n",
    "LENGTHS_UNIT = \"m\"\n",
    "\n",
    "problem_number = 6\n",
    "\n",
    "homework_number = 65\n",
    "\n",
    "\n"
   ]
  },
  {
   "attachments": {},
   "cell_type": "markdown",
   "metadata": {},
   "source": [
    "# Boundary Conditions\n",
    "#### for v & phi: [node#, v, phi] -> v and phi are assumed to be unknown (None) -> only input if known\n",
    "#### for forces: [node#, Fy, moment] -> forces and moments are assumed to be 0 -> only input if not 0\n",
    "\n",
    "<br>Please note, node# are inputted straight from the diagram - do not adjust for python counting"
   ]
  },
  {
   "cell_type": "code",
   "execution_count": 67,
   "metadata": {},
   "outputs": [],
   "source": [
    "v_phi_bcs = np.array([[1, 0, None],[5, 0, None]])\n",
    "\n",
    "forceMoment_BCs = np.array([[1, None, 0], [5, None, 0]])"
   ]
  },
  {
   "attachments": {},
   "cell_type": "markdown",
   "metadata": {},
   "source": [
    "# ^^^^^^^^^^^^^^^^^^^^^^^^^^^^^^^^^^^^^^^^^^^"
   ]
  },
  {
   "attachments": {},
   "cell_type": "markdown",
   "metadata": {},
   "source": [
    "Create our final output pdf"
   ]
  },
  {
   "cell_type": "code",
   "execution_count": 68,
   "metadata": {},
   "outputs": [
    {
     "data": {
      "text/plain": [
       "38"
      ]
     },
     "execution_count": 68,
     "metadata": {},
     "output_type": "execute_result"
    }
   ],
   "source": [
    "filename = f'HW{homework_number} Problem {problem_number} Numerical Outputs.txt'\n",
    "f = open(filename, 'w')\n",
    "\n",
    "f = open(filename, 'a')\n",
    "f.write(f\"Numerical Outputs for HW{str(homework_number)} Problem {str(problem_number)}\\n\\n\")"
   ]
  },
  {
   "cell_type": "code",
   "execution_count": 69,
   "metadata": {},
   "outputs": [
    {
     "name": "stdout",
     "output_type": "stream",
     "text": [
      "\n",
      "\n",
      "name: Young's Modulus\n",
      "value: 120000000000\n",
      "unit: Pa\n",
      "\n",
      "\n",
      "name: Moment of Inertia\n",
      "value: 4.8e-08\n",
      "unit: m4\n",
      "\n",
      "\n",
      "name: Node numbers\n",
      "value: [[1 2]\n",
      " [2 3]\n",
      " [3 4]\n",
      " [4 5]]\n",
      "unit: None\n",
      "\n",
      "\n",
      "name: Node Coordinates (x, y)\n",
      "value: [[0 0]\n",
      " [3 0]\n",
      " [4 0]\n",
      " [5 0]\n",
      " [6 0]]\n",
      "unit: m\n",
      "total length: 6\n"
     ]
    }
   ],
   "source": [
    "E = Input(\"Young's Modulus\", YOUNGSMODULUS, YM_UNIT)\n",
    "E.print_values()\n",
    "\n",
    "I_ = Input(\"Moment of Inertia\", MOI, MOI_UNIT)\n",
    "I_.print_values()\n",
    "\n",
    "nodes = Input(\"Node numbers\", nArray, \"None\")\n",
    "nodes.print_values()\n",
    "\n",
    "nodeCoordinates = Input(\"Node Coordinates (x, y)\", coords, LENGTHS_UNIT)\n",
    "nodeCoordinates.print_values()\n",
    "\n",
    "total_length = np.max(nodeCoordinates.value)\n",
    "print(f\"total length: {total_length}\")\n",
    "\n"
   ]
  },
  {
   "attachments": {},
   "cell_type": "markdown",
   "metadata": {},
   "source": [
    "number of elements is the number of rows in nodes\n",
    "<br>number of nodes is the maximum number found in nodes"
   ]
  },
  {
   "cell_type": "code",
   "execution_count": 70,
   "metadata": {},
   "outputs": [
    {
     "name": "stdout",
     "output_type": "stream",
     "text": [
      "number of elements: 4\n",
      "number of nodes: 5\n",
      "dimension = 10\n"
     ]
    }
   ],
   "source": [
    "count_elems = len(nodes.value)\n",
    "print(f\"number of elements: {count_elems}\")\n",
    "\n",
    "count_nodes = nodes.value.max()\n",
    "print(f\"number of nodes: {count_nodes}\")\n",
    "\n",
    "dimension = (2*count_nodes)\n",
    "print(f\"dimension = {dimension}\")"
   ]
  },
  {
   "cell_type": "code",
   "execution_count": 71,
   "metadata": {},
   "outputs": [
    {
     "name": "stdout",
     "output_type": "stream",
     "text": [
      "[0. 0. 0. 0.]\n",
      "element 1: length = 3.0 (raw value)\n",
      "element 2: length = 1.0 (raw value)\n",
      "element 3: length = 1.0 (raw value)\n",
      "element 4: length = 1.0 (raw value)\n",
      "[3. 1. 1. 1.]\n",
      "\n",
      "\n",
      "name: Lengths\n",
      "value: [3. 1. 1. 1.]\n",
      "unit: m\n"
     ]
    }
   ],
   "source": [
    "LENGTHS = np.zeros(count_elems)\n",
    "print(LENGTHS)\n",
    "\n",
    "for i in range(count_elems):\n",
    "\n",
    "    connection = nodes.value[i]\n",
    "    N1 = connection[0]\n",
    "    N2 = connection[1]\n",
    "\n",
    "    x1 = (nodeCoordinates.value[N1-1])[0]\n",
    "    y1 = (nodeCoordinates.value[N1-1])[1]\n",
    "\n",
    "    x2 = (nodeCoordinates.value[N2-1])[0]\n",
    "    y2 = (nodeCoordinates.value[N2-1])[1]\n",
    "\n",
    "    LENGTHS[i] = get_element_length(x1, y1, x2, y2)\n",
    "\n",
    "    print(f\"element {i+1}: length = {LENGTHS[i]} (raw value)\")\n",
    "\n",
    "print(LENGTHS)\n",
    "\n",
    "lengths = Input(\"Lengths\", LENGTHS, LENGTHS_UNIT)\n",
    "lengths.print_values()\n"
   ]
  },
  {
   "attachments": {},
   "cell_type": "markdown",
   "metadata": {},
   "source": [
    "two reactions per node\n",
    "<br>v_phi_list -> list of unknowns (node displacements)\n",
    "<br>we can input our known values -> fixed_nodes at nodes 4 & 5\n",
    "<br>these fixed nodes numbers are taken straight from diagram (not adjusted for python counting)\n",
    "<br><br>u and v for any given node is given as (node# - 1)* 2 and ((node# -1)* 2) + 1 respectively.\n"
   ]
  },
  {
   "cell_type": "code",
   "execution_count": 72,
   "metadata": {},
   "outputs": [
    {
     "name": "stdout",
     "output_type": "stream",
     "text": [
      "displacement bcs: [node number, y disp (v), angle of rotation (phi)]\n",
      "[[1 0 None]\n",
      " [5 0 None]]\n",
      "adjusting array to account for: displacements boundary conditions\n",
      "case 1 for BC 1\n",
      "case 4 for BC 1\n",
      "case 1 for BC 2\n",
      "case 4 for BC 2\n",
      "done adjusting displacements array!\n",
      "v & phi list:\n",
      "[0, None, None, None, None, None, None, None, 0, None]\n"
     ]
    }
   ],
   "source": [
    "v_phi_list = [None]*(dimension)\n",
    "print(\"displacement bcs: [node number, y disp (v), angle of rotation (phi)]\")\n",
    "print(v_phi_bcs)\n",
    "\n",
    "adjust_array(v_phi_list, v_phi_bcs, \"displacements\")\n",
    "\n",
    "print(\"v & phi list:\")\n",
    "print(v_phi_list)"
   ]
  },
  {
   "attachments": {},
   "cell_type": "markdown",
   "metadata": {},
   "source": [
    "Same procedure as displacement BCs for forces\n",
    "<br>Input BCs given as : [node #, x force, y force]"
   ]
  },
  {
   "cell_type": "code",
   "execution_count": 73,
   "metadata": {},
   "outputs": [
    {
     "name": "stdout",
     "output_type": "stream",
     "text": [
      "adjusting array to account for: forces boundary conditions\n",
      "case 3 for BC 1\n",
      "case 4 for BC 1\n",
      "case 3 for BC 2\n",
      "case 4 for BC 2\n",
      "done adjusting forces array!\n",
      "number of nodes with concentrated loads: 2\n",
      "at nodes: [0, 4]\n",
      "force list: \n",
      "[None, 0, 0, 0, 0, 0, 0, 0, None, 0]\n"
     ]
    }
   ],
   "source": [
    "force_list = [0]*dimension\n",
    "#force_list = np.zeros(((count_nodes*2), 1))\n",
    "\n",
    "nodesWithLoads = []\n",
    "\n",
    "loadedNodes = 0\n",
    "\n",
    "for i in range(len(forceMoment_BCs)):\n",
    "    if forceMoment_BCs[i,1] != None or forceMoment_BCs[i,2] != None:\n",
    "        loadedNodes += 1\n",
    "        nodesWithLoads.append((forceMoment_BCs[i,0] - 1))\n",
    "\n",
    "for i in range(len(v_phi_list)):\n",
    "    if v_phi_list[i] == 0:\n",
    "        force_list[i] = None\n",
    "    elif v_phi_list[i] is None:\n",
    "        force_list[i] = 0\n",
    "\n",
    "#adjust force array given concentrated loading conditions\n",
    "adjust_array(force_list, forceMoment_BCs, \"forces\")\n",
    "\n",
    "print(f\"number of nodes with concentrated loads: {loadedNodes}\")\n",
    "print(f\"at nodes: {nodesWithLoads}\")\n",
    "\n",
    "print(f\"force list: \\n{force_list}\")"
   ]
  },
  {
   "cell_type": "code",
   "execution_count": 74,
   "metadata": {},
   "outputs": [
    {
     "name": "stdout",
     "output_type": "stream",
     "text": [
      "slope = 66.66666666666667\n",
      "for element 2: b constant: 200.0\n",
      "ft1 = -110.0, ft2 = -18.888888888888882, ft3 = -123.33333333333334, ft4 = 20.0\n",
      "for element 3: b constant: 266.6666666666667\n",
      "ft1 = -143.33333333333334, ft2 = -24.44444444444444, ft3 = -156.6666666666667, ft4 = 25.55555555555556\n",
      "for element 4: b constant: 333.33333333333337\n",
      "ft1 = -176.66666666666666, ft2 = -29.999999999999996, ft3 = -190.0, ft4 = 31.111111111111125\n",
      "loose ft = [0, 0, 0, 0, -110.0, -18.888888888888882, -123.33333333333334, 20.0, -143.33333333333334, -24.44444444444444, -156.6666666666667, 25.55555555555556, -176.66666666666666, -29.999999999999996, -190.0, 31.111111111111125], length = 16\n",
      "fw = [0, 0, -110.0, -18.888888888888882, -266.6666666666667, -4.444444444444439, -333.33333333333337, -4.444444444444436, -190.0, 31.111111111111125]\n"
     ]
    }
   ],
   "source": [
    "if W3 != 0:\n",
    "    m_constant = (W3 - W2)/dist_load_length\n",
    "    print(f\"slope = {m_constant}\")\n",
    "    loose_ft = [0] * (count_elems * 4)\n",
    "\n",
    "    fw = [0] * dimension\n",
    "    #for each element, create local fw and transport to global\n",
    "    for i in range(count_elems):\n",
    "        if i != 0:\n",
    "            b_constant = sum_until_n(lengths.value, (i-1)) * m_constant\n",
    "            print(f\"for element {i+1}: b constant: {b_constant}\")\n",
    "\n",
    "            tStar1 = lambda x: (create_NT(x, lengths.value[i]))[0,0] * load_direction * (m_constant*(x) + b_constant)\n",
    "            tStar2 = lambda x: (create_NT(x, lengths.value[i]))[0,1] * load_direction * (m_constant*(x) + b_constant)\n",
    "            tStar3 = lambda x: (create_NT(x, lengths.value[i]))[0,2] * load_direction * (m_constant*(x) + b_constant)\n",
    "            tStar4 = lambda x: (create_NT(x, lengths.value[i]))[0,3] * load_direction * (m_constant*(x) + b_constant) \n",
    "\n",
    "            ft1, error = integrate.quad(tStar1, 0, lengths.value[i])\n",
    "            ft2, error = integrate.quad(tStar2, 0, lengths.value[i])\n",
    "            ft3, error = integrate.quad(tStar3, 0, lengths.value[i])\n",
    "            ft4, error = integrate.quad(tStar4, 0, lengths.value[i]) \n",
    "\n",
    "            fw[2*i] += ft1\n",
    "            fw[(2*i) + 1] += ft2\n",
    "            fw[(2*i) + 2] += ft3\n",
    "            fw[(2*i) + 3] += ft4\n",
    "\n",
    "            loose_ft[(4*i)] = ft1\n",
    "            loose_ft[(4*i) + 1] = ft2\n",
    "            loose_ft[(4*i) + 2] = ft3\n",
    "            loose_ft[(4*i) + 3] = ft4\n",
    "\n",
    "            print(f\"ft1 = {ft1}, ft2 = {ft2}, ft3 = {ft3}, ft4 = {ft4}\")\n",
    "    print(f\"loose ft = {loose_ft}, length = {len(loose_ft)}\")\n",
    "else: \n",
    "    fw = 0\n",
    "\n",
    "print(f\"fw = {fw}\")\n"
   ]
  },
  {
   "attachments": {},
   "cell_type": "markdown",
   "metadata": {},
   "source": [
    "Global [k] matrix is a symmetric array of shape (count_nodes x 2, count_nodes x 2)\n",
    "<br>beam constants are one per element, stored in a numElemes * 1 array."
   ]
  },
  {
   "cell_type": "code",
   "execution_count": 75,
   "metadata": {},
   "outputs": [
    {
     "name": "stdout",
     "output_type": "stream",
     "text": [
      "Global K array dimensions: (10, 10)\n",
      "E = 120000000000, I = 4.8e-08, length for element 1 = 3.0\n",
      "E = 120000000000, I = 4.8e-08, length for element 2 = 1.0\n",
      "E = 120000000000, I = 4.8e-08, length for element 3 = 1.0\n",
      "E = 120000000000, I = 4.8e-08, length for element 4 = 1.0\n",
      "beam constants = \n",
      "[[ 213.33333333]\n",
      " [5760.        ]\n",
      " [5760.        ]\n",
      " [5760.        ]]\n"
     ]
    }
   ],
   "source": [
    "global_K = np.zeros((dimension, dimension))\n",
    "print(f\"Global K array dimensions: {global_K.shape}\")\n",
    "\n",
    "beam_constant = np.zeros((count_elems,1))\n",
    "for i in range(count_elems):\n",
    "    print(f\"E = {E.value}, I = {I_.value}, length for element {i+1} = {lengths.value[i]}\")\n",
    "    beam_constant[i] = (E.value*I_.value)/(lengths.value[i]**3)\n",
    "\n",
    "print(f\"beam constants = \\n{beam_constant}\")"
   ]
  },
  {
   "attachments": {},
   "cell_type": "markdown",
   "metadata": {},
   "source": [
    "## Creating the finite element equation for each Truss Element\n",
    "### Combining into the global K array"
   ]
  },
  {
   "cell_type": "code",
   "execution_count": 76,
   "metadata": {},
   "outputs": [
    {
     "name": "stdout",
     "output_type": "stream",
     "text": [
      "\n",
      "k matrix for element 1: \n",
      "[[ 2560.  3840. -2560.  3840.]\n",
      " [ 3840.  7680. -3840.  3840.]\n",
      " [-2560. -3840.  2560. -3840.]\n",
      " [ 3840.  3840. -3840.  7680.]]\n",
      "Element 1 starting at node: 1 and ending at node: 2\n",
      "\n",
      "k matrix for element 2: \n",
      "[[ 69120.  34560. -69120.  34560.]\n",
      " [ 34560.  23040. -34560.  11520.]\n",
      " [-69120. -34560.  69120. -34560.]\n",
      " [ 34560.  11520. -34560.  23040.]]\n",
      "Element 2 starting at node: 2 and ending at node: 3\n",
      "\n",
      "k matrix for element 3: \n",
      "[[ 69120.  34560. -69120.  34560.]\n",
      " [ 34560.  23040. -34560.  11520.]\n",
      " [-69120. -34560.  69120. -34560.]\n",
      " [ 34560.  11520. -34560.  23040.]]\n",
      "Element 3 starting at node: 3 and ending at node: 4\n",
      "\n",
      "k matrix for element 4: \n",
      "[[ 69120.  34560. -69120.  34560.]\n",
      " [ 34560.  23040. -34560.  11520.]\n",
      " [-69120. -34560.  69120. -34560.]\n",
      " [ 34560.  11520. -34560.  23040.]]\n",
      "Element 4 starting at node: 4 and ending at node: 5\n",
      "\n",
      "Global K matrix: \n",
      "[[  2560.   3840.  -2560.   3840.      0.      0.      0.      0.      0.\n",
      "       0.]\n",
      " [  3840.   7680.  -3840.   3840.      0.      0.      0.      0.      0.\n",
      "       0.]\n",
      " [ -2560.  -3840.  71680.  30720. -69120.  34560.      0.      0.      0.\n",
      "       0.]\n",
      " [  3840.   3840.  30720.  30720. -34560.  11520.      0.      0.      0.\n",
      "       0.]\n",
      " [     0.      0. -69120. -34560. 138240.      0. -69120.  34560.      0.\n",
      "       0.]\n",
      " [     0.      0.  34560.  11520.      0.  46080. -34560.  11520.      0.\n",
      "       0.]\n",
      " [     0.      0.      0.      0. -69120. -34560. 138240.      0. -69120.\n",
      "   34560.]\n",
      " [     0.      0.      0.      0.  34560.  11520.      0.  46080. -34560.\n",
      "   11520.]\n",
      " [     0.      0.      0.      0.      0.      0. -69120. -34560.  69120.\n",
      "  -34560.]\n",
      " [     0.      0.      0.      0.      0.      0.  34560.  11520. -34560.\n",
      "   23040.]]\n",
      "The matrix is symmetric. \n",
      "\n"
     ]
    }
   ],
   "source": [
    "for i in range(count_elems):\n",
    "    local_K = create_beam_local_k(lengths.value[i])\n",
    "    local_K *= beam_constant[i]\n",
    "    print(f\"\\nk matrix for element {i+1}: \\n{local_K}\")\n",
    "    #print(local_K)\n",
    "    start_node = nodes.value[i,0]\n",
    "    end_node = nodes.value[i,1]\n",
    "    print(f\"Element {i+1} starting at node: {start_node} and ending at node: {end_node}\")\n",
    "    #print(np.vsplit(local_K, 2))\n",
    "    Sn = (start_node - 1)*2\n",
    "    En = (end_node - 1)*2\n",
    "    #first, adjust 0,0 -> then, 2,0; 0,2; and 2,2\n",
    "    block_array_adjust(Sn, Sn, global_K, 0, 0, local_K)\n",
    "    block_array_adjust(En, Sn, global_K, 2, 0, local_K)\n",
    "    block_array_adjust(Sn, En, global_K, 0, 2, local_K)\n",
    "    block_array_adjust(En, En, global_K, 2, 2, local_K)\n",
    "\n",
    "print(f\"\\nGlobal K matrix: \\n{global_K}\")\n",
    "unmodified_global_K = global_K.copy()\n",
    "check_symmetric(global_K)"
   ]
  },
  {
   "cell_type": "code",
   "execution_count": 77,
   "metadata": {},
   "outputs": [
    {
     "name": "stdout",
     "output_type": "stream",
     "text": [
      "[0, 0, -110.0, -18.888888888888882, -266.6666666666667, -4.444444444444439, -333.33333333333337, -4.444444444444436, -190.0, 31.111111111111125]\n"
     ]
    }
   ],
   "source": [
    "if W3 != 0:  \n",
    "    for i in range(len(force_list)):\n",
    "        if force_list[i] is not None:\n",
    "            force_list[i] += fw[i]\n",
    "        else: force_list[i] = fw[i]\n",
    "print(force_list)"
   ]
  },
  {
   "cell_type": "code",
   "execution_count": 78,
   "metadata": {},
   "outputs": [
    {
     "name": "stdout",
     "output_type": "stream",
     "text": [
      "0\n",
      "u = 0 at row: 0\n",
      "1\n",
      "none detected at row 1\n",
      "2\n",
      "none detected at row 2\n",
      "3\n",
      "none detected at row 3\n",
      "4\n",
      "none detected at row 4\n",
      "5\n",
      "none detected at row 5\n",
      "6\n",
      "none detected at row 6\n",
      "7\n",
      "none detected at row 7\n",
      "8\n",
      "u = 0 at row: 8\n",
      "9\n",
      "none detected at row 9\n",
      "[[     1.      0.      0.      0.      0.      0.      0.      0.      0.\n",
      "       0.]\n",
      " [  3840.   7680.  -3840.   3840.      0.      0.      0.      0.      0.\n",
      "       0.]\n",
      " [ -2560.  -3840.  71680.  30720. -69120.  34560.      0.      0.      0.\n",
      "       0.]\n",
      " [  3840.   3840.  30720.  30720. -34560.  11520.      0.      0.      0.\n",
      "       0.]\n",
      " [     0.      0. -69120. -34560. 138240.      0. -69120.  34560.      0.\n",
      "       0.]\n",
      " [     0.      0.  34560.  11520.      0.  46080. -34560.  11520.      0.\n",
      "       0.]\n",
      " [     0.      0.      0.      0. -69120. -34560. 138240.      0. -69120.\n",
      "   34560.]\n",
      " [     0.      0.      0.      0.  34560.  11520.      0.  46080. -34560.\n",
      "   11520.]\n",
      " [     0.      0.      0.      0.      0.      0.      0.      0.      1.\n",
      "       0.]\n",
      " [     0.      0.      0.      0.      0.      0.  34560.  11520. -34560.\n",
      "   23040.]]\n",
      "modified forces: [0, 0, -110.0, -18.888888888888882, -266.6666666666667, -4.444444444444439, -333.33333333333337, -4.444444444444436, 0, 31.111111111111125]\n"
     ]
    }
   ],
   "source": [
    "j = 0\n",
    "while j < count_nodes*2:\n",
    "    print(f\"{j}\")\n",
    "    #if j in nodesWithLoads:\n",
    "     #   j+=2\n",
    "    #first case: displacement BC = 0. In this case, set combined force values to 0, and alter \n",
    "    #global_K to reflect the changes.\n",
    "    if v_phi_list[j] == 0:\n",
    "        print(f\"u = 0 at row: {j}\")\n",
    "        force_list[j] = 0 \n",
    "        global_K[j] = 0\n",
    "        global_K[j,j] = 1\n",
    "        j+=1\n",
    "    elif v_phi_list[j] is None:\n",
    "        print(f\"none detected at row {j}\")\n",
    "        j+=1\n",
    "    else: #when we have a known, non-zero displacement boundary condition\n",
    "        #alter global stiffness to all zeros and one 1, and set force equal to displacement BC\n",
    "        print(f\"row {j} altered\")\n",
    "        print(v_phi_list[j])\n",
    "        force_list[j] = v_phi_list[j]\n",
    "        for c in range(count_nodes):\n",
    "            if (global_K[j,c] > 0) == True:\n",
    "                global_K[j,c] = 1\n",
    "            else:\n",
    "                global_K[j,c] = 0\n",
    "        j+=1\n",
    "\n",
    "                \n",
    "print(global_K)\n",
    "print(f\"modified forces: {force_list}\")\n",
    "#complete_forces = np.add(np.array(force_list), np.array(fw))\n",
    "#print(complete_forces)"
   ]
  },
  {
   "cell_type": "code",
   "execution_count": 79,
   "metadata": {},
   "outputs": [
    {
     "name": "stdout",
     "output_type": "stream",
     "text": [
      "[[ 1.         -0.         -0.         -0.          0.         -0.\n",
      "  -0.         -0.         -0.         -0.        ]\n",
      " [-0.16666667  0.00034722  0.00039063 -0.0000434   0.00030864 -0.00011574\n",
      "   0.00016879 -0.00015914  0.16666667 -0.00017361]\n",
      " [ 0.5         0.00039063  0.00078125  0.          0.00066551 -0.00021701\n",
      "   0.00037616 -0.00034722  0.5        -0.00039063]\n",
      " [-0.16666667 -0.0000434   0.          0.00008681  0.00004823  0.00001447\n",
      "   0.00003858 -0.00002894  0.16666667 -0.0000434 ]\n",
      " [ 0.33333333  0.00030864  0.00066551  0.00004823  0.00061728 -0.00015432\n",
      "   0.00036651 -0.00032793  0.66666667 -0.0003858 ]\n",
      " [-0.16666667 -0.00011574 -0.00021701  0.00001447 -0.00015432  0.00011574\n",
      "  -0.00006269  0.00007234  0.16666667  0.00005787]\n",
      " [ 0.16666667  0.00016879  0.00037616  0.00003858  0.00036651 -0.00006269\n",
      "   0.00024113 -0.0001929   0.83333333 -0.00026524]\n",
      " [-0.16666667 -0.00015914 -0.00034722 -0.00002894 -0.00032793  0.00007234\n",
      "  -0.0001929   0.00020255  0.16666667  0.00018808]\n",
      " [ 0.          0.          0.          0.          0.         -0.\n",
      "   0.         -0.          1.         -0.        ]\n",
      " [-0.16666667 -0.00017361 -0.00039063 -0.0000434  -0.0003858   0.00005787\n",
      "  -0.00026524  0.00018808  0.16666667  0.00034722]]\n",
      "u1 = -9.221340255169302e-17 m\n",
      "phi1 = -0.18489583333333356 rad\n",
      "\n",
      "u2 = -0.39843750000000056 m\n",
      "phi2 = -0.02864583333333341 rad\n",
      "\n",
      "u3 = -0.3707561728395068 m\n",
      "phi3 = 0.08661265432098778 rad\n",
      "\n",
      "u4 = -0.22733410493827197 m\n",
      "phi4 = 0.1951195987654324 rad\n",
      "\n",
      "u5 = -5.832706520701887e-17 m\n",
      "phi5 = 0.24479166666666696 rad\n",
      "\n"
     ]
    }
   ],
   "source": [
    "#global_K.round(0)\n",
    "global_K_inv = inv(global_K)\n",
    "print(global_K_inv)\n",
    "\n",
    "node = 1\n",
    "\n",
    "final_u_phi = np.matmul(global_K_inv, force_list)\n",
    "\n",
    "for i in range(len(final_u_phi)):\n",
    "    if check_even(i) == True:\n",
    "        print(f\"u{node} = {final_u_phi[i]} {LENGTHS_UNIT}\")\n",
    "        f.write(f\"u{str(node)} = {str(round(final_u_phi[i], 7))} {str(LENGTHS_UNIT)}\\n\")\n",
    "    else:\n",
    "        print(f\"phi{node} = {final_u_phi[i]} rad\\n\")\n",
    "        f.write(f\"phi{str(node)} = {str(round(final_u_phi[i], 7))} rad\\n\")\n",
    "        node += 1 "
   ]
  },
  {
   "attachments": {},
   "cell_type": "markdown",
   "metadata": {},
   "source": [
    "### Finding forces"
   ]
  },
  {
   "cell_type": "code",
   "execution_count": 80,
   "metadata": {},
   "outputs": [
    {
     "name": "stdout",
     "output_type": "stream",
     "text": [
      "local forces (element 1) [N] = \n",
      "[[ 200.]\n",
      " [  -0.]\n",
      " [-200.]\n",
      " [ 600.]]\n",
      "local forces (element 2) [N] = \n",
      "[[ 200.        ]\n",
      " [-600.        ]\n",
      " [  33.33333333]\n",
      " [ 688.88888889]]\n",
      "local forces (element 3) [N] = \n",
      "[[ -33.33333333]\n",
      " [-688.88888889]\n",
      " [ 333.33333333]\n",
      " [ 511.11111111]]\n",
      "local forces (element 4) [N] = \n",
      "[[-333.33333333]\n",
      " [-511.11111111]\n",
      " [ 700.        ]\n",
      " [  -0.        ]]\n",
      "collected element forces [N] = \n",
      "[200.0, -4.547473508864641e-13, -200.0, 600.0000000000001, 200.0, -599.9999999999998, 33.33333333333334, 688.8888888888923, -33.333333333338174, -688.8888888888913, 333.33333333333826, 511.1111111111105, -333.3333333333352, -511.1111111111122, 700.0000000000018, -7.212008767965017e-13]\n"
     ]
    },
    {
     "data": {
      "text/plain": [
       "165"
      ]
     },
     "execution_count": 80,
     "metadata": {},
     "output_type": "execute_result"
    }
   ],
   "source": [
    "elem_forces_moments = [0] * (count_elems*4)\n",
    "for i in range(count_elems):\n",
    "    mover = 4*i\n",
    "    if W3 != 0:\n",
    "        local_K = create_beam_local_k(lengths.value[i])\n",
    "        local_K *= beam_constant[i]\n",
    "        local_U = np.array([\n",
    "            [final_u_phi[2*i]],\n",
    "            [final_u_phi[(2*i) + 1]], \n",
    "            [final_u_phi[(2*i) + 2]], \n",
    "            [final_u_phi[(2*i) + 3]]\n",
    "        ])\n",
    "        local_fw = np.array([\n",
    "            [loose_ft[mover]], \n",
    "            [loose_ft[mover + 1]], \n",
    "            [loose_ft[mover + 2]], \n",
    "            [loose_ft[mover + 3]]\n",
    "        ])\n",
    "        local_forces = np.subtract((local_K @ local_U), local_fw)\n",
    "\n",
    "        #negatives convert to EB sign convention\n",
    "        #local_forces[1,0] *= -1\n",
    "        #local_forces[2,0] *= -1\n",
    "\n",
    "        elem_forces_moments[mover] = local_forces[0,0]\n",
    "        elem_forces_moments[mover + 1] = local_forces[1,0]\n",
    "        elem_forces_moments[mover + 2] = local_forces[2,0]\n",
    "        elem_forces_moments[mover + 3] = local_forces[3,0]\n",
    "\n",
    "        print(f\"local forces (element {i+1}) [{FORCE_UNIT}] = \\n{local_forces}\")\n",
    "    else:\n",
    "        local_K = create_beam_local_k(lengths.value[i])\n",
    "        local_K *= beam_constant[i]\n",
    "        local_U = np.array([\n",
    "            [final_u_phi[2*i]],\n",
    "            [final_u_phi[(2*i) + 1]], \n",
    "            [final_u_phi[(2*i) + 2]], \n",
    "            [final_u_phi[(2*i) + 3]]\n",
    "        ])\n",
    "        local_forces = local_K @ local_U\n",
    "\n",
    "        \n",
    "\n",
    "        elem_forces_moments[mover] = local_forces[0,0]\n",
    "        elem_forces_moments[mover + 1] = local_forces[1,0]\n",
    "        elem_forces_moments[mover + 2] = local_forces[2,0]\n",
    "        elem_forces_moments[mover + 3] = local_forces[3,0]\n",
    "\n",
    "        print(f\"local forces (element {i+1}) [{FORCE_UNIT}] = \\n{local_forces}\")\n",
    "\n",
    "\n",
    "print(f\"collected element forces [{FORCE_UNIT}] = \\n{elem_forces_moments}\")\n",
    "rounded_f_m = [round(element , 4) for element in elem_forces_moments]\n",
    "f.write(f\"\\nForces, Moments = \\n{rounded_f_m}\\n{FORCE_UNIT}, {FORCE_UNIT}*{LENGTHS_UNIT}\")\n"
   ]
  },
  {
   "attachments": {},
   "cell_type": "markdown",
   "metadata": {},
   "source": [
    "## Finding Stresses"
   ]
  },
  {
   "attachments": {},
   "cell_type": "markdown",
   "metadata": {},
   "source": [
    "### Max transverse shear stress and bending stress magnitudes"
   ]
  },
  {
   "cell_type": "code",
   "execution_count": 81,
   "metadata": {},
   "outputs": [
    {
     "name": "stdout",
     "output_type": "stream",
     "text": [
      "elem forces (fea sign convention) = \n",
      "[200.0, -200.0, 200.0, 33.33333333333334, -33.333333333338174, 333.33333333333826, -333.3333333333352, 700.0000000000018]\n",
      "elem moments (fea sign convention) = \n",
      "[-4.547473508864641e-13, 600.0000000000001, -599.9999999999998, 688.8888888888923, -688.8888888888913, 511.1111111111105, -511.1111111111122, -7.212008767965017e-13]\n",
      "max force = 700.0000000000018, max moment = 688.8888888888923\n",
      "\n",
      "maximum transverse shear stress = 1383496.4763236695 Pa\n",
      "\n",
      "maximum bending stress = 197689484.01806882 Pa\n"
     ]
    },
    {
     "data": {
      "text/plain": [
       "44"
      ]
     },
     "execution_count": 81,
     "metadata": {},
     "output_type": "execute_result"
    }
   ],
   "source": [
    "elem_forces = [0] * (count_elems * 2)\n",
    "elem_moments = [0] * (count_elems * 2)\n",
    "\n",
    "for i in range(len(elem_forces_moments)):\n",
    "    if check_even(i) == True:\n",
    "        elem_forces[int(i / 2)] = elem_forces_moments[i]\n",
    "    else:\n",
    "        elem_moments[int((i-1) / 2)] = elem_forces_moments[i]\n",
    "\n",
    "print(f\"elem forces (fea sign convention) = \\n{elem_forces}\")\n",
    "print(f\"elem moments (fea sign convention) = \\n{elem_moments}\")\n",
    "\n",
    "abs_forces = [abs(element) for element in elem_forces]\n",
    "abs_moments = [abs(element) for element in elem_moments]\n",
    "\n",
    "max_force = max(abs_forces)\n",
    "max_moment = max(abs_moments)\n",
    "\n",
    "print(f\"max force = {max_force}, max moment = {max_moment}\")\n",
    "\n",
    "side_length = (12 * I_.value)**0.25\n",
    "max_trans_shear = (3*max_force)/(2*(side_length**2))\n",
    "print(f\"\\nmaximum transverse shear stress = {max_trans_shear} {YM_UNIT}\")\n",
    "f.write(f\"\\n\\nMaximum transverse shear stress = {str(round(max_trans_shear, 4))} {YM_UNIT}\")\n",
    "\n",
    "max_bending_stress = (max_moment * side_length * 0.5)/(I_.value)\n",
    "print(f\"\\nmaximum bending stress = {max_bending_stress} {YM_UNIT}\")\n",
    "f.write(f\"\\n\\nMaximum bending stress = {str(round(max_bending_stress, 4))} {YM_UNIT}\")"
   ]
  },
  {
   "cell_type": "code",
   "execution_count": 82,
   "metadata": {},
   "outputs": [
    {
     "name": "stdout",
     "output_type": "stream",
     "text": [
      "y values = [200.0, 200.0, 200.0, -33.3333, -33.3333, -333.3333, -333.3333, -700.0]\n",
      "0\n",
      "1\n",
      "2\n",
      "3\n",
      "x values = [0, 3, 3, 4, 4, 5, 5, 6]\n"
     ]
    },
    {
     "data": {
      "image/png": "[encoded data removed]",
      "text/plain": [
       "<Figure size 640x480 with 1 Axes>"
      ]
     },
     "metadata": {},
     "output_type": "display_data"
    }
   ],
   "source": [
    "for i in range(len(elem_forces)):\n",
    "    if check_even(i) == False:\n",
    "        elem_forces[i] *= -1\n",
    "\n",
    "shear_y_values = elem_forces\n",
    "shear_y_values = [round(elem, 4) for elem in shear_y_values]\n",
    "#shear_y_values.append(0)\n",
    "print(f\"y values = {shear_y_values}\")\n",
    "\n",
    "x_values = [0] * len(elem_forces)\n",
    "\n",
    "for i in range(count_elems):\n",
    "    print(i)\n",
    "    x_values[2*i] += nodeCoordinates.value[i][0]\n",
    "    x_values[(2*i) + 1] += nodeCoordinates.value[i+1][0]\n",
    "\n",
    "#x_values.append(x_values[len(elem_forces) - 1])\n",
    "\n",
    "print(f\"x values = {x_values}\")\n",
    "\n",
    "shear_fig = plt.figure(\"Shear Figure\")\n",
    "\n",
    "plt.title(f\"HW{homework_number} Problem {problem_number} FEA Shear Force Diagram\")\n",
    "plt.xlim(0, total_length * 1.1)\n",
    "plt.axhline(0, color=\"black\", linestyle = \"--\")\n",
    "plt.axvline(0, color=\"black\", linestyle = \"--\")\n",
    "plt.ylabel(f\"V [{FORCE_UNIT}]\")\n",
    "plt.xlabel(f\"x [{LENGTHS_UNIT}]\")\n",
    "plt.plot(x_values, shear_y_values)\n",
    "\n",
    "shear_fig.savefig(f\"HW{homework_number} Problem {problem_number} Shear Figure\")\n",
    "\n",
    "plt.show()\n",
    "\n",
    "\n",
    "\n",
    "\n"
   ]
  },
  {
   "cell_type": "code",
   "execution_count": 83,
   "metadata": {},
   "outputs": [
    {
     "name": "stdout",
     "output_type": "stream",
     "text": [
      "y values = [0.0, 600.0, 600.0, 688.8889, 688.8889, 511.1111, 511.1111, -0.0]\n",
      "x values = [0, 3, 3, 4, 4, 5, 5, 6]\n"
     ]
    },
    {
     "data": {
      "image/png": "[encoded data removed]",
      "text/plain": [
       "<Figure size 640x480 with 1 Axes>"
      ]
     },
     "metadata": {},
     "output_type": "display_data"
    }
   ],
   "source": [
    "for i in range(len(elem_moments)):\n",
    "    if check_even(i) == True:\n",
    "        elem_moments[i] *= -1\n",
    "\n",
    "moment_y_values = elem_moments\n",
    "moment_y_values = [round(elem, 4) for elem in moment_y_values]\n",
    "#moment_y_values.append(0)\n",
    "print(f\"y values = {moment_y_values}\")\n",
    "\n",
    "print(f\"x values = {x_values}\")\n",
    "\n",
    "moment_fig = plt.figure(\"Moment Figure\")\n",
    "\n",
    "plt.title(f\"HW{homework_number} Problem {problem_number} FEA Bending Moment Diagram\")\n",
    "plt.xlim(0, total_length * 1.1)\n",
    "plt.axhline(0, color=\"black\", linestyle = \"--\")\n",
    "plt.axvline(0, color=\"black\", linestyle = \"--\")\n",
    "plt.ylabel(f\"M [{FORCE_UNIT}*{LENGTHS_UNIT}]\")\n",
    "plt.xlabel(f\"x [{LENGTHS_UNIT}]\")\n",
    "plt.plot(x_values, moment_y_values)\n",
    "\n",
    "moment_fig.savefig(f\"HW{homework_number} Problem {problem_number} Moment Figure\")\n",
    "\n",
    "plt.show()\n",
    "\n",
    "\n",
    "\n"
   ]
  },
  {
   "cell_type": "code",
   "execution_count": 84,
   "metadata": {},
   "outputs": [
    {
     "name": "stdout",
     "output_type": "stream",
     "text": [
      "0.0 3.0\n",
      "3.0 4.0\n",
      "4.0 5.0\n",
      "5.0 6.0\n"
     ]
    },
    {
     "data": {
      "image/png": "[encoded data removed]",
      "text/plain": [
       "<Figure size 640x480 with 1 Axes>"
      ]
     },
     "metadata": {},
     "output_type": "display_data"
    }
   ],
   "source": [
    "displacement_fig = plt.figure(\"Displacement Field\")\n",
    "\n",
    "for i in range(count_elems):\n",
    "    disp_x_values = np.linspace(nodeCoordinates.value[i][0], nodeCoordinates.value[i+1][0], 200)\n",
    "    print(disp_x_values[0], disp_x_values[199])\n",
    "    \n",
    "    def y(x): \n",
    "        return (\n",
    "            create_NT(x - nodeCoordinates.value[i][0], lengths.value[i])[0,0] * final_u_phi[2 * i]\n",
    "            + create_NT(x - nodeCoordinates.value[i][0], lengths.value[i])[0,1] * final_u_phi[(2 * i) + 1]\n",
    "            + create_NT(x - nodeCoordinates.value[i][0], lengths.value[i])[0,2] * final_u_phi[(2 * i) + 2]\n",
    "            + create_NT(x - nodeCoordinates.value[i][0], lengths.value[i])[0,3] * final_u_phi[(2 * i) + 3]\n",
    "        )   \n",
    "    \n",
    "    disp_y_values = list(map(y, disp_x_values))\n",
    "\n",
    "    #plot labels\n",
    "    plt.title(f\"HW{homework_number} Problem {problem_number} FEA Displacement Field\")\n",
    "    plt.xlim(0, total_length * 1.1)\n",
    "    plt.axhline(0, color=\"black\", linestyle = \"--\")\n",
    "    plt.axvline(0, color=\"black\", linestyle = \"--\")\n",
    "    plt.ylabel(f\"v [{LENGTHS_UNIT}]\")\n",
    "    plt.xlabel(f\"x [{LENGTHS_UNIT}]\")\n",
    "\n",
    "    plt.plot(disp_x_values, disp_y_values)\n",
    "\n",
    "displacement_fig.savefig(f\"HW{homework_number} Problem {problem_number} Displacement Figure\")\n",
    "    \n",
    "plt.show()\n"
   ]
  }
 ],
 "metadata": {
  "kernelspec": {
   "display_name": "base",
   "language": "python",
   "name": "python3"
  },
  "language_info": {
   "codemirror_mode": {
    "name": "ipython",
    "version": 3
   },
   "file_extension": ".py",
   "mimetype": "text/x-python",
   "name": "python",
   "nbconvert_exporter": "python",
   "pygments_lexer": "ipython3",
   "version": "3.9.13"
  },
  "orig_nbformat": 4,
  "vscode": {
   "interpreter": {
    "hash": "9c3bb5a3ca18bff73ecf954c0a15a2dd79a1e96da955174a022efcd9aac1fade"
   }
  }
 },
 "nbformat": 4,
 "nbformat_minor": 2
}

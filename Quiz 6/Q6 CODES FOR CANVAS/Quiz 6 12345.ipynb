{
 "cells": [
  {
   "cell_type": "code",
   "execution_count": 1,
   "metadata": {},
   "outputs": [],
   "source": [
    "import numpy as np\n",
    "import scipy.integrate as integrate\n",
    "from numpy.linalg import inv\n",
    "import math as m\n",
    "from functions import *\n",
    "import matplotlib.pyplot as plt\n",
    "from matplotlib.backends.backend_pdf import PdfPages\n",
    "import importlib\n",
    "from fpdf import FPDF\n",
    "\n",
    "%load_ext autoreload\n",
    "\n",
    "%autoreload 2\n",
    "\n",
    "np.set_printoptions(suppress=True)"
   ]
  },
  {
   "attachments": {},
   "cell_type": "markdown",
   "metadata": {},
   "source": [
    "This next block will create a class for all of our inputs to be placed into. This will allow for all inputs to have easily accessed names, values, and units."
   ]
  },
  {
   "cell_type": "code",
   "execution_count": 2,
   "metadata": {},
   "outputs": [],
   "source": [
    "class Input:\n",
    "    def __init__(self, name, value, unit):\n",
    "        self.name = name\n",
    "        self.value = value\n",
    "        #self.valueType = type(value)\n",
    "        self.unit = unit\n",
    "    \n",
    "    def print_values(self):\n",
    "        print(\"\\n\")\n",
    "        for attr, value in self.__dict__.items():\n",
    "            print(f\"{attr}: {value}\")"
   ]
  },
  {
   "attachments": {},
   "cell_type": "markdown",
   "metadata": {},
   "source": [
    "# Please fill in all inputs and their units below\n",
    "# v v v v v v v v v v v v v v v v v v v v v v v v v v v v v v v v v v v v v v v "
   ]
  },
  {
   "attachments": {},
   "cell_type": "markdown",
   "metadata": {},
   "source": [
    "# Constants\n",
    "<br>For Reference: Units Set: Pa, m, m4, N, N/m"
   ]
  },
  {
   "cell_type": "code",
   "execution_count": 3,
   "metadata": {},
   "outputs": [
    {
     "name": "stdout",
     "output_type": "stream",
     "text": [
      "number of elements: 3\n"
     ]
    }
   ],
   "source": [
    "YOUNGSMODULUS = 45 * (10**9)\n",
    "YM_UNIT = \"Pa\"\n",
    "\n",
    "MOI = 5 * (10**(-6))\n",
    "MOI_UNIT = \"m4\"\n",
    "\n",
    "#options are \"Circular\" or \"Square\"\n",
    "cross_section = \"Circular\"\n",
    "\n",
    "W2 = 5000\n",
    "W3 = 5000 \n",
    "dist_load_length = 4 #length that the distributed load acts upon in the corresponding units to W3\n",
    "load_direction = -1 #negative 1 if distributed load points down, +1 otherwise\n",
    "loaded_elements = [1,2,3]\n",
    "FORCE_UNIT = \"N\"\n",
    "\n",
    "HINGE_NODES = [2] #take straight from diagram, do not adjust for python\n",
    "\n",
    "nArray = np.array([[1,2], [2,3], [3,4]])\n",
    "print(f\"number of elements: {len(nArray)}\")\n",
    "\n",
    "coords = np.array([[0,0], [2,0], [3,0], [4,0]])\n",
    "\n",
    "LENGTHS_UNIT = \"m\"\n",
    "LENGTHS_CONVERSION_FACTOR = 1 #input conversion factor if inputted coordinate values are not in final units\n",
    "#1 if no conversion needed\n",
    "\n",
    "problem_number = 12345\n",
    "\n",
    "homework_number = 67\n",
    "\n",
    "\n"
   ]
  },
  {
   "cell_type": "markdown",
   "metadata": {},
   "source": [
    "# Boundary Conditions\n",
    "#### for v & phi: [node#, v, phi] -> v and phi are assumed to be unknown (None) -> only input if known\n",
    "#### for forces: [node#, Fy, moment] -> forces and moments are assumed to be 0 -> only input if not 0\n",
    "\n",
    "<br>Please note, node# are inputted straight from the diagram - do not adjust for python counting"
   ]
  },
  {
   "cell_type": "code",
   "execution_count": 4,
   "metadata": {},
   "outputs": [],
   "source": [
    "v_phi_bcs = np.array([[1, 0, None], [3, 0, None], [4, 0, None]])\n",
    "\n",
    "forceMoment_BCs = np.array([[1, None, 0], [3, None, 0], [4, None, 0]])"
   ]
  },
  {
   "attachments": {},
   "cell_type": "markdown",
   "metadata": {},
   "source": [
    "# ^^^^^^^^^^^^^^^^^^^^^^^^^^^^^^^^^^^^^^^^^^^"
   ]
  },
  {
   "cell_type": "markdown",
   "metadata": {},
   "source": [
    "Create our final output pdf"
   ]
  },
  {
   "cell_type": "code",
   "execution_count": 5,
   "metadata": {},
   "outputs": [
    {
     "data": {
      "text/plain": [
       "42"
      ]
     },
     "execution_count": 5,
     "metadata": {},
     "output_type": "execute_result"
    }
   ],
   "source": [
    "filename = f'HW{homework_number} Problem {problem_number} Numerical Outputs.txt'\n",
    "f = open(filename, 'w')\n",
    "\n",
    "f = open(filename, 'a')\n",
    "f.write(f\"Numerical Outputs for HW{str(homework_number)} Problem {str(problem_number)}\\n\\n\")"
   ]
  },
  {
   "cell_type": "code",
   "execution_count": 6,
   "metadata": {},
   "outputs": [
    {
     "name": "stdout",
     "output_type": "stream",
     "text": [
      "\n",
      "\n",
      "name: Young's Modulus\n",
      "value: 45000000000\n",
      "unit: Pa\n",
      "\n",
      "\n",
      "name: Moment of Inertia\n",
      "value: 4.9999999999999996e-06\n",
      "unit: m4\n",
      "\n",
      "\n",
      "name: Node numbers\n",
      "value: [[1 2]\n",
      " [2 3]\n",
      " [3 4]]\n",
      "unit: None\n",
      "\n",
      "\n",
      "name: Node Coordinates (x, y)\n",
      "value: [[0 0]\n",
      " [2 0]\n",
      " [3 0]\n",
      " [4 0]]\n",
      "unit: None\n",
      "\n",
      "total length: 4 m\n",
      "Hinge Nodes at: [1] (adjusted)\n"
     ]
    }
   ],
   "source": [
    "E = Input(\"Young's Modulus\", YOUNGSMODULUS, YM_UNIT)\n",
    "E.print_values()\n",
    "\n",
    "I_ = Input(\"Moment of Inertia\", MOI, MOI_UNIT)\n",
    "I_.print_values()\n",
    "\n",
    "nodes = Input(\"Node numbers\", nArray, \"None\")\n",
    "nodes.print_values()\n",
    "\n",
    "coords *= LENGTHS_CONVERSION_FACTOR\n",
    "\n",
    "node_coords = Input(\"Node Coordinates (x, y)\", coords, \"None\")\n",
    "node_coords.print_values()\n",
    "\n",
    "total_length = np.max(node_coords.value)\n",
    "print(f\"\\ntotal length: {total_length} {LENGTHS_UNIT}\")\n",
    "\n",
    "HINGE_NODES = [x - 1 for x in HINGE_NODES]\n",
    "print(f\"Hinge Nodes at: {HINGE_NODES} (adjusted)\")"
   ]
  },
  {
   "attachments": {},
   "cell_type": "markdown",
   "metadata": {},
   "source": [
    "number of elements is the number of rows in nodes\n",
    "<br>number of nodes is the maximum number found in nodes"
   ]
  },
  {
   "cell_type": "code",
   "execution_count": 7,
   "metadata": {},
   "outputs": [
    {
     "name": "stdout",
     "output_type": "stream",
     "text": [
      "number of elements: 3\n",
      "number of nodes: 4\n",
      "dimension = 9\n"
     ]
    }
   ],
   "source": [
    "count_elems = len(nodes.value)\n",
    "print(f\"number of elements: {count_elems}\")\n",
    "\n",
    "count_nodes = nodes.value.max()\n",
    "print(f\"number of nodes: {count_nodes}\")\n",
    "\n",
    "dimension = (2*count_nodes) + len(HINGE_NODES)\n",
    "print(f\"dimension = {dimension}\")"
   ]
  },
  {
   "cell_type": "code",
   "execution_count": 8,
   "metadata": {},
   "outputs": [
    {
     "name": "stdout",
     "output_type": "stream",
     "text": [
      "[0. 0. 0.]\n",
      "element 1: length = 2.0\n",
      "element 2: length = 1.0\n",
      "element 3: length = 1.0\n",
      "[2. 1. 1.]\n",
      "\n",
      "\n",
      "name: Lengths\n",
      "value: [2. 1. 1.]\n",
      "unit: m\n"
     ]
    }
   ],
   "source": [
    "LENGTHS = np.zeros(count_elems)\n",
    "print(LENGTHS)\n",
    "\n",
    "for i in range(count_elems):\n",
    "\n",
    "    connection = nodes.value[i]\n",
    "    N1 = connection[0]\n",
    "    N2 = connection[1]\n",
    "\n",
    "    x1 = (node_coords.value[N1-1])[0]\n",
    "    y1 = (node_coords.value[N1-1])[1]\n",
    "\n",
    "    x2 = (node_coords.value[N2-1])[0]\n",
    "    y2 = (node_coords.value[N2-1])[1]\n",
    "\n",
    "    LENGTHS[i] = get_element_length(x1, y1, x2, y2)\n",
    "\n",
    "    print(f\"element {i+1}: length = {LENGTHS[i]}\")\n",
    "\n",
    "print(LENGTHS)\n",
    "\n",
    "lengths = Input(\"Lengths\", LENGTHS, LENGTHS_UNIT)\n",
    "lengths.print_values()\n"
   ]
  },
  {
   "attachments": {},
   "cell_type": "markdown",
   "metadata": {},
   "source": [
    "two reactions per node\n",
    "<br>v_phi_list -> list of unknowns (node displacements)\n",
    "<br>we can input our known values -> fixed_nodes at nodes 4 & 5\n",
    "<br>these fixed nodes numbers are taken straight from diagram (not adjusted for python counting)\n",
    "<br><br>u and v for any given node is given as (node# - 1)* 2 and ((node# -1)* 2) + 1 respectively.\n"
   ]
  },
  {
   "cell_type": "code",
   "execution_count": 9,
   "metadata": {},
   "outputs": [
    {
     "name": "stdout",
     "output_type": "stream",
     "text": [
      "displacement bcs: [node number, y disp (v), angle of rotation (phi)]\n",
      "[[1 0 None]\n",
      " [3 0 None]\n",
      " [4 0 None]]\n",
      "adjusting array to account for: displacements boundary conditions\n",
      "case 1 for BC 1\n",
      "case 4 for BC 1\n",
      "case 1 for BC 2\n",
      "case 4 for BC 2\n",
      "case 1 for BC 3\n",
      "case 4 for BC 3\n",
      "done adjusting displacements array!\n",
      "v & phi list:\n",
      "[0, None, None, None, None, 0, None, 0, None]\n"
     ]
    }
   ],
   "source": [
    "v_phi_list = [None]*(dimension - len(HINGE_NODES))\n",
    "print(\"displacement bcs: [node number, y disp (v), angle of rotation (phi)]\")\n",
    "print(v_phi_bcs)\n",
    "\n",
    "adjust_array(v_phi_list, v_phi_bcs, \"displacements\")\n",
    "for node in HINGE_NODES:\n",
    "    v_phi_list.insert((node*2)+2, None)\n",
    "print(\"v & phi list:\")\n",
    "print(v_phi_list)"
   ]
  },
  {
   "attachments": {},
   "cell_type": "markdown",
   "metadata": {},
   "source": [
    "Same procedure as displacement BCs for forces\n",
    "<br>Input BCs given as : [node #, x force, y force]"
   ]
  },
  {
   "cell_type": "code",
   "execution_count": 10,
   "metadata": {},
   "outputs": [
    {
     "name": "stdout",
     "output_type": "stream",
     "text": [
      "adjusting array to account for: forces boundary conditions\n",
      "case 3 for BC 1\n",
      "case 4 for BC 1\n",
      "case 1 for BC 2\n",
      "Case 2 for BC 2\n",
      "case 1 for BC 3\n",
      "Case 2 for BC 3\n",
      "done adjusting forces array!\n",
      "number of nodes with concentrated loads: 3\n",
      "at nodes: [0, 2, 3]\n",
      "force list: \n",
      "[None, 0, 0, 0, 0, None, 0, None, 0]\n"
     ]
    }
   ],
   "source": [
    "force_list = [0]*(dimension - len(HINGE_NODES))\n",
    "#force_list = np.zeros(((count_nodes*2), 1))\n",
    "\n",
    "nodesWithLoads = []\n",
    "\n",
    "loadedNodes = 0\n",
    "\n",
    "for i in range(len(forceMoment_BCs)):\n",
    "    if forceMoment_BCs[i,1] != None or forceMoment_BCs[i,2] != None:\n",
    "        loadedNodes += 1\n",
    "        nodesWithLoads.append((forceMoment_BCs[i,0] - 1))\n",
    "\n",
    "for i in range(len(force_list)):\n",
    "    if v_phi_list[i] == 0:\n",
    "        force_list[i] = None\n",
    "    elif v_phi_list[i] is None:\n",
    "        force_list[i] = 0\n",
    "\n",
    "#adjust force array given concentrated loading conditions\n",
    "adjust_array(force_list, forceMoment_BCs, \"forces\")\n",
    "\n",
    "#add in extra reactions for hinges\n",
    "for node in HINGE_NODES:\n",
    "    force_list.insert((node*2)+2, 0)\n",
    "\n",
    "print(f\"number of nodes with concentrated loads: {loadedNodes}\")\n",
    "print(f\"at nodes: {nodesWithLoads}\")\n",
    "\n",
    "print(f\"force list: \\n{force_list}\")\n",
    "\n",
    "for i in range(len(force_list)):\n",
    "    if force_list[i] == v_phi_list[i]:\n",
    "        print(f\"Error in checking BCs: index {i} in forcelist is equal to displist\")"
   ]
  },
  {
   "attachments": {},
   "cell_type": "markdown",
   "metadata": {},
   "source": [
    "### Accounting for surface traction"
   ]
  },
  {
   "cell_type": "code",
   "execution_count": 11,
   "metadata": {},
   "outputs": [
    {
     "name": "stdout",
     "output_type": "stream",
     "text": [
      "for element 1: b constant: 0.0\n",
      "ft1 = -5000.0, ft2 = -1666.6666666666665, ft3 = -5000.000000000001, ft4 = 1666.666666666667\n",
      "for element 2: b constant: 0.0\n",
      "ft1 = -2500.0, ft2 = -416.66666666666663, ft3 = -2500.0000000000005, ft4 = 416.66666666666674\n",
      "for element 3: b constant: 0.0\n",
      "ft1 = -2500.0, ft2 = -416.66666666666663, ft3 = -2500.0000000000005, ft4 = 416.66666666666674\n",
      "loose ft = [-5000.0, -1666.6666666666665, -5000.000000000001, 1666.666666666667, -2500.0, -416.66666666666663, -2500.0000000000005, 416.66666666666674, -2500.0, -416.66666666666663, -2500.0000000000005, 416.66666666666674], length = 12\n",
      "inserted 0 into fw at index: 3\n",
      "new length of fw: 9\n",
      "fw = [-5000.0, -1666.6666666666665, -7500.000000000001, 0, 1250.0000000000005, -5000.0, 1.1368683772161603e-13, -2500.0000000000005, 416.66666666666674]\n"
     ]
    }
   ],
   "source": [
    "if W3 != 0:\n",
    "    m_constant = (W3 - W2)/dist_load_length\n",
    "\n",
    "    def line(x, b):\n",
    "        return (m_constant * x) + b if W3 != W2 \\\n",
    "            else W3    \n",
    "    \n",
    "    loose_ft = [0] * (count_elems * 4)\n",
    "\n",
    "    fw = [0] * (dimension - len(HINGE_NODES))\n",
    "    #for each element, create local fw and transport to global\n",
    "    for i in range(count_elems):\n",
    "        if (i+1) in loaded_elements:\n",
    "            b_constant = sum_until_n(lengths.value, (i-1)) * m_constant\n",
    "            print(f\"for element {i+1}: b constant: {b_constant}\")\n",
    "\n",
    "            tStar1 = lambda x: (create_NT(x, lengths.value[i]))[0,0] * load_direction * line(x, b_constant)\n",
    "            tStar2 = lambda x: (create_NT(x, lengths.value[i]))[0,1] * load_direction * line(x, b_constant)\n",
    "            tStar3 = lambda x: (create_NT(x, lengths.value[i]))[0,2] * load_direction * line(x, b_constant)\n",
    "            tStar4 = lambda x: (create_NT(x, lengths.value[i]))[0,3] * load_direction * line(x, b_constant) \n",
    "\n",
    "            ft1, error = integrate.quad(tStar1, 0, lengths.value[i])\n",
    "            ft2, error = integrate.quad(tStar2, 0, lengths.value[i])\n",
    "            ft3, error = integrate.quad(tStar3, 0, lengths.value[i])\n",
    "            ft4, error = integrate.quad(tStar4, 0, lengths.value[i]) \n",
    "\n",
    "            fw[2*i] += ft1\n",
    "            fw[(2*i) + 1] += ft2\n",
    "            fw[(2*i) + 2] += ft3\n",
    "            fw[(2*i) + 3] += ft4\n",
    "\n",
    "            loose_ft[(4*i)] = ft1\n",
    "            loose_ft[(4*i) + 1] = ft2\n",
    "            loose_ft[(4*i) + 2] = ft3\n",
    "            loose_ft[(4*i) + 3] = ft4\n",
    "\n",
    "            print(f\"ft1 = {ft1}, ft2 = {ft2}, ft3 = {ft3}, ft4 = {ft4}\")\n",
    "    print(f\"loose ft = {loose_ft}, length = {len(loose_ft)}\")\n",
    "else:\n",
    "    fw = 0\n",
    "\n",
    "for node in HINGE_NODES:\n",
    "    if np.isscalar(fw) is False:\n",
    "        fw.insert((node*2)+1, 0)\n",
    "        print(f\"inserted 0 into fw at index: {(node*2) + 1}\")\n",
    "        print(f\"new length of fw: {len(fw)}\")\n",
    "\n",
    "print(f\"fw = {fw}\")\n"
   ]
  },
  {
   "attachments": {},
   "cell_type": "markdown",
   "metadata": {},
   "source": [
    "Global [k] matrix is a symmetric array of shape (dimension, dimension)\n",
    "<br>beam constants are one per element, stored in an array of shape (number of elements, 1)."
   ]
  },
  {
   "cell_type": "code",
   "execution_count": 12,
   "metadata": {},
   "outputs": [
    {
     "name": "stdout",
     "output_type": "stream",
     "text": [
      "Global K array dimensions: (9, 9)\n",
      "E = 45000000000, I = 4.9999999999999996e-06, length for element 1 = 2.0\n",
      "E = 45000000000, I = 4.9999999999999996e-06, length for element 2 = 1.0\n",
      "E = 45000000000, I = 4.9999999999999996e-06, length for element 3 = 1.0\n",
      "beam constants = \n",
      "[[ 28125.]\n",
      " [225000.]\n",
      " [225000.]]\n"
     ]
    }
   ],
   "source": [
    "global_K = np.zeros((dimension, dimension))\n",
    "print(f\"Global K array dimensions: {global_K.shape}\")\n",
    "\n",
    "beam_constant = np.zeros((count_elems,1))\n",
    "for i in range(count_elems):\n",
    "    print(f\"E = {E.value}, I = {I_.value}, length for element {i+1} = {lengths.value[i]}\")\n",
    "    beam_constant[i] = (E.value*I_.value)/(lengths.value[i]**3)\n",
    "\n",
    "print(f\"beam constants = \\n{beam_constant}\")"
   ]
  },
  {
   "attachments": {},
   "cell_type": "markdown",
   "metadata": {},
   "source": [
    "## Creating the finite element equation for each Truss Element\n",
    "### Combining into the global K array"
   ]
  },
  {
   "cell_type": "code",
   "execution_count": 13,
   "metadata": {},
   "outputs": [
    {
     "name": "stdout",
     "output_type": "stream",
     "text": [
      "\n",
      "k matrix for element 1: \n",
      "[[ 337500.  337500. -337500.  337500.]\n",
      " [ 337500.  450000. -337500.  225000.]\n",
      " [-337500. -337500.  337500. -337500.]\n",
      " [ 337500.  225000. -337500.  450000.]]\n",
      "Element 1 starting at node: 1 and ending at node: 2\n",
      "\n",
      "k matrix for element 1 inputted at global matrix position 0,0\n",
      "\n",
      "k matrix for element 2: \n",
      "[[ 2700000.  1350000. -2700000.  1350000.]\n",
      " [ 1350000.   900000. -1350000.   450000.]\n",
      " [-2700000. -1350000.  2700000. -1350000.]\n",
      " [ 1350000.   450000. -1350000.   900000.]]\n",
      "Element 2 starting at node: 2 and ending at node: 3\n",
      "\n",
      "Hinge modified K Matrix for element 2: \n",
      "[[ 2700000.        0.  1350000. -2700000.  1350000.]\n",
      " [       0.        0.        0.        0.        0.]\n",
      " [ 1350000.        0.   900000. -1350000.   450000.]\n",
      " [-2700000.        0. -1350000.  2700000. -1350000.]\n",
      " [ 1350000.        0.   450000. -1350000.   900000.]]\n",
      "\n",
      "k matrix for element 2 inputted at global matrix position 2,2\n",
      "\n",
      "k matrix for element 3: \n",
      "[[ 2700000.  1350000. -2700000.  1350000.]\n",
      " [ 1350000.   900000. -1350000.   450000.]\n",
      " [-2700000. -1350000.  2700000. -1350000.]\n",
      " [ 1350000.   450000. -1350000.   900000.]]\n",
      "Element 3 starting at node: 3 and ending at node: 4\n",
      "\n",
      "k matrix for element 3 inputted at global matrix position 5,5\n",
      "\n",
      "Global K matrix: \n",
      "[[  337500.   337500.  -337500.   337500.        0.        0.        0.\n",
      "         0.        0.]\n",
      " [  337500.   450000.  -337500.   225000.        0.        0.        0.\n",
      "         0.        0.]\n",
      " [ -337500.  -337500.  3037500.  -337500.  1350000. -2700000.  1350000.\n",
      "         0.        0.]\n",
      " [  337500.   225000.  -337500.   450000.        0.        0.        0.\n",
      "         0.        0.]\n",
      " [       0.        0.  1350000.        0.   900000. -1350000.   450000.\n",
      "         0.        0.]\n",
      " [       0.        0. -2700000.        0. -1350000.  5400000.        0.\n",
      "  -2700000.  1350000.]\n",
      " [       0.        0.  1350000.        0.   450000.        0.  1800000.\n",
      "  -1350000.   450000.]\n",
      " [       0.        0.        0.        0.        0. -2700000. -1350000.\n",
      "   2700000. -1350000.]\n",
      " [       0.        0.        0.        0.        0.  1350000.   450000.\n",
      "  -1350000.   900000.]]\n",
      "The matrix is symmetric. \n",
      "\n",
      "Zero rows at: []\n"
     ]
    }
   ],
   "source": [
    "hinge_counter = 0\n",
    "for i in range(count_elems):\n",
    "    local_K = create_beam_local_k(lengths.value[i])\n",
    "    local_K *= beam_constant[i]\n",
    "    print(f\"\\nk matrix for element {i+1}: \\n{local_K}\")\n",
    "    #print(local_K)\n",
    "    start_node = nodes.value[i,0]\n",
    "    end_node = nodes.value[i,1]\n",
    "    print(f\"Element {i+1} starting at node: {start_node} and ending at node: {end_node}\")\n",
    "    #print(np.vsplit(local_K, 2))\n",
    "    Sn = (start_node - 1)*2\n",
    "    En = (end_node - 1)*2\n",
    "\n",
    "    x = Sn + hinge_counter\n",
    "    y = x\n",
    "\n",
    "    if HINGE_NODES is not None and (start_node - 1) in HINGE_NODES:\n",
    "        row_to_insert = np.zeros((1,4))\n",
    "        col_to_insert = np.zeros((5))\n",
    "\n",
    "        local_K = np.insert(local_K, 1, row_to_insert, axis = 0)\n",
    "        local_K = np.insert(local_K, 1, col_to_insert, axis = 1)\n",
    "\n",
    "        print(f\"\\nHinge modified K Matrix for element {i+1}: \\n{local_K}\")\n",
    "\n",
    "        hinge_counter += 1\n",
    "    print(f\"\\nk matrix for element {i+1} inputted at global matrix position {x},{y}\")\n",
    "\n",
    "    global_K[x:x+local_K.shape[0], y:y+local_K.shape[1]] += local_K\n",
    "\n",
    "print(f\"\\nGlobal K matrix: \\n{global_K}\")\n",
    "unmodified_global_K = global_K.copy()\n",
    "check_symmetric(global_K)\n",
    "print(f\"Zero rows at: {np.where(~global_K.any(axis=1))[0]}\")"
   ]
  },
  {
   "cell_type": "code",
   "execution_count": 14,
   "metadata": {},
   "outputs": [
    {
     "name": "stdout",
     "output_type": "stream",
     "text": [
      "[-5000.0, -1666.6666666666665, -7500.000000000001, 0, 1250.0000000000005, -5000.0, 1.1368683772161603e-13, -2500.0000000000005, 416.66666666666674]\n"
     ]
    }
   ],
   "source": [
    "if W3 != 0:  \n",
    "    for i in range(len(force_list)):\n",
    "        if force_list[i] is not None:\n",
    "            force_list[i] += fw[i]\n",
    "        else: force_list[i] = fw[i]\n",
    "print(force_list)"
   ]
  },
  {
   "cell_type": "code",
   "execution_count": 15,
   "metadata": {},
   "outputs": [
    {
     "name": "stdout",
     "output_type": "stream",
     "text": [
      "(9, 9)\n",
      "0\n",
      "u = 0 at row: 0\n",
      "1\n",
      "unknown u/phi at row 1\n",
      "2\n",
      "unknown u/phi at row 2\n",
      "3\n",
      "unknown u/phi at row 3\n",
      "4\n",
      "unknown u/phi at row 4\n",
      "5\n",
      "u = 0 at row: 5\n",
      "6\n",
      "unknown u/phi at row 6\n",
      "7\n",
      "u = 0 at row: 7\n",
      "8\n",
      "unknown u/phi at row 8\n",
      "global K -> \n",
      "[[       1.        0.        0.        0.        0.        0.        0.\n",
      "         0.        0.]\n",
      " [  337500.   450000.  -337500.   225000.        0.        0.        0.\n",
      "         0.        0.]\n",
      " [ -337500.  -337500.  3037500.  -337500.  1350000. -2700000.  1350000.\n",
      "         0.        0.]\n",
      " [  337500.   225000.  -337500.   450000.        0.        0.        0.\n",
      "         0.        0.]\n",
      " [       0.        0.  1350000.        0.   900000. -1350000.   450000.\n",
      "         0.        0.]\n",
      " [       0.        0.        0.        0.        0.        1.        0.\n",
      "         0.        0.]\n",
      " [       0.        0.  1350000.        0.   450000.        0.  1800000.\n",
      "  -1350000.   450000.]\n",
      " [       0.        0.        0.        0.        0.        0.        0.\n",
      "         1.        0.]\n",
      " [       0.        0.        0.        0.        0.  1350000.   450000.\n",
      "  -1350000.   900000.]]\n",
      "force list -> \n",
      "[0, -1666.6666666666665, -7500.000000000001, 0, 1250.0000000000005, 0, 1.1368683772161603e-13, 0, 416.66666666666674]\n"
     ]
    }
   ],
   "source": [
    "j = 0\n",
    "print(np.shape(global_K))\n",
    "while j < dimension:\n",
    "    print(f\"{j}\")\n",
    "\n",
    "    #first case: displacement BC = 0. In this case, set combined force values to 0, and alter \n",
    "    #global_K to reflect the changes.\n",
    "    if v_phi_list[j] == 0:\n",
    "        print(f\"u = 0 at row: {j}\")\n",
    "        force_list[j] = 0 \n",
    "        global_K[j] = 0\n",
    "        global_K[j,j] = 1\n",
    "        j+=1\n",
    "    elif v_phi_list[j] is None:\n",
    "        print(f\"unknown u/phi at row {j}\")\n",
    "        j+=1\n",
    "    else: #when we have a known, non-zero displacement boundary condition\n",
    "        #alter global stiffness to all zeros and one 1, and set force equal to displacement BC\n",
    "        print(f\"row {j} altered\")\n",
    "        print(v_phi_list[j])\n",
    "        force_list[j] = v_phi_list[j]\n",
    "        for c in range(count_nodes):\n",
    "            global_K[j,c] = 1 if global_K[j,c] > 0 else 0\n",
    "        j+=1\n",
    "\n",
    "\n",
    "print(f\"global K -> \\n{global_K}\")\n",
    "print(f\"force list -> \\n{force_list}\")"
   ]
  },
  {
   "cell_type": "code",
   "execution_count": 16,
   "metadata": {},
   "outputs": [
    {
     "name": "stdout",
     "output_type": "stream",
     "text": [
      "Final u and phi: [ 0.         -0.01944444 -0.02901235 -0.01203704  0.03796296 -0.\n",
      "  0.01388889  0.         -0.00648148]\n"
     ]
    },
    {
     "data": {
      "text/plain": [
       "125"
      ]
     },
     "execution_count": 16,
     "metadata": {},
     "output_type": "execute_result"
    }
   ],
   "source": [
    "#global_K.round(0)\n",
    "global_K_inv = inv(global_K)\n",
    "#print(global_K_inv)\n",
    "\n",
    "node = 1\n",
    "\n",
    "final_u_phi = np.matmul(global_K_inv, force_list)\n",
    "\n",
    "print(f\"Final u and phi: {final_u_phi}\")\n",
    "\n",
    "rounded_u_phi = [round(u_phi , 6) for u_phi in final_u_phi]\n",
    "f.write(f\"\\nDisplacements, Angles of Rotation = \\n{rounded_u_phi}\" \n",
    "        f\"\\n{LENGTHS_UNIT}, rad\")"
   ]
  },
  {
   "cell_type": "markdown",
   "metadata": {},
   "source": [
    "### Finding forces"
   ]
  },
  {
   "cell_type": "code",
   "execution_count": 17,
   "metadata": {},
   "outputs": [
    {
     "name": "stdout",
     "output_type": "stream",
     "text": [
      "loost ft length = 12\n",
      "i = 0, mover = 0\n",
      "local K element 1 = [[ 337500.  337500. -337500.  337500.]\n",
      " [ 337500.  450000. -337500.  225000.]\n",
      " [-337500. -337500.  337500. -337500.]\n",
      " [ 337500.  225000. -337500.  450000.]]\n",
      "Code FF02: at element 1\n",
      "\n",
      "Local U phi for element 1 : \n",
      "[[ 0.        ]\n",
      " [-0.01944444]\n",
      " [-0.02901235]\n",
      " [-0.01203704]]\n",
      "local forces (element 1) [N] = \n",
      "[[ 4166.66666667]\n",
      " [    0.        ]\n",
      " [ 5833.33333333]\n",
      " [-1666.66666667]]\n",
      "i = 1, mover = 4\n",
      "local K element 2 = [[ 2700000.  1350000. -2700000.  1350000.]\n",
      " [ 1350000.   900000. -1350000.   450000.]\n",
      " [-2700000. -1350000.  2700000. -1350000.]\n",
      " [ 1350000.   450000. -1350000.   900000.]]\n",
      "Code FF01: at element 2\n",
      "\n",
      "local fw for element 2 = [[-2500.        ]\n",
      " [ -416.66666667]\n",
      " [-2500.        ]\n",
      " [  416.66666667]]\n",
      "local forces (element 2) [N] = \n",
      "[[ -5833.33333333]\n",
      " [  1666.66666667]\n",
      " [ 10833.33333333]\n",
      " [-10000.        ]]\n",
      "i = 2, mover = 8\n",
      "local K element 3 = [[ 2700000.  1350000. -2700000.  1350000.]\n",
      " [ 1350000.   900000. -1350000.   450000.]\n",
      " [-2700000. -1350000.  2700000. -1350000.]\n",
      " [ 1350000.   450000. -1350000.   900000.]]\n",
      "Code FF02: at element 3\n",
      "\n",
      "Local U phi for element 3 : \n",
      "[[-0.        ]\n",
      " [ 0.01388889]\n",
      " [ 0.        ]\n",
      " [-0.00648148]]\n",
      "local forces (element 3) [N] = \n",
      "[[12500.]\n",
      " [10000.]\n",
      " [-7500.]\n",
      " [   -0.]]\n",
      "collected element forces [N] = \n",
      "[4166.666666666667, 4.547473508864641e-13, 5833.333333333334, -1666.666666666667, -5833.333333333343, 1666.6666666666647, 10833.333333333343, -10000.0, 12499.999999999996, 9999.999999999995, -7499.999999999996, -1.5916157281026244e-12]\n"
     ]
    },
    {
     "data": {
      "text/plain": [
       "145"
      ]
     },
     "execution_count": 17,
     "metadata": {},
     "output_type": "execute_result"
    }
   ],
   "source": [
    "elem_forces_moments = [0] * (count_elems*4)\n",
    "force_hinge_counter = 0\n",
    "try:\n",
    "    loose_ft\n",
    "    print(f\"loost ft length = {len(loose_ft)}\")\n",
    "except NameError:\n",
    "    print(\"no loose_ft\")\n",
    "    \n",
    "for i in range(count_elems):\n",
    "    start_node = nodes.value[i,0]\n",
    "    if W3 != 0:\n",
    "        local_K = create_beam_local_k(lengths.value[i])\n",
    "        local_K *= beam_constant[i]\n",
    "\n",
    "        mover = 4*i\n",
    "        print(f\"i = {i}, mover = {mover}\")\n",
    "\n",
    "        indexer = 2*i + force_hinge_counter\n",
    "\n",
    "        print(f\"local K element {i+1} = {local_K}\")\n",
    "        if HINGE_NODES is not None and (start_node - 1) in HINGE_NODES:\n",
    "            #if we have hinges and the element begins on a hinge\n",
    "            print(f\"Code FF01: at element {i+1}\")\n",
    "            local_U = np.array([\n",
    "            [final_u_phi[indexer]],\n",
    "            [final_u_phi[indexer + 2]], \n",
    "            [final_u_phi[indexer + 3]], \n",
    "            [final_u_phi[indexer + 4]]\n",
    "            ])\n",
    "\n",
    "            local_fw = np.array([\n",
    "            [loose_ft[mover]], \n",
    "            [loose_ft[mover + 1]], \n",
    "            [loose_ft[mover + 2]], \n",
    "            [loose_ft[mover + 3]]\n",
    "            ])\n",
    "\n",
    "            force_hinge_counter += 1\n",
    "            print(f\"\\nlocal fw for element {i+1} = {local_fw}\")\n",
    "\n",
    "        else:\n",
    "            print(f\"Code FF02: at element {i+1}\")\n",
    "            local_U = np.array([\n",
    "            [final_u_phi[2*i + force_hinge_counter]],\n",
    "            [final_u_phi[(2*i) + 1 + force_hinge_counter]], \n",
    "            [final_u_phi[(2*i) + 2 + force_hinge_counter]], \n",
    "            [final_u_phi[(2*i) + 3 + force_hinge_counter]]\n",
    "            ])\n",
    "\n",
    "            local_fw = np.array([\n",
    "            [loose_ft[mover]], \n",
    "            [loose_ft[mover + 1]], \n",
    "            [loose_ft[mover + 2]], \n",
    "            [loose_ft[mover + 3]]\n",
    "            ])\n",
    "\n",
    "            print(f\"\\nLocal U phi for element {i+1} : \\n{local_U}\")\n",
    "        local_forces = np.subtract((local_K @ local_U), local_fw)\n",
    "\n",
    "    else:\n",
    "        local_K = create_beam_local_k(lengths.value[i])\n",
    "        local_K *= beam_constant[i]\n",
    "\n",
    "        indexer = 2*i + force_hinge_counter\n",
    "        \n",
    "        if HINGE_NODES is not None and (start_node - 1) in HINGE_NODES:\n",
    "            print(f\"Code FF03: at element {i+1}\")\n",
    "            local_U = np.array([\n",
    "            [final_u_phi[indexer]],\n",
    "            [final_u_phi[indexer + 2]], \n",
    "            [final_u_phi[indexer + 3]], \n",
    "            [final_u_phi[indexer + 4]]\n",
    "            ])\n",
    "\n",
    "            force_hinge_counter += 1\n",
    "        \n",
    "        else:\n",
    "            print(f\"Code FF04: at element {i+1}\")\n",
    "            local_U = np.array([\n",
    "            [final_u_phi[indexer]],\n",
    "            [final_u_phi[indexer + 1]], \n",
    "            [final_u_phi[indexer + 2]], \n",
    "            [final_u_phi[indexer + 3]]\n",
    "            ])\n",
    "        local_forces = local_K @ local_U\n",
    "\n",
    "    #negatives convert to EB sign convention\n",
    "    #local_forces[1,0] *= -1\n",
    "    #local_forces[2,0] *= -1\n",
    "\n",
    "    elem_forces_moments[4*i] = local_forces[0,0]\n",
    "    elem_forces_moments[4*i + 1] = local_forces[1,0]\n",
    "    elem_forces_moments[4*i + 2] = local_forces[2,0]\n",
    "    elem_forces_moments[4*i + 3] = local_forces[3,0]\n",
    "\n",
    "    print(f\"local forces (element {i+1}) [{FORCE_UNIT}] = \\n{local_forces}\")\n",
    "\n",
    "print(f\"collected element forces [{FORCE_UNIT}] = \\n{elem_forces_moments}\")\n",
    "rounded_f_m = [round(element , 4) for element in elem_forces_moments]\n",
    "f.write(f\"\\n\\nForces, Moments = \\n{rounded_f_m}\\n{FORCE_UNIT}, {FORCE_UNIT}*{LENGTHS_UNIT}\")\n"
   ]
  },
  {
   "attachments": {},
   "cell_type": "markdown",
   "metadata": {},
   "source": [
    "## Finding Stresses"
   ]
  },
  {
   "cell_type": "code",
   "execution_count": 18,
   "metadata": {},
   "outputs": [
    {
     "name": "stdout",
     "output_type": "stream",
     "text": [
      "elem forces (fea sign convention) = \n",
      "[4166.666666666667, 5833.333333333334, -5833.333333333343, 10833.333333333343, 12499.999999999996, -7499.999999999996]\n",
      "elem moments (fea sign convention) = \n",
      "[4.547473508864641e-13, -1666.666666666667, 1666.6666666666647, -10000.0, 9999.999999999995, -1.5916157281026244e-12]\n",
      "max force = 12499.999999999996, max moment = 10000.0\n",
      "SM Code 1: circular cross section\n",
      "\n",
      "maximum transverse shear stress = 2102610.4350167997 Pa\n",
      "\n",
      "maximum bending stress = 100461585.13621335 Pa\n"
     ]
    },
    {
     "data": {
      "text/plain": [
       "44"
      ]
     },
     "execution_count": 18,
     "metadata": {},
     "output_type": "execute_result"
    }
   ],
   "source": [
    "elem_forces = [0] * (count_elems * 2)\n",
    "elem_moments = [0] * (count_elems * 2)\n",
    "\n",
    "for i in range(len(elem_forces_moments)):\n",
    "    if check_even(i) == True:\n",
    "        elem_forces[int(i / 2)] = elem_forces_moments[i]\n",
    "    else:\n",
    "        elem_moments[int((i-1) / 2)] = elem_forces_moments[i]\n",
    "\n",
    "print(f\"elem forces (fea sign convention) = \\n{elem_forces}\")\n",
    "print(f\"elem moments (fea sign convention) = \\n{elem_moments}\")\n",
    "\n",
    "abs_forces = [abs(element) for element in elem_forces]\n",
    "abs_moments = [abs(element) for element in elem_moments]\n",
    "\n",
    "max_force = max(abs_forces)\n",
    "max_moment = max(abs_moments)\n",
    "\n",
    "print(f\"max force = {max_force}, max moment = {max_moment}\")\n",
    "\n",
    "if cross_section == \"Circular\":\n",
    "    print(\"SM Code 1: circular cross section\")\n",
    "    radius = ((4*I_.value)/m.pi)**0.25\n",
    "    max_trans_shear = (4*max_force)/(3*((m.pi)*(radius**2)))\n",
    "    max_bending_stress = (max_moment * radius)/(I_.value)\n",
    "\n",
    "elif cross_section == \"Square\":\n",
    "    print(\"SM Code 2: square cross section\")\n",
    "    side_length = (12 * I_.value)**0.25\n",
    "    max_trans_shear = (3*max_force)/(2*(side_length**2))\n",
    "    max_bending_stress = (max_moment * side_length * 0.5)/(I_.value)\n",
    "\n",
    "else:\n",
    "    print(f\"Error SM1: Calculating for a {cross_section} cross section is not supported.\")\n",
    "\n",
    "print(f\"\\nmaximum transverse shear stress = {max_trans_shear} {YM_UNIT}\")\n",
    "f.write(f\"\\n\\nMaximum transverse shear stress = {str(round(max_trans_shear, 4))} {YM_UNIT}\")\n",
    "\n",
    "print(f\"\\nmaximum bending stress = {max_bending_stress} {YM_UNIT}\")\n",
    "f.write(f\"\\n\\nMaximum bending stress = {str(round(max_bending_stress, 4))} {YM_UNIT}\")"
   ]
  },
  {
   "cell_type": "code",
   "execution_count": 19,
   "metadata": {},
   "outputs": [
    {
     "name": "stdout",
     "output_type": "stream",
     "text": [
      "y values = [4166.6667, -5833.3333, -5833.3333, -10833.3333, 12500.0, 7500.0, 0]\n",
      "0\n",
      "1\n",
      "2\n",
      "x values = [0, 2, 2, 3, 3, 4, 4]\n",
      "y values = [-0.0, -1666.6667, -1666.6667, -10000.0, -10000.0, -0.0, 0]\n",
      "x values = [0, 2, 2, 3, 3, 4, 4]\n",
      "local x adjustment factor = 0\n",
      "element 1: start node 1\n",
      "0.0 2.0\n",
      "Element 1: DF Code 2\n",
      "[1.0570319259692532e-18, -0.019444444444444445, -0.02901234567901234, -0.012037037037037035]\n",
      "local x adjustment factor = 2\n",
      "element 2: start node 2\n",
      "2.0 3.0\n",
      "Element 2: DF Code 1\n",
      "[-0.02901234567901234, 0.037962962962962955, -3.668600211923362e-19, 0.013888888888888885]\n",
      "local x adjustment factor = 3\n",
      "element 3: start node 3\n",
      "3.0 4.0\n",
      "Element 3: DF Code 2\n",
      "[-3.668600211923362e-19, 0.013888888888888885, 0.0, -0.0064814814814814796]\n"
     ]
    },
    {
     "data": {
      "text/plain": [
       "<Figure size 640x480 with 0 Axes>"
      ]
     },
     "metadata": {},
     "output_type": "display_data"
    },
    {
     "data": {
      "image/png": "[encoded data removed]",
      "text/plain": [
       "<Figure size 800x1400 with 3 Axes>"
      ]
     },
     "metadata": {},
     "output_type": "display_data"
    },
    {
     "data": {
      "text/plain": [
       "<Figure size 640x480 with 0 Axes>"
      ]
     },
     "metadata": {},
     "output_type": "display_data"
    },
    {
     "data": {
      "text/plain": [
       "<Figure size 640x480 with 0 Axes>"
      ]
     },
     "metadata": {},
     "output_type": "display_data"
    }
   ],
   "source": [
    "#Shear Force Diagram\n",
    "for i in range(len(elem_forces)):\n",
    "    if check_even(i) == False:\n",
    "        elem_forces[i] *= -1\n",
    "\n",
    "shear_y_values = elem_forces\n",
    "shear_y_values = [round(elem, 4) for elem in shear_y_values]\n",
    "shear_y_values.append(0)\n",
    "print(f\"y values = {shear_y_values}\")\n",
    "\n",
    "x_values = [0] * len(elem_forces)\n",
    "\n",
    "for i in range(count_elems):\n",
    "    print(i)\n",
    "    x_values[2*i] += node_coords.value[i][0]\n",
    "    x_values[(2*i) + 1] += node_coords.value[i+1][0]\n",
    "\n",
    "x_values.append(x_values[len(elem_forces) - 1])\n",
    "\n",
    "print(f\"x values = {x_values}\")\n",
    "\n",
    "shear_fig = plt.figure(\"Shear Figure\")\n",
    "\n",
    "figure, ax = plt.subplots(nrows=3,ncols=1,sharex=True,figsize=(8,14))\n",
    "#plt.rcParams[\"figure.figsize\"] = [10, 14]\n",
    "#plt.rcParams[\"figure.autolayout\"] = True\n",
    "\n",
    "ax[0].set_title(f\"HW{homework_number} Problem {problem_number} FEA Shear Force Diagram\")\n",
    "ax[0].set_xlim(0, total_length * 1.1)\n",
    "ax[0].axhline(0, color=\"black\", linestyle = \"--\")\n",
    "ax[0].axvline(0, color=\"black\", linestyle = \"--\")\n",
    "ax[0].set_ylabel(f\"V [{FORCE_UNIT}]\")\n",
    "ax[0].set_xlabel(f\"x [{LENGTHS_UNIT}]\")\n",
    "#plt.subplot(3,1,1)\n",
    "ax[0].plot(x_values, shear_y_values, color = \"c\")\n",
    "\n",
    "#shear_fig.savefig(f\"HW{homework_number} Problem {problem_number} Shear Figure\")\n",
    "\n",
    "#Bending Moment Diagram\n",
    "#convert element moments into E-B sign convention\n",
    "for i in range(len(elem_moments)):\n",
    "    if check_even(i) == True:\n",
    "        elem_moments[i] *= -1\n",
    "\n",
    "moment_y_values = elem_moments\n",
    "moment_y_values = [round(elem, 4) for elem in moment_y_values]\n",
    "moment_y_values.append(0)\n",
    "print(f\"y values = {moment_y_values}\")\n",
    "\n",
    "print(f\"x values = {x_values}\")\n",
    "\n",
    "moment_fig = plt.figure(\"Moment Figure\")\n",
    "\n",
    "ax[1].set_title(f\"HW{homework_number} Problem {problem_number} FEA Bending Moment Diagram\")\n",
    "ax[1].set_xlim(0, total_length * 1.1)\n",
    "ax[1].axhline(0, color=\"black\", linestyle = \"--\")\n",
    "ax[1].axvline(0, color=\"black\", linestyle = \"--\")\n",
    "ax[1].set_ylabel(f\"M [{FORCE_UNIT}*{LENGTHS_UNIT}]\")\n",
    "ax[1].set_xlabel(f\"x [{LENGTHS_UNIT}]\")\n",
    "ax[1].plot(x_values, moment_y_values, color = \"m\")\n",
    "\n",
    "#mom.savefig(f\"HW{homework_number} Problem {problem_number} Moment Figure\")\n",
    "\n",
    "#Displacement Figure\n",
    "displacement_fig = plt.figure(\"Displacement Field\")\n",
    "\n",
    "disp_hinge_counter = 0\n",
    "\n",
    "for i in range(count_elems):\n",
    "    start_node = nodes.value[i,0]\n",
    "    print(f\"local x adjustment factor = {node_coords.value[i][0]}\")\n",
    "    print(f\"element {i+1}: start node {start_node}\")\n",
    "\n",
    "    disp_x_values = np.linspace(node_coords.value[i][0], node_coords.value[i+1][0], 200)\n",
    "    print(disp_x_values[0], disp_x_values[199])\n",
    "    \n",
    "    if HINGE_NODES is not None and (start_node - 1) in HINGE_NODES:\n",
    "        print(f\"Element {i+1}: DF Code 1\")\n",
    "        u1 = final_u_phi[2*i + disp_hinge_counter]\n",
    "        u2 = final_u_phi[(2*i) + 2 + disp_hinge_counter]\n",
    "        u3 = final_u_phi[(2*i) + 3 + disp_hinge_counter]\n",
    "        u4 = final_u_phi[(2*i) + 4 + disp_hinge_counter]\n",
    "        print([u1, u2, u3, u4])\n",
    "\n",
    "        disp_hinge_counter += 1\n",
    "\n",
    "    else:  \n",
    "        print(f\"Element {i+1}: DF Code 2\")\n",
    "        u1 = final_u_phi[2*i + disp_hinge_counter]\n",
    "        u2 = final_u_phi[(2*i) + 1 + disp_hinge_counter]\n",
    "        u3 = final_u_phi[(2*i) + 2 + disp_hinge_counter]\n",
    "        u4 = final_u_phi[(2*i) + 3 + disp_hinge_counter]\n",
    "        print([u1, u2, u3, u4])\n",
    "        \n",
    "    def y(x): \n",
    "            return (\n",
    "                create_NT(x - node_coords.value[i][0], lengths.value[i])[0,0] * u1\n",
    "                + create_NT(x - node_coords.value[i][0], lengths.value[i])[0,1] * u2\n",
    "                + create_NT(x - node_coords.value[i][0], lengths.value[i])[0,2] * u3\n",
    "                + create_NT(x - node_coords.value[i][0], lengths.value[i])[0,3] * u4\n",
    "            ) \n",
    "    \n",
    "    disp_y_values = list(map(y, disp_x_values))\n",
    "    \n",
    "    #for i in range(0, 200, 10):\n",
    "     #   print(f\"{disp_x_values[i]}, {disp_y_values[i]}\")\n",
    "\n",
    "    #plot labels\n",
    "    ax[2].set_title(f\"HW{homework_number} Problem {problem_number} FEA Displacement Field\")\n",
    "    ax[2].set_xlim(0, total_length * 1.1)\n",
    "    ax[2].axhline(0, color=\"black\", linestyle = \"--\")\n",
    "    ax[2].axvline(0, color=\"black\", linestyle = \"--\")\n",
    "    ax[2].set_ylabel(f\"v [{LENGTHS_UNIT}]\")\n",
    "    ax[2].set_xlabel(f\"x [{LENGTHS_UNIT}]\")\n",
    "\n",
    "    ax[2].plot(disp_x_values, disp_y_values)\n",
    "\n",
    "figure.savefig(f\"HW{homework_number} Problem {problem_number} Collected Figures\")\n",
    "\n",
    "\n",
    "\n"
   ]
  },
  {
   "cell_type": "code",
   "execution_count": 20,
   "metadata": {},
   "outputs": [],
   "source": [
    "f.close()"
   ]
  }
 ],
 "metadata": {
  "kernelspec": {
   "display_name": "base",
   "language": "python",
   "name": "python3"
  },
  "language_info": {
   "codemirror_mode": {
    "name": "ipython",
    "version": 3
   },
   "file_extension": ".py",
   "mimetype": "text/x-python",
   "name": "python",
   "nbconvert_exporter": "python",
   "pygments_lexer": "ipython3",
   "version": "3.9.13"
  },
  "orig_nbformat": 4,
  "vscode": {
   "interpreter": {
    "hash": "9c3bb5a3ca18bff73ecf954c0a15a2dd79a1e96da955174a022efcd9aac1fade"
   }
  }
 },
 "nbformat": 4,
 "nbformat_minor": 2
}

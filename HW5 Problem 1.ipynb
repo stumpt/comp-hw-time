{
 "cells": [
  {
   "cell_type": "code",
   "execution_count": 1,
   "metadata": {},
   "outputs": [],
   "source": [
    "import numpy as np\n",
    "import scipy.integrate as integrate\n",
    "from numpy.linalg import inv\n",
    "import math as m\n",
    "from functions import *\n",
    "import importlib\n",
    "\n",
    "%load_ext autoreload\n",
    "\n",
    "%autoreload 2\n",
    "\n",
    "np.set_printoptions(suppress=True)"
   ]
  },
  {
   "attachments": {},
   "cell_type": "markdown",
   "metadata": {},
   "source": [
    "This next block will create a class for all of our inputs to be placed into. This will allow for all inputs to have easily accessed names, values, and units."
   ]
  },
  {
   "cell_type": "code",
   "execution_count": 2,
   "metadata": {},
   "outputs": [],
   "source": [
    "class Input:\n",
    "    def __init__(self, name, value, unit):\n",
    "        self.name = name\n",
    "        self.value = value\n",
    "        #self.valueType = type(value)\n",
    "        self.unit = unit\n",
    "    \n",
    "    def printValues(self):\n",
    "        for attr, value in self.__dict__.items():\n",
    "            print(\"\\nAttribute: \" + str(attr))\n",
    "            print(\"Value: {0}\".format(value))"
   ]
  },
  {
   "attachments": {},
   "cell_type": "markdown",
   "metadata": {},
   "source": [
    "# Please fill in all inputs and their units below\n",
    "# v v v v v v v v v v v v v v v v v v v v v v v v v v v v v v v v v v v v v v v "
   ]
  },
  {
   "cell_type": "code",
   "execution_count": 3,
   "metadata": {},
   "outputs": [],
   "source": [
    "YoungsModulus = 30*(10**3)\n",
    "YM_Unit = \"ksi\"\n",
    "\n",
    "Area = 1\n",
    "A_Unit = \"in2\"\n",
    "\n",
    "P1y = -2.5\n",
    "Force_Unit = \"kip\"\n",
    "\n",
    "# node connections for each element\n",
    "nArray = np.array([[1,2], [1,3], [2,3], [2,4], [3,4], [3,5], [4,5]])\n",
    "\n",
    "# list of lengths corresponding to each element\n",
    "# the length of element n is contained in lengths\n",
    "lArray = np.array([6, 3*(m.sqrt(3)), 3, 6, 3*(m.sqrt(3)), 6, 3])\n",
    "lArray *= 12\n",
    "\n",
    "Length_unit = \"in\"\n",
    "\n",
    "# list of angles relative to positive x axis for each element\n",
    "aArray = np.array([(7/6), 1, 0.5, (5/6), 1, (5/6), 0.5])\n",
    "aArray *= m.pi\n",
    "\n",
    "Angle_unit = \"rad\"\n",
    "\n",
    "# input boundary conditions below\n",
    "# for displacements: [node#, u, v]\n",
    "# for forces: [node#, Fx, Fy]\n",
    "\n",
    "uv_BCs = np.array([[4,0,0],[5,0,0]])\n",
    "\n",
    "force_BCs = np.array([[1, 0, P1y],[4, None, None], [5, None, None]])"
   ]
  },
  {
   "attachments": {},
   "cell_type": "markdown",
   "metadata": {},
   "source": [
    "# ^^^^^^^^^^^^^^^^^^^^^^^^^^^^^^^^^^^^^^^^^^^"
   ]
  },
  {
   "cell_type": "code",
   "execution_count": 4,
   "metadata": {},
   "outputs": [
    {
     "name": "stdout",
     "output_type": "stream",
     "text": [
      "\n",
      "Attribute: name\n",
      "Value: Node numbers\n",
      "\n",
      "Attribute: value\n",
      "Value: [[1 2]\n",
      " [1 3]\n",
      " [2 3]\n",
      " [2 4]\n",
      " [3 4]\n",
      " [3 5]\n",
      " [4 5]]\n",
      "\n",
      "Attribute: unit\n",
      "Value: None\n",
      "\n",
      "Attribute: name\n",
      "Value: Lengths\n",
      "\n",
      "Attribute: value\n",
      "Value: [72.         62.35382907 36.         72.         62.35382907 72.\n",
      " 36.        ]\n",
      "\n",
      "Attribute: unit\n",
      "Value: in\n",
      "\n",
      "Attribute: name\n",
      "Value: Element Angles (relative to the positive x axis)\n",
      "\n",
      "Attribute: value\n",
      "Value: [3.66519143 3.14159265 1.57079633 2.61799388 3.14159265 2.61799388\n",
      " 1.57079633]\n",
      "\n",
      "Attribute: unit\n",
      "Value: rad\n"
     ]
    }
   ],
   "source": [
    "E = Input(\"Young's Modulus\", 30*(10**3), \"ksi\")\n",
    "\n",
    "A = Input(\"Area\", 1, \"in^2\")\n",
    "\n",
    "nodes = Input(\"Node numbers\", nArray, \"None\")\n",
    "nodes.printValues()\n",
    "\n",
    "lengths = Input(\"Lengths\", lArray, Length_unit)\n",
    "lengths.printValues()\n",
    "\n",
    "angles = Input(\"Element Angles (relative to the positive x axis)\", aArray, Angle_unit)\n",
    "angles.printValues()"
   ]
  },
  {
   "attachments": {},
   "cell_type": "markdown",
   "metadata": {},
   "source": [
    "number of elements is the number of rows in nodes\n",
    "<br>number of nodes is the maximum number found in nodes"
   ]
  },
  {
   "cell_type": "code",
   "execution_count": 5,
   "metadata": {},
   "outputs": [
    {
     "name": "stdout",
     "output_type": "stream",
     "text": [
      "7\n",
      "5\n"
     ]
    }
   ],
   "source": [
    "numElems = len(nodes.value)\n",
    "print(numElems)\n",
    "numNodes = nodes.value.max()\n",
    "print(numNodes)"
   ]
  },
  {
   "attachments": {},
   "cell_type": "markdown",
   "metadata": {},
   "source": [
    "two reactions per node\n",
    "<br>uvList -> list of unknowns (node displacements)\n",
    "<br>we can input our known values -> fixed_nodes at nodes 4 & 5\n",
    "<br>these fixed nodes numbers are taken straight from diagram (not adjusted for python counting)\n",
    "<br><br>u and v for any given node is given as (node# - 1)* 2 and ((node# -1)* 2) + 1 respectively.\n"
   ]
  },
  {
   "cell_type": "code",
   "execution_count": 6,
   "metadata": {},
   "outputs": [
    {
     "name": "stdout",
     "output_type": "stream",
     "text": [
      "displacement bcs: [node number, x disp (u), y disp (v)]\n",
      "[[4 0 0]\n",
      " [5 0 0]]\n",
      "adjusting array to account for: displacements boundary conditions\n",
      "case 1 for BC 1\n",
      "Case 2 for BC 1\n",
      "case 1 for BC 2\n",
      "Case 2 for BC 2\n",
      "done adjusting displacements array!\n",
      "u & v list:\n",
      "[None, None, None, None, None, None, 0, 0, 0, 0]\n"
     ]
    }
   ],
   "source": [
    "uvList = [None]*(numNodes*2)\n",
    "print(\"displacement bcs: [node number, x disp (u), y disp (v)]\")\n",
    "print(uv_BCs)\n",
    "\n",
    "adjust_array(uvList, uv_BCs, \"displacements\")\n",
    "print(\"u & v list:\")\n",
    "print(uvList)"
   ]
  },
  {
   "attachments": {},
   "cell_type": "markdown",
   "metadata": {},
   "source": [
    "Same procedure as displacement BCs for forces\n",
    "<br>Input BCs given as : [node #, x force, y force]"
   ]
  },
  {
   "cell_type": "code",
   "execution_count": 7,
   "metadata": {},
   "outputs": [
    {
     "name": "stdout",
     "output_type": "stream",
     "text": [
      "number of nodes with concentrated loads: 1\n",
      "at nodes: [0]\n",
      "adjusting array to account for: forces boundary conditions\n",
      "case 3 for BC 1\n",
      "Case 2 for BC 1\n",
      "case 1 for BC 2\n",
      "Case 2 for BC 2\n",
      "case 1 for BC 3\n",
      "Case 2 for BC 3\n",
      "done adjusting forces array!\n",
      "force list: \n",
      "[[ 0. ]\n",
      " [-2.5]\n",
      " [ 0. ]\n",
      " [ 0. ]\n",
      " [ 0. ]\n",
      " [ 0. ]\n",
      " [ nan]\n",
      " [ nan]\n",
      " [ nan]\n",
      " [ nan]]\n"
     ]
    }
   ],
   "source": [
    "#forceList = [0]*(numNodes*2)\n",
    "forceList = np.zeros(((numNodes*2), 1))\n",
    "\n",
    "nodesWithLoads = []\n",
    "\n",
    "loadedNodes = 0\n",
    "\n",
    "for i in range(len(force_BCs)):\n",
    "    if force_BCs[i,1] or force_BCs[i,2] != None:\n",
    "        loadedNodes += 1\n",
    "        nodesWithLoads.append((force_BCs[i,0] - 1))\n",
    "\n",
    "\n",
    "print(\"number of nodes with concentrated loads: {0}\".format(loadedNodes))\n",
    "print(\"at nodes: {0}\".format(nodesWithLoads))\n",
    "\n",
    "#adjust force array given concentrated loading conditions\n",
    "adjust_array(forceList, force_BCs, \"forces\")\n",
    "\n",
    "print(\"force list: \")\n",
    "print(forceList)"
   ]
  },
  {
   "attachments": {},
   "cell_type": "markdown",
   "metadata": {},
   "source": [
    "Global [k] matrix is a symmetric array of shape (numNodes x 2, numNodes x 2)\n",
    "<br>Bar Constants are one per element, stored in a numElemes * 1 array."
   ]
  },
  {
   "cell_type": "code",
   "execution_count": 8,
   "metadata": {},
   "outputs": [
    {
     "name": "stdout",
     "output_type": "stream",
     "text": [
      "(10, 10)\n",
      "Bar Constants = \n",
      "[[416.66666667]\n",
      " [481.12522432]\n",
      " [833.33333333]\n",
      " [416.66666667]\n",
      " [481.12522432]\n",
      " [416.66666667]\n",
      " [833.33333333]]\n"
     ]
    }
   ],
   "source": [
    "globalK = np.zeros(((numNodes*2),(numNodes*2)))\n",
    "print(globalK.shape)\n",
    "\n",
    "barConstant = np.zeros((numElems,1))\n",
    "for i in range(numElems):\n",
    "    barConstant[i] = (E.value*A.value)/lengths.value[i]\n",
    "\n",
    "print(\"Bar Constants = \")\n",
    "print(barConstant)"
   ]
  },
  {
   "attachments": {},
   "cell_type": "markdown",
   "metadata": {},
   "source": [
    "## Creating the finite element equation for each Truss Element\n",
    "### Combining into the global K array"
   ]
  },
  {
   "cell_type": "code",
   "execution_count": 9,
   "metadata": {},
   "outputs": [
    {
     "name": "stdout",
     "output_type": "stream",
     "text": [
      "\n",
      "k matrix for element 1: \n",
      "[[ 312.5         180.42195912 -312.5        -180.42195912]\n",
      " [ 180.42195912  104.16666667 -180.42195912 -104.16666667]\n",
      " [-312.5        -180.42195912  312.5         180.42195912]\n",
      " [-180.42195912 -104.16666667  180.42195912  104.16666667]]\n",
      "Element 1 starting at node: 1 and ending at node: 2\n",
      "\n",
      "k matrix for element 2: \n",
      "[[ 481.12522432   -0.         -481.12522432    0.        ]\n",
      " [  -0.            0.            0.           -0.        ]\n",
      " [-481.12522432    0.          481.12522432   -0.        ]\n",
      " [   0.           -0.           -0.            0.        ]]\n",
      "Element 2 starting at node: 1 and ending at node: 3\n",
      "\n",
      "k matrix for element 3: \n",
      "[[   0.            0.           -0.           -0.        ]\n",
      " [   0.          833.33333333   -0.         -833.33333333]\n",
      " [  -0.           -0.            0.            0.        ]\n",
      " [  -0.         -833.33333333    0.          833.33333333]]\n",
      "Element 3 starting at node: 2 and ending at node: 3\n",
      "\n",
      "k matrix for element 4: \n",
      "[[ 312.5        -180.42195912 -312.5         180.42195912]\n",
      " [-180.42195912  104.16666667  180.42195912 -104.16666667]\n",
      " [-312.5         180.42195912  312.5        -180.42195912]\n",
      " [ 180.42195912 -104.16666667 -180.42195912  104.16666667]]\n",
      "Element 4 starting at node: 2 and ending at node: 4\n",
      "\n",
      "k matrix for element 5: \n",
      "[[ 481.12522432   -0.         -481.12522432    0.        ]\n",
      " [  -0.            0.            0.           -0.        ]\n",
      " [-481.12522432    0.          481.12522432   -0.        ]\n",
      " [   0.           -0.           -0.            0.        ]]\n",
      "Element 5 starting at node: 3 and ending at node: 4\n",
      "\n",
      "k matrix for element 6: \n",
      "[[ 312.5        -180.42195912 -312.5         180.42195912]\n",
      " [-180.42195912  104.16666667  180.42195912 -104.16666667]\n",
      " [-312.5         180.42195912  312.5        -180.42195912]\n",
      " [ 180.42195912 -104.16666667 -180.42195912  104.16666667]]\n",
      "Element 6 starting at node: 3 and ending at node: 5\n",
      "\n",
      "k matrix for element 7: \n",
      "[[   0.            0.           -0.           -0.        ]\n",
      " [   0.          833.33333333   -0.         -833.33333333]\n",
      " [  -0.           -0.            0.            0.        ]\n",
      " [  -0.         -833.33333333    0.          833.33333333]]\n",
      "Element 7 starting at node: 4 and ending at node: 5\n",
      "\n",
      "Global K matrix: \n",
      "[[ 793.62522432  180.42195912 -312.5        -180.42195912 -481.12522432\n",
      "     0.            0.            0.            0.            0.        ]\n",
      " [ 180.42195912  104.16666667 -180.42195912 -104.16666667    0.\n",
      "    -0.            0.            0.            0.            0.        ]\n",
      " [-312.5        -180.42195912  625.            0.           -0.\n",
      "    -0.         -312.5         180.42195912    0.            0.        ]\n",
      " [-180.42195912 -104.16666667    0.         1041.66666667   -0.\n",
      "  -833.33333333  180.42195912 -104.16666667    0.            0.        ]\n",
      " [-481.12522432    0.           -0.           -0.         1274.75044865\n",
      "  -180.42195912 -481.12522432    0.         -312.5         180.42195912]\n",
      " [   0.           -0.           -0.         -833.33333333 -180.42195912\n",
      "   937.5           0.           -0.          180.42195912 -104.16666667]\n",
      " [   0.            0.         -312.5         180.42195912 -481.12522432\n",
      "     0.          793.62522432 -180.42195912   -0.           -0.        ]\n",
      " [   0.            0.          180.42195912 -104.16666667    0.\n",
      "    -0.         -180.42195912  937.5          -0.         -833.33333333]\n",
      " [   0.            0.            0.            0.         -312.5\n",
      "   180.42195912   -0.           -0.          312.5        -180.42195912]\n",
      " [   0.            0.            0.            0.          180.42195912\n",
      "  -104.16666667   -0.         -833.33333333 -180.42195912  937.5       ]]\n",
      "The matrix is symmetric. \n",
      "\n"
     ]
    }
   ],
   "source": [
    "for i in range(numElems):\n",
    "    kMatrix = create_truss_k(angles.value[i])\n",
    "    kMatrix *= barConstant[i]\n",
    "    print(\"\\nk matrix for element {1}: \\n{0}\".format(kMatrix, (i+1)))\n",
    "    #print(kMatrix)\n",
    "    startNode = nodes.value[i,0]\n",
    "    endNode = nodes.value[i,1]\n",
    "    print(\"Element \" + str(i+1) + \" starting at node: \" + str(startNode) + \" and ending at node: \" + str(endNode))\n",
    "    #print(np.vsplit(kMatrix, 2))\n",
    "    Sn = (startNode - 1)*2\n",
    "    En = (endNode - 1)*2\n",
    "    #first, adjust 0,0 -> then, 2,0; 0,2; and 2,2\n",
    "    block_array_adjust(Sn, Sn, globalK, 0, 0, kMatrix)\n",
    "    block_array_adjust(En, Sn, globalK, 2, 0, kMatrix)\n",
    "    block_array_adjust(Sn, En, globalK, 0, 2, kMatrix)\n",
    "    block_array_adjust(En, En, globalK, 2, 2, kMatrix)\n",
    "\n",
    "print(\"\\nGlobal K matrix: \\n{0}\".format(globalK))\n",
    "unmodified_globalK = globalK.copy()\n",
    "check_Symmetric(globalK)"
   ]
  },
  {
   "cell_type": "code",
   "execution_count": 10,
   "metadata": {},
   "outputs": [
    {
     "name": "stdout",
     "output_type": "stream",
     "text": [
      "[[nan]\n",
      " [nan]\n",
      " [nan]\n",
      " [nan]\n",
      " [nan]\n",
      " [nan]\n",
      " [nan]\n",
      " [nan]\n",
      " [nan]\n",
      " [nan]]\n"
     ]
    }
   ],
   "source": [
    "#print(inv(globalK))\n",
    "u = np.linalg.inv(globalK).dot(forceList)\n",
    "print(u)"
   ]
  },
  {
   "cell_type": "code",
   "execution_count": 11,
   "metadata": {},
   "outputs": [
    {
     "name": "stdout",
     "output_type": "stream",
     "text": [
      "0\n",
      "2\n",
      "none detected at row 2\n",
      "3\n",
      "none detected at row 3\n",
      "4\n",
      "none detected at row 4\n",
      "5\n",
      "none detected at row 5\n",
      "6\n",
      "u = 0 at row: 6\n",
      "7\n",
      "u = 0 at row: 7\n",
      "8\n",
      "u = 0 at row: 8\n",
      "9\n",
      "u = 0 at row: 9\n",
      "[[ 793.62522432  180.42195912 -312.5        -180.42195912 -481.12522432\n",
      "     0.            0.            0.            0.            0.        ]\n",
      " [ 180.42195912  104.16666667 -180.42195912 -104.16666667    0.\n",
      "    -0.            0.            0.            0.            0.        ]\n",
      " [-312.5        -180.42195912  625.            0.           -0.\n",
      "    -0.         -312.5         180.42195912    0.            0.        ]\n",
      " [-180.42195912 -104.16666667    0.         1041.66666667   -0.\n",
      "  -833.33333333  180.42195912 -104.16666667    0.            0.        ]\n",
      " [-481.12522432    0.           -0.           -0.         1274.75044865\n",
      "  -180.42195912 -481.12522432    0.         -312.5         180.42195912]\n",
      " [   0.           -0.           -0.         -833.33333333 -180.42195912\n",
      "   937.5           0.           -0.          180.42195912 -104.16666667]\n",
      " [   0.            0.            0.            0.            0.\n",
      "     0.            1.            0.            0.            0.        ]\n",
      " [   0.            0.            0.            0.            0.\n",
      "     0.            0.            1.            0.            0.        ]\n",
      " [   0.            0.            0.            0.            0.\n",
      "     0.            0.            0.            1.            0.        ]\n",
      " [   0.            0.            0.            0.            0.\n",
      "     0.            0.            0.            0.            1.        ]]\n",
      "[[ 0. ]\n",
      " [-2.5]\n",
      " [ 0. ]\n",
      " [ 0. ]\n",
      " [ 0. ]\n",
      " [ 0. ]\n",
      " [ 0. ]\n",
      " [ 0. ]\n",
      " [ 0. ]\n",
      " [ 0. ]]\n"
     ]
    }
   ],
   "source": [
    "j = 0\n",
    "while j < numNodes*2:\n",
    "    print(str(j))\n",
    "    if j in nodesWithLoads:\n",
    "        j+=2\n",
    "    #first case: displacement BC = 0. In this case, set combined force values to 0, and alter \n",
    "    #globalK to reflect the changes.\n",
    "    elif uvList[j] == 0:\n",
    "        print(\"u = 0 at row: \" + str(j))\n",
    "        forceList[j] = 0 \n",
    "        globalK[j] = 0\n",
    "        globalK[j,j] = 1\n",
    "        j+=1\n",
    "    elif uvList[j] == None:\n",
    "        print(\"none detected at row \" + str(j))\n",
    "        j+=1\n",
    "    else: #when we have a known, non-zero displacement boundary condition\n",
    "        #alter global stiffness to all zeros and one 1, and set force equal to displacement BC\n",
    "        print(\"row \" + str(j) + \" altered\")\n",
    "        print(uvList[j])\n",
    "        forceList[j] = uvList[j]\n",
    "        for c in range(numNodes):\n",
    "            if (globalK[j,c] > 0) == True:\n",
    "                globalK[j,c] = 1\n",
    "            else:\n",
    "                globalK[j,c] = 0\n",
    "        j+=1\n",
    "\n",
    "                \n",
    "print(globalK)\n",
    "print(forceList)"
   ]
  },
  {
   "cell_type": "code",
   "execution_count": 12,
   "metadata": {},
   "outputs": [
    {
     "name": "stdout",
     "output_type": "stream",
     "text": [
      "u1 = [0.]\n",
      "v1 = [-0.18717691]\n",
      "u2 = [-0.05403332]\n",
      "v2 = [-0.06958846]\n",
      "u3 = [-0.009]\n",
      "v3 = [-0.06358846]\n",
      "u4 = [0.]\n",
      "v4 = [0.]\n",
      "u5 = [0.]\n",
      "v5 = [0.]\n"
     ]
    }
   ],
   "source": [
    "#globalK.round(0)\n",
    "globalK_inv = inv(globalK)\n",
    "#print(globalK_inv)\n",
    "\n",
    "node = 1\n",
    "\n",
    "uFinal = np.matmul(globalK_inv, forceList)\n",
    "\n",
    "for i in range(len(uFinal)):\n",
    "    if check_even(i) == True:\n",
    "        print(\"u{0} = {1}\".format((node), uFinal[i]))\n",
    "    else:\n",
    "        print(\"v{0} = {1}\".format((node), uFinal[i]))\n",
    "        node += 1 "
   ]
  },
  {
   "attachments": {},
   "cell_type": "markdown",
   "metadata": {},
   "source": [
    "Forces can be found from [K]*[u]"
   ]
  },
  {
   "cell_type": "code",
   "execution_count": 13,
   "metadata": {},
   "outputs": [
    {
     "name": "stdout",
     "output_type": "stream",
     "text": [
      "[[-0.        ]\n",
      " [-2.5       ]\n",
      " [ 0.        ]\n",
      " [ 0.        ]\n",
      " [-0.        ]\n",
      " [-0.        ]\n",
      " [ 8.66025404]\n",
      " [-2.5       ]\n",
      " [-8.66025404]\n",
      " [ 5.        ]]\n",
      "fx1 = [-0.]\n",
      "fy1 = [-2.5]\n",
      "fx2 = [0.]\n",
      "fy2 = [0.]\n",
      "fx3 = [-0.]\n",
      "fy3 = [-0.]\n",
      "fx4 = [8.66025404]\n",
      "fy4 = [-2.5]\n",
      "fx5 = [-8.66025404]\n",
      "fy5 = [5.]\n"
     ]
    }
   ],
   "source": [
    "forcesFinal = np.matmul(unmodified_globalK, uFinal)\n",
    "for i in range(len(forceList)):\n",
    "    if forceList[i] != forcesFinal[i] and forceList[i] != 0 and forceList[i] != None:\n",
    "        forcesFinal[i] = forceList[i]\n",
    "print(forcesFinal)\n",
    "\n",
    "node = 1\n",
    "\n",
    "for i in range(len(forcesFinal)):\n",
    "    if check_even(i) == True:\n",
    "        print(\"fx{0} = {1}\".format((node), forcesFinal[i]))\n",
    "    else:\n",
    "        print(\"fy{0} = {1}\".format((node), forcesFinal[i]))\n",
    "        node += 1 \n"
   ]
  },
  {
   "attachments": {},
   "cell_type": "markdown",
   "metadata": {},
   "source": [
    "## Finding Stresses"
   ]
  },
  {
   "cell_type": "code",
   "execution_count": 14,
   "metadata": {},
   "outputs": [
    {
     "name": "stdout",
     "output_type": "stream",
     "text": [
      "[[0.]\n",
      " [0.]\n",
      " [0.]\n",
      " [0.]\n",
      " [0.]\n",
      " [0.]\n",
      " [0.]]\n",
      "Element 1 starts at node: 1 and ends at node: 2\n",
      "adjusted start node: 0 adjusted end node: 2\n",
      "trigMatrix = \n",
      "[[-0.8660254 -0.5        0.         0.       ]\n",
      " [ 0.         0.        -0.8660254 -0.5      ]]\n",
      "local u matrix: \n",
      "[[ 0.        ]\n",
      " [-0.18717691]\n",
      " [-0.05403332]\n",
      " [-0.06958846]]\n",
      "local length matrix: \n",
      "[[-0.01388889  0.01388889]]\n",
      "Stress in element = [[-5.]]\n",
      "Element 2 starts at node: 1 and ends at node: 3\n",
      "adjusted start node: 0 adjusted end node: 4\n",
      "trigMatrix = \n",
      "[[-1.  0.  0.  0.]\n",
      " [ 0.  0. -1.  0.]]\n",
      "local u matrix: \n",
      "[[ 0.        ]\n",
      " [-0.18717691]\n",
      " [-0.009     ]\n",
      " [-0.06358846]]\n",
      "local length matrix: \n",
      "[[-0.01603751  0.01603751]]\n",
      "Stress in element = [[4.33012702]]\n",
      "Element 3 starts at node: 2 and ends at node: 3\n",
      "adjusted start node: 2 adjusted end node: 4\n",
      "trigMatrix = \n",
      "[[0. 1. 0. 0.]\n",
      " [0. 0. 0. 1.]]\n",
      "local u matrix: \n",
      "[[-0.05403332]\n",
      " [-0.06958846]\n",
      " [-0.009     ]\n",
      " [-0.06358846]]\n",
      "local length matrix: \n",
      "[[-0.02777778  0.02777778]]\n",
      "Stress in element = [[5.]]\n",
      "Element 4 starts at node: 2 and ends at node: 4\n",
      "adjusted start node: 2 adjusted end node: 6\n",
      "trigMatrix = \n",
      "[[-0.8660254  0.5        0.         0.       ]\n",
      " [ 0.         0.        -0.8660254  0.5      ]]\n",
      "local u matrix: \n",
      "[[-0.05403332]\n",
      " [-0.06958846]\n",
      " [ 0.        ]\n",
      " [ 0.        ]]\n",
      "local length matrix: \n",
      "[[-0.01388889  0.01388889]]\n",
      "Stress in element = [[-5.]]\n",
      "Element 5 starts at node: 3 and ends at node: 4\n",
      "adjusted start node: 4 adjusted end node: 6\n",
      "trigMatrix = \n",
      "[[-1.  0.  0.  0.]\n",
      " [ 0.  0. -1.  0.]]\n",
      "local u matrix: \n",
      "[[-0.009     ]\n",
      " [-0.06358846]\n",
      " [ 0.        ]\n",
      " [ 0.        ]]\n",
      "local length matrix: \n",
      "[[-0.01603751  0.01603751]]\n",
      "Stress in element = [[-4.33012702]]\n",
      "Element 6 starts at node: 3 and ends at node: 5\n",
      "adjusted start node: 4 adjusted end node: 8\n",
      "trigMatrix = \n",
      "[[-0.8660254  0.5        0.         0.       ]\n",
      " [ 0.         0.        -0.8660254  0.5      ]]\n",
      "local u matrix: \n",
      "[[-0.009     ]\n",
      " [-0.06358846]\n",
      " [ 0.        ]\n",
      " [ 0.        ]]\n",
      "local length matrix: \n",
      "[[-0.01388889  0.01388889]]\n",
      "Stress in element = [[10.]]\n",
      "Element 7 starts at node: 4 and ends at node: 5\n",
      "adjusted start node: 6 adjusted end node: 8\n",
      "trigMatrix = \n",
      "[[0. 1. 0. 0.]\n",
      " [0. 0. 0. 1.]]\n",
      "local u matrix: \n",
      "[[0.]\n",
      " [0.]\n",
      " [0.]\n",
      " [0.]]\n",
      "local length matrix: \n",
      "[[-0.02777778  0.02777778]]\n",
      "Stress in element = [[0.]]\n"
     ]
    }
   ],
   "source": [
    "stressFinal = np.zeros((numElems, 1))\n",
    "print(stressFinal)\n",
    "for i in range(numElems):\n",
    "    startNode = nodes.value[i,0]\n",
    "    endNode = nodes.value[i,1]\n",
    "    print(\"Element {0} starts at node: {1} and ends at node: {2}\".format((i+1), startNode, endNode))\n",
    "    #print(np.vsplit(kMatrix, 2))\n",
    "    Sn = (startNode - 1)*2\n",
    "    En = (endNode - 1)*2\n",
    "    print(\"adjusted start node: {0} adjusted end node: {1}\".format(Sn, En))\n",
    "    trigMatrix = create_truss_stress_trig_matrix(angles.value[i])\n",
    "    print(\"trigMatrix = \\n{0}\".format(trigMatrix))\n",
    "    local_uMatrix = np.array([\n",
    "        uFinal[Sn], \n",
    "        uFinal[(Sn + 1)], \n",
    "        uFinal[En], \n",
    "        uFinal[(En+1)]\n",
    "        ])\n",
    "    print(\"local u matrix: \\n{0}\".format(local_uMatrix))\n",
    "    localLength = np.array([[(-1/lengths.value[i]), 1/lengths.value[i]]])\n",
    "    print(\"local length matrix: \\n{0}\".format(localLength))\n",
    "\n",
    "    indStress = (trigMatrix @ local_uMatrix)\n",
    "    indStress = localLength @ indStress\n",
    "    indStress *= E.value\n",
    "\n",
    "    stressFinal[i] = indStress\n",
    "    \n",
    "    \n",
    "    print(\"Stress in element = {0}\".format(indStress))\n",
    "\n",
    "    "
   ]
  },
  {
   "cell_type": "code",
   "execution_count": 15,
   "metadata": {},
   "outputs": [
    {
     "name": "stdout",
     "output_type": "stream",
     "text": [
      "[[-5.        ]\n",
      " [ 4.33012702]\n",
      " [ 5.        ]\n",
      " [-5.        ]\n",
      " [-4.33012702]\n",
      " [10.        ]\n",
      " [ 0.        ]]\n"
     ]
    }
   ],
   "source": [
    "print(stressFinal)"
   ]
  },
  {
   "cell_type": "code",
   "execution_count": 16,
   "metadata": {},
   "outputs": [
    {
     "name": "stdout",
     "output_type": "stream",
     "text": [
      "████████████████████████████████████████████████████████████████████████████████████████████████████\n",
      "The nodal displacements, in [in], ordered from lowest to highest numbered node are:\n",
      "[[0.0000]\n",
      " [-0.1872]\n",
      " [-0.0540]\n",
      " [-0.0696]\n",
      " [-0.0090]\n",
      " [-0.0636]\n",
      " [0.0000]\n",
      " [0.0000]\n",
      " [0.0000]\n",
      " [0.0000]]\n",
      "████████████████████████████████████████████████████████████████████████████████████████████████████\n",
      "████████████████████████████████████████████████████████████████████████████████████████████████████\n",
      "\n",
      "The element axial stresses, in [ksi], ordered from lowest to highest numbered element are:\n",
      "[[-5.0000]\n",
      " [4.3301]\n",
      " [5.0000]\n",
      " [-5.0000]\n",
      " [-4.3301]\n",
      " [10.0000]\n",
      " [0.0000]]\n",
      "\n",
      "Note: a (+) value indicates the element is in tension, while a (-) value in compression.\n",
      "\n",
      "████████████████████████████████████████████████████████████████████████████████████████████████████\n"
     ]
    }
   ],
   "source": [
    "np.set_printoptions(suppress=True, formatter={'float':\"{:0.4f}\".format})\n",
    "printNodalDisplacements(uFinal, lengths.unit)\n",
    "printStresses(stressFinal,E.unit)"
   ]
  }
 ],
 "metadata": {
  "kernelspec": {
   "display_name": "base",
   "language": "python",
   "name": "python3"
  },
  "language_info": {
   "codemirror_mode": {
    "name": "ipython",
    "version": 3
   },
   "file_extension": ".py",
   "mimetype": "text/x-python",
   "name": "python",
   "nbconvert_exporter": "python",
   "pygments_lexer": "ipython3",
   "version": "3.9.13"
  },
  "orig_nbformat": 4,
  "vscode": {
   "interpreter": {
    "hash": "9c3bb5a3ca18bff73ecf954c0a15a2dd79a1e96da955174a022efcd9aac1fade"
   }
  }
 },
 "nbformat": 4,
 "nbformat_minor": 2
}

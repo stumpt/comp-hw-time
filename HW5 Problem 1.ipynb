{
 "cells": [
  {
   "cell_type": "code",
   "execution_count": null,
   "metadata": {},
   "outputs": [],
   "source": [
    "import numpy as np\n",
    "import scipy.integrate as integrate\n",
    "from numpy.linalg import inv\n",
    "import math as m\n",
    "from functions import *\n",
    "import importlib\n",
    "\n",
    "%load_ext autoreload\n",
    "\n",
    "%autoreload 2\n",
    "\n",
    "np.set_printoptions(suppress=True)"
   ]
  },
  {
   "attachments": {},
   "cell_type": "markdown",
   "metadata": {},
   "source": [
    "This next block will create a class for all of our inputs to be placed into. This will allow for all inputs to have easily accessed names, values, and units."
   ]
  },
  {
   "cell_type": "code",
   "execution_count": null,
   "metadata": {},
   "outputs": [],
   "source": [
    "class Input:\n",
    "    def __init__(self, name, value, unit):\n",
    "        self.name = name\n",
    "        self.value = value\n",
    "        #self.valueType = type(value)\n",
    "        self.unit = unit\n",
    "    \n",
    "    def printValues(self):\n",
    "        print(\"\\n\")\n",
    "        for attr, value in self.__dict__.items():\n",
    "            print(f\"{attr}: {value}\")"
   ]
  },
  {
   "attachments": {},
   "cell_type": "markdown",
   "metadata": {},
   "source": [
    "# Please fill in all inputs and their units below\n",
    "# v v v v v v v v v v v v v v v v v v v v v v v v v v v v v v v v v v v v v v v "
   ]
  },
  {
   "cell_type": "markdown",
   "metadata": {},
   "source": [
    "For Reference: Units Set: MPa, mm2, mm, N"
   ]
  },
  {
   "cell_type": "code",
   "execution_count": null,
   "metadata": {},
   "outputs": [],
   "source": [
    "YoungsModulus = 210000\n",
    "YM_Unit = \"MPa\"\n",
    "\n",
    "Area = 200\n",
    "A_Unit = \"mm2\"\n",
    "\n",
    "\n",
    "# node connections for each element\n",
    "nArray = np.array([[1,2], [2,3], [3,7], [4,5], [5,6], [6,7], [1,4], [2,5], [3,6], [1,5], [2,6]])\n",
    "print(f\"number of elements: {len(nArray)}\")\n",
    "\n",
    "coords = np.array([[0,0], [4,0], [7,0], [0,2.5], [4,4], [7,4], [8.5,3]])\n",
    "\n",
    "# list of lengths corresponding to each element\n",
    "# the length of element n is contained in lengths\n",
    "\n",
    "\n",
    "\n",
    "# list of angles relative to positive x axis for each element\n",
    "#aArray = np.array([(7/6), 1, 0.5, (5/6), 1, (5/6), 0.5])\n",
    "#aArray *= m.pi\n",
    "\n",
    "Angle_unit = \"rad\"\n",
    "\n",
    "# input boundary conditions below\n",
    "# for displacements: [node#, u, v]\n",
    "# for forces: [node#, Fx, Fy]\n",
    "\n",
    "uv_BCs = np.array([[3, 0, 0],[4, 0, None]])\n",
    "\n",
    "force_BCs = np.array([[4, 0, 3000], [5, 0, -2000], [6, 0, 2000], [7, 0, -5000]])"
   ]
  },
  {
   "attachments": {},
   "cell_type": "markdown",
   "metadata": {},
   "source": [
    "# ^^^^^^^^^^^^^^^^^^^^^^^^^^^^^^^^^^^^^^^^^^^"
   ]
  },
  {
   "cell_type": "code",
   "execution_count": null,
   "metadata": {},
   "outputs": [],
   "source": [
    "print(range(len(coords)))\n"
   ]
  },
  {
   "cell_type": "code",
   "execution_count": null,
   "metadata": {},
   "outputs": [],
   "source": [
    "E = Input(\"Young's Modulus\", YoungsModulus, YM_Unit)\n",
    "\n",
    "A = Input(\"Area\", Area, A_Unit)\n",
    "\n",
    "nodes = Input(\"Node numbers\", nArray, \"None\")\n",
    "nodes.printValues()\n",
    "\n",
    "\n",
    "\n",
    "nodeCoordinates = Input(\"Node Coordinates (x, y)\", coords, \"None\")\n",
    "nodeCoordinates.printValues()"
   ]
  },
  {
   "attachments": {},
   "cell_type": "markdown",
   "metadata": {},
   "source": [
    "number of elements is the number of rows in nodes\n",
    "<br>number of nodes is the maximum number found in nodes"
   ]
  },
  {
   "cell_type": "code",
   "execution_count": null,
   "metadata": {},
   "outputs": [],
   "source": [
    "numElems = len(nodes.value)\n",
    "print(f\"number of elements: {numElems}\")\n",
    "numNodes = nodes.value.max()\n",
    "print(f\"number of nodes: {numNodes}\")"
   ]
  },
  {
   "cell_type": "code",
   "execution_count": null,
   "metadata": {},
   "outputs": [],
   "source": [
    "length = np.zeros(numElems)\n",
    "Length_unit = \"mm\"\n",
    "print(length)\n",
    "\n",
    "angle = np.zeros(numElems)\n",
    "print(len(angle))\n",
    "\n",
    "for i in range(numElems):\n",
    "    connection = nodes.value[i]\n",
    "    N1 = connection[0]\n",
    "    N2 = connection[1]\n",
    "    x1 = (nodeCoordinates.value[N1-1])[0]\n",
    "    y1 = (nodeCoordinates.value[N1-1])[1]\n",
    "\n",
    "    x2 = (nodeCoordinates.value[N2-1])[0]\n",
    "    y2 = (nodeCoordinates.value[N2-1])[1]\n",
    "    length[i] = getTrussLength(x1, y1, x2, y2)\n",
    "    opposite = y2 - y1\n",
    "    adjacent = x2 - x1\n",
    "    angle[i] = m.atan(opposite/adjacent)\n",
    "    \n",
    "    print(f\"element {i+1}: length = {length[i]} m; angle = {angle[i]}\")\n",
    "\n",
    "length *= 1000\n",
    "print(length)\n",
    "\n",
    "print(angle)\n",
    "\n",
    "lengths = Input(\"Lengths\", length, Length_unit)\n",
    "lengths.printValues()\n",
    "\n",
    "angles = Input(\"Element Angles (relative to the positive x axis)\", angle, Angle_unit)\n",
    "angles.printValues()"
   ]
  },
  {
   "attachments": {},
   "cell_type": "markdown",
   "metadata": {},
   "source": [
    "two reactions per node\n",
    "<br>uvList -> list of unknowns (node displacements)\n",
    "<br>we can input our known values -> fixed_nodes at nodes 4 & 5\n",
    "<br>these fixed nodes numbers are taken straight from diagram (not adjusted for python counting)\n",
    "<br><br>u and v for any given node is given as (node# - 1)* 2 and ((node# -1)* 2) + 1 respectively.\n"
   ]
  },
  {
   "cell_type": "code",
   "execution_count": null,
   "metadata": {},
   "outputs": [],
   "source": [
    "uvList = [None]*(numNodes*2)\n",
    "print(\"displacement bcs: [node number, x disp (u), y disp (v)]\")\n",
    "print(uv_BCs)\n",
    "\n",
    "adjust_array(uvList, uv_BCs, \"displacements\")\n",
    "print(\"u & v list:\")\n",
    "print(uvList)"
   ]
  },
  {
   "attachments": {},
   "cell_type": "markdown",
   "metadata": {},
   "source": [
    "Same procedure as displacement BCs for forces\n",
    "<br>Input BCs given as : [node #, x force, y force]"
   ]
  },
  {
   "cell_type": "code",
   "execution_count": null,
   "metadata": {},
   "outputs": [],
   "source": [
    "#forceList = [0]*(numNodes*2)\n",
    "forceList = np.zeros(((numNodes*2), 1))\n",
    "\n",
    "nodesWithLoads = []\n",
    "\n",
    "loadedNodes = 0\n",
    "\n",
    "for i in range(len(force_BCs)):\n",
    "    if force_BCs[i,1] or force_BCs[i,2] != None:\n",
    "        loadedNodes += 1\n",
    "        nodesWithLoads.append((force_BCs[i,0] - 1))\n",
    "\n",
    "\n",
    "print(f\"number of nodes with concentrated loads: {loadedNodes}\")\n",
    "print(f\"at nodes: {nodesWithLoads}\")\n",
    "\n",
    "#adjust force array given concentrated loading conditions\n",
    "adjust_array(forceList, force_BCs, \"forces\")\n",
    "\n",
    "print(f\"force list: \\n{forceList}\")"
   ]
  },
  {
   "attachments": {},
   "cell_type": "markdown",
   "metadata": {},
   "source": [
    "Global [k] matrix is a symmetric array of shape (numNodes x 2, numNodes x 2)\n",
    "<br>Bar Constants are one per element, stored in a numElemes * 1 array."
   ]
  },
  {
   "cell_type": "code",
   "execution_count": null,
   "metadata": {},
   "outputs": [],
   "source": [
    "globalK = np.zeros(((numNodes*2),(numNodes*2)))\n",
    "print(f\"Global K array dimensions: {globalK.shape}\")\n",
    "\n",
    "barConstant = np.zeros((numElems,1))\n",
    "for i in range(numElems):\n",
    "    print(f\"E = {E.value}, A ={A.value}, length for element {i+1} = {lengths.value[i]}\")\n",
    "    barConstant[i] = (E.value*A.value)/lengths.value[i]\n",
    "\n",
    "print(f\"Bar Constants = \\n{barConstant}\")"
   ]
  },
  {
   "attachments": {},
   "cell_type": "markdown",
   "metadata": {},
   "source": [
    "## Creating the finite element equation for each Truss Element\n",
    "### Combining into the global K array"
   ]
  },
  {
   "cell_type": "code",
   "execution_count": null,
   "metadata": {},
   "outputs": [],
   "source": [
    "for i in range(numElems):\n",
    "    kMatrix = create_truss_k(angles.value[i])\n",
    "    kMatrix *= barConstant[i]\n",
    "    print(f\"\\nk matrix for element {i+1}: \\n{kMatrix}\")\n",
    "    #print(kMatrix)\n",
    "    startNode = nodes.value[i,0]\n",
    "    endNode = nodes.value[i,1]\n",
    "    print(f\"Element {i+1} starting at node: {startNode} and ending at node: {endNode}\")\n",
    "    #print(np.vsplit(kMatrix, 2))\n",
    "    Sn = (startNode - 1)*2\n",
    "    En = (endNode - 1)*2\n",
    "    #first, adjust 0,0 -> then, 2,0; 0,2; and 2,2\n",
    "    block_array_adjust(Sn, Sn, globalK, 0, 0, kMatrix)\n",
    "    block_array_adjust(En, Sn, globalK, 2, 0, kMatrix)\n",
    "    block_array_adjust(Sn, En, globalK, 0, 2, kMatrix)\n",
    "    block_array_adjust(En, En, globalK, 2, 2, kMatrix)\n",
    "\n",
    "print(f\"\\nGlobal K matrix: \\n{globalK}\")\n",
    "unmodified_globalK = globalK.copy()\n",
    "check_Symmetric(globalK)"
   ]
  },
  {
   "cell_type": "code",
   "execution_count": null,
   "metadata": {},
   "outputs": [],
   "source": [
    "j = 0\n",
    "while j < numNodes*2:\n",
    "    print(f\"{j}\")\n",
    "    #if j in nodesWithLoads:\n",
    "     #   j+=2\n",
    "    #first case: displacement BC = 0. In this case, set combined force values to 0, and alter \n",
    "    #globalK to reflect the changes.\n",
    "    if uvList[j] == 0:\n",
    "        print(f\"u = 0 at row: {j}\")\n",
    "        forceList[j] = 0 \n",
    "        globalK[j] = 0\n",
    "        globalK[j,j] = 1\n",
    "        j+=1\n",
    "    elif uvList[j] == None:\n",
    "        print(f\"none detected at row {j}\")\n",
    "        j+=1\n",
    "    else: #when we have a known, non-zero displacement boundary condition\n",
    "        #alter global stiffness to all zeros and one 1, and set force equal to displacement BC\n",
    "        print(f\"row {j} altered\")\n",
    "        print(uvList[j])\n",
    "        forceList[j] = uvList[j]\n",
    "        for c in range(numNodes):\n",
    "            if (globalK[j,c] > 0) == True:\n",
    "                globalK[j,c] = 1\n",
    "            else:\n",
    "                globalK[j,c] = 0\n",
    "        j+=1\n",
    "\n",
    "                \n",
    "print(globalK)\n",
    "print(forceList)"
   ]
  },
  {
   "cell_type": "code",
   "execution_count": null,
   "metadata": {},
   "outputs": [],
   "source": [
    "#globalK.round(0)\n",
    "globalK_inv = inv(globalK)\n",
    "#print(globalK_inv)\n",
    "\n",
    "node = 1\n",
    "\n",
    "uFinal = np.matmul(globalK_inv, forceList)\n",
    "\n",
    "for i in range(len(uFinal)):\n",
    "    if check_even(i) == True:\n",
    "        print(f\"u{node} = {uFinal[i]}\")\n",
    "    else:\n",
    "        print(f\"v{node} = {uFinal[i]}\\n\")\n",
    "        node += 1 "
   ]
  },
  {
   "attachments": {},
   "cell_type": "markdown",
   "metadata": {},
   "source": [
    "Forces can be found from [K]*[u]"
   ]
  },
  {
   "cell_type": "code",
   "execution_count": null,
   "metadata": {},
   "outputs": [],
   "source": [
    "forcesFinal = np.matmul(unmodified_globalK, uFinal)\n",
    "for i in range(len(forceList)):\n",
    "    if forceList[i] != forcesFinal[i] and forceList[i] != 0 and forceList[i] != None:\n",
    "        forcesFinal[i] = forceList[i]\n",
    "print(f\"Final Forces: \\n{forcesFinal}\")\n",
    "\n",
    "node = 1\n",
    "\n",
    "for i in range(len(forcesFinal)):\n",
    "    if check_even(i) == True:\n",
    "        print(f\"fx{node} = {forcesFinal[i]}\")\n",
    "    else:\n",
    "        print(f\"fy{node} = {forcesFinal[i]}\")\n",
    "        node += 1 \n"
   ]
  },
  {
   "attachments": {},
   "cell_type": "markdown",
   "metadata": {},
   "source": [
    "## Finding Stresses"
   ]
  },
  {
   "cell_type": "code",
   "execution_count": null,
   "metadata": {},
   "outputs": [],
   "source": [
    "stressFinal = np.zeros((numElems, 1))\n",
    "print(stressFinal)\n",
    "for i in range(numElems):\n",
    "    startNode = nodes.value[i,0]\n",
    "    endNode = nodes.value[i,1]\n",
    "    print(f\"Element {i+1} starts at node: {startNode} and ends at node: {endNode}\")\n",
    "    #print(np.vsplit(kMatrix, 2))\n",
    "    Sn = (startNode - 1)*2\n",
    "    En = (endNode - 1)*2\n",
    "    print(f\"adjusted start node: {Sn} adjusted end node: {En}\")\n",
    "    trigMatrix = create_truss_stress_trig_matrix(angles.value[i])\n",
    "    print(f\"trigMatrix = \\n{trigMatrix}\")\n",
    "    local_uMatrix = np.array([\n",
    "        uFinal[Sn], \n",
    "        uFinal[(Sn + 1)], \n",
    "        uFinal[En], \n",
    "        uFinal[(En+1)]\n",
    "        ])\n",
    "    print(f\"local u matrix: \\n{local_uMatrix}\")\n",
    "    localLength = np.array([[(-1/lengths.value[i]), 1/lengths.value[i]]])\n",
    "    print(f\"local length matrix: \\n{localLength}\")\n",
    "\n",
    "    indStress = (trigMatrix @ local_uMatrix)\n",
    "    indStress = localLength @ indStress\n",
    "    indStress *= E.value\n",
    "\n",
    "    stressFinal[i] = indStress\n",
    "    \n",
    "    \n",
    "    print(f\"Stress in element = {indStress}\")\n",
    "\n",
    "    "
   ]
  },
  {
   "cell_type": "code",
   "execution_count": null,
   "metadata": {},
   "outputs": [],
   "source": [
    "print(stressFinal)"
   ]
  },
  {
   "cell_type": "code",
   "execution_count": null,
   "metadata": {},
   "outputs": [],
   "source": [
    "np.set_printoptions(suppress=True, formatter={'float':\"{:0.4f}\".format})\n",
    "printTrussNodalDisplacements(uFinal, lengths.unit)\n",
    "printStresses(stressFinal,E.unit)"
   ]
  }
 ],
 "metadata": {
  "kernelspec": {
   "display_name": "base",
   "language": "python",
   "name": "python3"
  },
  "language_info": {
   "codemirror_mode": {
    "name": "ipython",
    "version": 3
   },
   "file_extension": ".py",
   "mimetype": "text/x-python",
   "name": "python",
   "nbconvert_exporter": "python",
   "pygments_lexer": "ipython3",
   "version": "3.9.13"
  },
  "orig_nbformat": 4,
  "vscode": {
   "interpreter": {
    "hash": "9c3bb5a3ca18bff73ecf954c0a15a2dd79a1e96da955174a022efcd9aac1fade"
   }
  }
 },
 "nbformat": 4,
 "nbformat_minor": 2
}

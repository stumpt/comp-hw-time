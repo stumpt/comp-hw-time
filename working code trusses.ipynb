{
 "cells": [
  {
   "cell_type": "code",
   "execution_count": null,
   "metadata": {},
   "outputs": [],
   "source": [
    "import numpy as np\n",
    "import scipy.integrate as integrate\n",
    "from numpy.linalg import inv\n",
    "import math as m\n",
    "from functions import *\n",
    "import importlib\n",
    "\n",
    "%load_ext autoreload\n",
    "\n",
    "%autoreload 2\n",
    "\n",
    "np.set_printoptions(suppress=True)"
   ]
  },
  {
   "cell_type": "markdown",
   "metadata": {},
   "source": []
  },
  {
   "attachments": {},
   "cell_type": "markdown",
   "metadata": {},
   "source": [
    "This next block will create a class for all of our inputs to be placed into. This will allow for all inputs to have easily accessed names, values, and units."
   ]
  },
  {
   "cell_type": "code",
   "execution_count": null,
   "metadata": {},
   "outputs": [],
   "source": [
    "class Input:\n",
    "    def __init__(self, name, value, unit):\n",
    "        self.name = name\n",
    "        self.value = value\n",
    "        #self.valueType = type(value)\n",
    "        self.unit = unit\n",
    "    \n",
    "    def printValues(self):\n",
    "        for attr, value in self.__dict__.items():\n",
    "            print(\"\\nAttribute: \" + str(attr))\n",
    "            print(\"Value: {0}\".format(value))"
   ]
  },
  {
   "cell_type": "code",
   "execution_count": null,
   "metadata": {},
   "outputs": [],
   "source": [
    "print(m.acos(4/5)/m.pi)"
   ]
  },
  {
   "cell_type": "code",
   "execution_count": null,
   "metadata": {},
   "outputs": [],
   "source": [
    "nArray = np.array([[1,2], [1,3], [1,4]])\n",
    "nodes = Input(\"Node numbers\", nArray, \"None\")\n",
    "nodes.printValues()\n",
    "\n",
    "# list of lengths corresponding to each element\n",
    "# the length of element n is contained in lengt\n",
    "\n",
    "lArray = np.array([1600, 2000, 1200])\n",
    "lengths = Input(\"Lengths\", lArray, \"[m]\")\n",
    "lengths.printValues()\n",
    "\n",
    "# list of angles relative to positive x axis for each element\n",
    "aArray = np.array([1, (1 + m.acos(4/5)/m.pi), 1.5])\n",
    "aArray *= m.pi\n",
    "angles = Input(\"Element Angles (relative to the positive x axis)\", aArray, \"[rad]\")\n",
    "angles.printValues()"
   ]
  },
  {
   "attachments": {},
   "cell_type": "markdown",
   "metadata": {},
   "source": [
    "Constants Inputs\n",
    "<br>Units are : MPa, mm, mm2 , N/mm, N"
   ]
  },
  {
   "cell_type": "code",
   "execution_count": null,
   "metadata": {},
   "outputs": [],
   "source": [
    "E = 120000\n",
    "A = 500\n",
    "P1x = 25000\n"
   ]
  },
  {
   "attachments": {},
   "cell_type": "markdown",
   "metadata": {},
   "source": [
    "number of elements is the number of rows in nodes\n",
    "<br>number of nodes is the maximum number found in nodes"
   ]
  },
  {
   "cell_type": "code",
   "execution_count": null,
   "metadata": {},
   "outputs": [],
   "source": [
    "numElems = len(nodes.value)\n",
    "print(numElems)\n",
    "numNodes = nodes.value.max()\n",
    "print(numNodes)"
   ]
  },
  {
   "attachments": {},
   "cell_type": "markdown",
   "metadata": {},
   "source": [
    "displacements in mm, two reactions per node\n",
    "<br>uvList -> list of unknowns (node displacements)\n",
    "<br>we can input our known values -> fixed_nodes at nodes 4 & 5\n",
    "<br>these fixed nodes numbers are taken straight from diagram (not adjusted for python counting)\n",
    "<br><br>u and v for any given node is given as (node# - 1)* 2 and ((node# -1)* 2) + 1 respectively.\n",
    "<br><br>this setup is advantageous over a numnodes x 2 array as it allows for easier value access later, when many sub-arrays will be required.\n"
   ]
  },
  {
   "cell_type": "code",
   "execution_count": null,
   "metadata": {},
   "outputs": [],
   "source": [
    "uvList = [None]*(numNodes*2)\n",
    "uv_BCs = np.array([[2,0,0],[3,0,0],[4,0,0]])\n",
    "print(\"displacement bcs: [node number, x disp (u), y disp (v)]\")\n",
    "print(uv_BCs)"
   ]
  },
  {
   "cell_type": "code",
   "execution_count": null,
   "metadata": {},
   "outputs": [],
   "source": [
    "adjust_array(uvList, uv_BCs, \"displacements\")\n",
    "\n",
    "print(\"u & v list:\")\n",
    "print(uvList)"
   ]
  },
  {
   "attachments": {},
   "cell_type": "markdown",
   "metadata": {},
   "source": [
    "Same procedure as displacement BCs for forces\n",
    "<br>Input BCs given as : [node #, x force, y force]"
   ]
  },
  {
   "cell_type": "code",
   "execution_count": null,
   "metadata": {},
   "outputs": [],
   "source": [
    "#forceList = [0]*(numNodes*2)\n",
    "forceList = np.zeros(((numNodes*2), 1))\n",
    "\n",
    "nodesWithLoads = []\n",
    "\n",
    "force_BCs = np.array([[1, P1x, 0],[2, None, None], [3, None, None], [4, None, None]])\n",
    "print(len(force_BCs))\n",
    "loadedNodes = 0\n",
    "for i in range(len(force_BCs)):\n",
    "    if force_BCs[i,1] or force_BCs[i,2] != None:\n",
    "        loadedNodes += 1\n",
    "        nodesWithLoads.append((force_BCs[i,0] - 1))\n",
    "\n",
    "\n",
    "print(\"number of nodes with concentrated loads: {0}\".format(loadedNodes))\n",
    "print(\"at nodes: {0}\".format(nodesWithLoads))\n",
    "\n",
    "#adjust force array given concentrated loading conditions\n",
    "adjust_array(forceList, force_BCs, \"forces\")\n",
    "\n",
    "print(\"force list: \")\n",
    "print(forceList)"
   ]
  },
  {
   "attachments": {},
   "cell_type": "markdown",
   "metadata": {},
   "source": [
    "Global [k] matrix is a symmetric array of shape (numNodes x 2, numNodes x 2)\n",
    "<br>Bar Constants are one per element, stored in a numElemes * 1 array."
   ]
  },
  {
   "cell_type": "code",
   "execution_count": null,
   "metadata": {},
   "outputs": [],
   "source": [
    "globalK = np.zeros(((numNodes*2),(numNodes*2)))\n",
    "print(globalK.shape)\n",
    "\n",
    "barConstant = np.zeros((numElems,1))\n",
    "for i in range(numElems):\n",
    "    barConstant[i] = (E*A)/lengths.value[i]\n",
    "\n",
    "print(\"Bar Constants = \")\n",
    "print(barConstant)"
   ]
  },
  {
   "attachments": {},
   "cell_type": "markdown",
   "metadata": {},
   "source": [
    "## Creating the finite element equation for each Truss Element\n",
    "### Combining into the global K array"
   ]
  },
  {
   "cell_type": "code",
   "execution_count": null,
   "metadata": {},
   "outputs": [],
   "source": [
    "for i in range(numElems):\n",
    "    kMatrix = create_truss_k(angles.value[i])\n",
    "    kMatrix *= barConstant[i]\n",
    "    print(\"\\nk matrix for element {1}: \\n{0}\".format(kMatrix, (i+1)))\n",
    "    #print(kMatrix)\n",
    "    startNode = nodes.value[i,0]\n",
    "    endNode = nodes.value[i,1]\n",
    "    print(\"Element \" + str(i+1) + \" starting at node: \" + str(startNode) + \" and ending at node: \" + str(endNode))\n",
    "    #print(np.vsplit(kMatrix, 2))\n",
    "    Sn = (startNode - 1)*2\n",
    "    En = (endNode - 1)*2\n",
    "    #first, adjust 0,0 -> then, 2,0; 0,2; and 2,2\n",
    "    block_array_adjust(Sn, Sn, globalK, 0, 0, kMatrix)\n",
    "    block_array_adjust(En, Sn, globalK, 2, 0, kMatrix)\n",
    "    block_array_adjust(Sn, En, globalK, 0, 2, kMatrix)\n",
    "    block_array_adjust(En, En, globalK, 2, 2, kMatrix)\n",
    "\n",
    "print(\"\\nGlobal K matrix: \\n{0}\".format(globalK))\n",
    "unmodified_globalK = globalK.copy()\n",
    "check_Symmetric(globalK)"
   ]
  },
  {
   "cell_type": "code",
   "execution_count": null,
   "metadata": {},
   "outputs": [],
   "source": [
    "#print(inv(globalK))\n",
    "u = np.linalg.inv(globalK).dot(forceList)\n",
    "print(u)"
   ]
  },
  {
   "cell_type": "code",
   "execution_count": null,
   "metadata": {},
   "outputs": [],
   "source": [
    "j = 0\n",
    "while j < numNodes*2:\n",
    "    print(str(j))\n",
    "    if j in nodesWithLoads:\n",
    "        j+=2\n",
    "    #first case: displacement BC = 0. In this case, set combined force values to 0, and alter \n",
    "    #globalK to reflect the changes.\n",
    "    elif uvList[j] == 0:\n",
    "        print(\"u = 0 at row: \" + str(j))\n",
    "        forceList[j] = 0 \n",
    "        globalK[j] = 0\n",
    "        globalK[j,j] = 1\n",
    "        j+=1\n",
    "    elif uvList[j] == None:\n",
    "        print(\"none detected at row \" + str(j))\n",
    "        j+=1\n",
    "    else: #when we have a known, non-zero displacement boundary condition\n",
    "        #alter global stiffness to all zeros and one 1, and set force equal to displacement BC\n",
    "        print(\"row \" + str(j) + \" altered\")\n",
    "        print(uvList[j])\n",
    "        forceList[j] = uvList[j]\n",
    "        for c in range(numNodes):\n",
    "            if (globalK[j,c] > 0) == True:\n",
    "                globalK[j,c] = 1\n",
    "            else:\n",
    "                globalK[j,c] = 0\n",
    "        j+=1\n",
    "\n",
    "                \n",
    "print(globalK)\n",
    "print(forceList)"
   ]
  },
  {
   "cell_type": "code",
   "execution_count": null,
   "metadata": {},
   "outputs": [],
   "source": [
    "#globalK.round(0)\n",
    "globalK_inv = inv(globalK)\n",
    "#print(globalK_inv)\n",
    "\n",
    "node = 1\n",
    "\n",
    "uFinal = np.matmul(globalK_inv, forceList)\n",
    "\n",
    "for i in range(len(uFinal)):\n",
    "    if check_even(i) == True:\n",
    "        print(\"u{0} = {1}\".format((node), uFinal[i]))\n",
    "    else:\n",
    "        print(\"v{0} = {1}\".format((node), uFinal[i]))\n",
    "        node += 1 "
   ]
  },
  {
   "attachments": {},
   "cell_type": "markdown",
   "metadata": {},
   "source": [
    "Forces can be found from [K]*[u]"
   ]
  },
  {
   "cell_type": "code",
   "execution_count": null,
   "metadata": {},
   "outputs": [],
   "source": [
    "forcesFinal = np.matmul(unmodified_globalK, uFinal)\n",
    "for i in range(len(forceList)):\n",
    "    if forceList[i] != forcesFinal[i] and forceList[i] != 0 and forceList[i] != None:\n",
    "        forcesFinal[i] = forceList[i]\n",
    "print(forcesFinal)\n",
    "\n",
    "node = 1\n",
    "\n",
    "for i in range(len(forcesFinal)):\n",
    "    if check_even(i) == True:\n",
    "        print(\"fx{0} = {1}\".format((node), forcesFinal[i]))\n",
    "    else:\n",
    "        print(\"fy{0} = {1}\".format((node), forcesFinal[i]))\n",
    "        node += 1 \n"
   ]
  },
  {
   "attachments": {},
   "cell_type": "markdown",
   "metadata": {},
   "source": [
    "## Finding Stresses"
   ]
  },
  {
   "cell_type": "code",
   "execution_count": null,
   "metadata": {},
   "outputs": [],
   "source": [
    "stressFinal = np.zeros((numElems, 1))\n",
    "print(stressFinal)\n",
    "for i in range(numElems):\n",
    "    startNode = nodes.value[i,0]\n",
    "    endNode = nodes.value[i,1]\n",
    "    print(\"Element {0} starts at node: {1} and ends at node: {2}\".format((i+1), startNode, endNode))\n",
    "    #print(np.vsplit(kMatrix, 2))\n",
    "    Sn = (startNode - 1)*2\n",
    "    En = (endNode - 1)*2\n",
    "    print(\"adjusted start node: {0} adjusted end node: {1}\".format(Sn, En))\n",
    "    trigMatrix = create_truss_stress_trig_matrix(angles.value[i])\n",
    "    print(\"trigMatrix = \\n{0}\".format(trigMatrix))\n",
    "    local_uMatrix = np.array([\n",
    "        uFinal[Sn], \n",
    "        uFinal[(Sn + 1)], \n",
    "        uFinal[En], \n",
    "        uFinal[(En+1)]\n",
    "        ])\n",
    "    print(\"local u matrix: \\n{0}\".format(local_uMatrix))\n",
    "    localLength = np.array([[(-1/lengths.value[i]), 1/lengths.value[i]]])\n",
    "    print(\"local length matrix: \\n{0}\".format(localLength))\n",
    "\n",
    "    indStress = (trigMatrix @ local_uMatrix)\n",
    "    indStress = localLength @ indStress\n",
    "    indStress *= E\n",
    "\n",
    "    stressFinal[i] = indStress\n",
    "    \n",
    "    \n",
    "    print(\"Stress in element = {0}\".format(indStress))\n",
    "\n",
    "    "
   ]
  },
  {
   "cell_type": "code",
   "execution_count": null,
   "metadata": {},
   "outputs": [],
   "source": [
    "print(stressFinal)"
   ]
  }
 ],
 "metadata": {
  "kernelspec": {
   "display_name": "base",
   "language": "python",
   "name": "python3"
  },
  "language_info": {
   "codemirror_mode": {
    "name": "ipython",
    "version": 3
   },
   "file_extension": ".py",
   "mimetype": "text/x-python",
   "name": "python",
   "nbconvert_exporter": "python",
   "pygments_lexer": "ipython3",
   "version": "3.9.13"
  },
  "orig_nbformat": 4,
  "vscode": {
   "interpreter": {
    "hash": "9c3bb5a3ca18bff73ecf954c0a15a2dd79a1e96da955174a022efcd9aac1fade"
   }
  }
 },
 "nbformat": 4,
 "nbformat_minor": 2
}
